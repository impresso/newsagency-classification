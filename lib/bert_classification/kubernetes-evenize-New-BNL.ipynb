{
 "cells": [
  {
   "cell_type": "code",
   "execution_count": 1,
   "metadata": {
    "scrolled": true
   },
   "outputs": [
    {
     "name": "stdout",
     "output_type": "stream",
     "text": [
      "Collecting git+https://github.com/SeguinBe/dask_k8.git\n",
      "  Cloning https://github.com/SeguinBe/dask_k8.git to /tmp/pip-req-build-pkobgy6w\n",
      "  Running command git clone -q https://github.com/SeguinBe/dask_k8.git /tmp/pip-req-build-pkobgy6w\n",
      "Requirement already satisfied (use --upgrade to upgrade): dask-k8==0.1.1 from git+https://github.com/SeguinBe/dask_k8.git in /home/ehrmann/.local/share/virtualenvs/impresso-pyindexation-7yA7z983/lib/python3.6/site-packages\n",
      "Requirement already satisfied: distributed>=1.27 in /home/ehrmann/.local/share/virtualenvs/impresso-pyindexation-7yA7z983/lib/python3.6/site-packages (from dask-k8==0.1.1) (2.0.1)\n",
      "Requirement already satisfied: requests>=2.20 in /home/ehrmann/.local/share/virtualenvs/impresso-pyindexation-7yA7z983/lib/python3.6/site-packages (from dask-k8==0.1.1) (2.22.0)\n",
      "Requirement already satisfied: kubernetes>=9.0 in /home/ehrmann/.local/share/virtualenvs/impresso-pyindexation-7yA7z983/lib/python3.6/site-packages (from dask-k8==0.1.1) (9.0.0)\n",
      "Requirement already satisfied: zict>=0.1.3 in /home/ehrmann/.local/share/virtualenvs/impresso-pyindexation-7yA7z983/lib/python3.6/site-packages (from distributed>=1.27->dask-k8==0.1.1) (1.0.0)\n",
      "Requirement already satisfied: click>=6.6 in /home/ehrmann/.local/share/virtualenvs/impresso-pyindexation-7yA7z983/lib/python3.6/site-packages (from distributed>=1.27->dask-k8==0.1.1) (7.0)\n",
      "Requirement already satisfied: tblib in /home/ehrmann/.local/share/virtualenvs/impresso-pyindexation-7yA7z983/lib/python3.6/site-packages (from distributed>=1.27->dask-k8==0.1.1) (1.4.0)\n",
      "Requirement already satisfied: six in /home/ehrmann/.local/share/virtualenvs/impresso-pyindexation-7yA7z983/lib/python3.6/site-packages (from distributed>=1.27->dask-k8==0.1.1) (1.12.0)\n",
      "Requirement already satisfied: msgpack in /home/ehrmann/.local/share/virtualenvs/impresso-pyindexation-7yA7z983/lib/python3.6/site-packages (from distributed>=1.27->dask-k8==0.1.1) (0.6.1)\n",
      "Collecting dask>=2 (from distributed>=1.27->dask-k8==0.1.1)\n",
      "\u001B[?25l  Downloading https://files.pythonhosted.org/packages/bd/c0/ac42b459c77223b503fbfcc030850524c95170d27a5bcbf9ffb6fe129b5a/dask-2.0.0-py3-none-any.whl (760kB)\n",
      "\u001B[K     |████████████████████████████████| 768kB 3.4MB/s eta 0:00:01\n",
      "\u001B[?25hRequirement already satisfied: cloudpickle>=0.2.2 in /home/ehrmann/.local/share/virtualenvs/impresso-pyindexation-7yA7z983/lib/python3.6/site-packages (from distributed>=1.27->dask-k8==0.1.1) (1.2.1)\n",
      "Requirement already satisfied: sortedcontainers!=2.0.0,!=2.0.1 in /home/ehrmann/.local/share/virtualenvs/impresso-pyindexation-7yA7z983/lib/python3.6/site-packages (from distributed>=1.27->dask-k8==0.1.1) (2.1.0)\n",
      "Requirement already satisfied: toolz>=0.7.4 in /home/ehrmann/.local/share/virtualenvs/impresso-pyindexation-7yA7z983/lib/python3.6/site-packages (from distributed>=1.27->dask-k8==0.1.1) (0.9.0)\n",
      "Requirement already satisfied: pyyaml in /home/ehrmann/.local/share/virtualenvs/impresso-pyindexation-7yA7z983/lib/python3.6/site-packages (from distributed>=1.27->dask-k8==0.1.1) (5.1.1)\n",
      "Requirement already satisfied: tornado>=5 in /home/ehrmann/.local/share/virtualenvs/impresso-pyindexation-7yA7z983/lib/python3.6/site-packages (from distributed>=1.27->dask-k8==0.1.1) (6.0.3)\n",
      "Requirement already satisfied: psutil>=5.0 in /home/ehrmann/.local/share/virtualenvs/impresso-pyindexation-7yA7z983/lib/python3.6/site-packages (from distributed>=1.27->dask-k8==0.1.1) (5.6.3)\n",
      "Requirement already satisfied: certifi>=2017.4.17 in /home/ehrmann/.local/share/virtualenvs/impresso-pyindexation-7yA7z983/lib/python3.6/site-packages (from requests>=2.20->dask-k8==0.1.1) (2019.6.16)\n",
      "Requirement already satisfied: urllib3!=1.25.0,!=1.25.1,<1.26,>=1.21.1 in /home/ehrmann/.local/share/virtualenvs/impresso-pyindexation-7yA7z983/lib/python3.6/site-packages (from requests>=2.20->dask-k8==0.1.1) (1.25.3)\n",
      "Requirement already satisfied: idna<2.9,>=2.5 in /home/ehrmann/.local/share/virtualenvs/impresso-pyindexation-7yA7z983/lib/python3.6/site-packages (from requests>=2.20->dask-k8==0.1.1) (2.8)\n",
      "Requirement already satisfied: chardet<3.1.0,>=3.0.2 in /home/ehrmann/.local/share/virtualenvs/impresso-pyindexation-7yA7z983/lib/python3.6/site-packages (from requests>=2.20->dask-k8==0.1.1) (3.0.4)\n",
      "Requirement already satisfied: google-auth>=1.0.1 in /home/ehrmann/.local/share/virtualenvs/impresso-pyindexation-7yA7z983/lib/python3.6/site-packages (from kubernetes>=9.0->dask-k8==0.1.1) (1.6.3)\n",
      "Requirement already satisfied: websocket-client!=0.40.0,!=0.41.*,!=0.42.*,>=0.32.0 in /home/ehrmann/.local/share/virtualenvs/impresso-pyindexation-7yA7z983/lib/python3.6/site-packages (from kubernetes>=9.0->dask-k8==0.1.1) (0.56.0)\n",
      "Requirement already satisfied: python-dateutil>=2.5.3 in /home/ehrmann/.local/share/virtualenvs/impresso-pyindexation-7yA7z983/lib/python3.6/site-packages (from kubernetes>=9.0->dask-k8==0.1.1) (2.8.0)\n",
      "Requirement already satisfied: requests-oauthlib in /home/ehrmann/.local/share/virtualenvs/impresso-pyindexation-7yA7z983/lib/python3.6/site-packages (from kubernetes>=9.0->dask-k8==0.1.1) (1.2.0)\n",
      "Requirement already satisfied: setuptools>=21.0.0 in /home/ehrmann/.local/share/virtualenvs/impresso-pyindexation-7yA7z983/lib/python3.6/site-packages (from kubernetes>=9.0->dask-k8==0.1.1) (41.0.1)\n",
      "Requirement already satisfied: heapdict in /home/ehrmann/.local/share/virtualenvs/impresso-pyindexation-7yA7z983/lib/python3.6/site-packages (from zict>=0.1.3->distributed>=1.27->dask-k8==0.1.1) (1.0.0)\n",
      "Requirement already satisfied: rsa>=3.1.4 in /home/ehrmann/.local/share/virtualenvs/impresso-pyindexation-7yA7z983/lib/python3.6/site-packages (from google-auth>=1.0.1->kubernetes>=9.0->dask-k8==0.1.1) (4.0)\n",
      "Requirement already satisfied: pyasn1-modules>=0.2.1 in /home/ehrmann/.local/share/virtualenvs/impresso-pyindexation-7yA7z983/lib/python3.6/site-packages (from google-auth>=1.0.1->kubernetes>=9.0->dask-k8==0.1.1) (0.2.5)\n",
      "Requirement already satisfied: cachetools>=2.0.0 in /home/ehrmann/.local/share/virtualenvs/impresso-pyindexation-7yA7z983/lib/python3.6/site-packages (from google-auth>=1.0.1->kubernetes>=9.0->dask-k8==0.1.1) (3.1.1)\n",
      "Requirement already satisfied: oauthlib>=3.0.0 in /home/ehrmann/.local/share/virtualenvs/impresso-pyindexation-7yA7z983/lib/python3.6/site-packages (from requests-oauthlib->kubernetes>=9.0->dask-k8==0.1.1) (3.0.1)\n",
      "Requirement already satisfied: pyasn1>=0.1.3 in /home/ehrmann/.local/share/virtualenvs/impresso-pyindexation-7yA7z983/lib/python3.6/site-packages (from rsa>=3.1.4->google-auth>=1.0.1->kubernetes>=9.0->dask-k8==0.1.1) (0.4.5)\n",
      "Building wheels for collected packages: dask-k8\n",
      "  Building wheel for dask-k8 (setup.py) ... \u001B[?25ldone\n",
      "\u001B[?25h  Stored in directory: /tmp/pip-ephem-wheel-cache-gkd45j3i/wheels/a8/70/d2/570a9e139dc6e5b6bcf457aae80efd00f5a100e2dd60407627\n",
      "Successfully built dask-k8\n",
      "Installing collected packages: dask\n",
      "  Found existing installation: dask 1.2.0\n",
      "    Uninstalling dask-1.2.0:\n",
      "      Successfully uninstalled dask-1.2.0\n",
      "Successfully installed dask-2.0.0\n"
     ]
    }
   ],
   "source": [
    "!pip install git+https://github.com/SeguinBe/dask_k8.git"
   ]
  },
  {
   "cell_type": "markdown",
   "metadata": {},
   "source": [
    "## Gather the articles in even partitions\n",
    "\n",
    "**Warning**: despite setting the number of partition in the `repartition_evenly` call, the number does not seem to be fixed and somehow the number of final partitions can not be guessed in advance. I would recommend clearing the output directory before reprocessing to avoid having old partitions staying in the output folder."
   ]
  },
  {
   "cell_type": "code",
   "execution_count": 2,
   "metadata": {},
   "outputs": [],
   "source": [
    "from dask_k8 import DaskCluster"
   ]
  },
  {
   "cell_type": "code",
   "execution_count": 3,
   "metadata": {},
   "outputs": [],
   "source": [
    "cluster = DaskCluster(namespace=\"dhlab\", cluster_id=\"maud-evenize-bnl\", worker_pod_spec=\"\"\"\n",
    "  containers:\n",
    "    - image: daskdev/dask:1.1.5\n",
    "      args: [dask-worker, $(DASK_SCHEDULER_ADDRESS), --nthreads, '1', --no-bokeh, --memory-limit, 90GB, --death-timeout, '120']\n",
    "      imagePullPolicy: Always\n",
    "      name: dask-worker\n",
    "      env:\n",
    "        - name: POD_IP\n",
    "          valueFrom:\n",
    "            fieldRef:\n",
    "              fieldPath: status.podIP\n",
    "        - name: POD_NAME\n",
    "          valueFrom:\n",
    "            fieldRef:\n",
    "              fieldPath: metadata.name\n",
    "        - name: EXTRA_PIP_PACKAGES\n",
    "          value: s3fs\n",
    "        - name: EXTRA_CONDA_PACKAGES\n",
    "          value: \n",
    "      resources:\n",
    "        requests:\n",
    "          cpu: 1\n",
    "          memory: \"90G\"\n",
    "        limits:\n",
    "          cpu: 1\n",
    "          memory: \"90G\"\n",
    "\"\"\")"
   ]
  },
  {
   "cell_type": "code",
   "execution_count": 4,
   "metadata": {},
   "outputs": [],
   "source": [
    "cluster.close()"
   ]
  },
  {
   "cell_type": "code",
   "execution_count": 4,
   "metadata": {},
   "outputs": [
    {
     "name": "stdout",
     "output_type": "stream",
     "text": [
      "Scheduler: tcp://10.90.47.35:23145\n",
      "Dashboard: http://10.90.47.35:29556\n"
     ]
    }
   ],
   "source": [
    "# Create the cluster, have a look at the dashboard to check that everything is working fine\n",
    "cluster.create()"
   ]
  },
  {
   "cell_type": "code",
   "execution_count": 5,
   "metadata": {},
   "outputs": [
    {
     "name": "stdout",
     "output_type": "stream",
     "text": [
      "Currently 2 workers out of the 3 required, waiting...\n",
      "Reached the desired 3 workers!\n"
     ]
    }
   ],
   "source": [
    "cluster.scale(3)"
   ]
  },
  {
   "cell_type": "code",
   "execution_count": 6,
   "metadata": {},
   "outputs": [
    {
     "ename": "KeyError",
     "evalue": "'nthreads'",
     "output_type": "error",
     "traceback": [
      "\u001B[0;31m---------------------------------------------------------------------------\u001B[0m",
      "\u001B[0;31mKeyError\u001B[0m                                  Traceback (most recent call last)",
      "\u001B[0;32m~/.local/share/virtualenvs/impresso-pyindexation-7yA7z983/lib/python3.6/site-packages/IPython/core/formatters.py\u001B[0m in \u001B[0;36m__call__\u001B[0;34m(self, obj)\u001B[0m\n\u001B[1;32m    700\u001B[0m                 \u001B[0mtype_pprinters\u001B[0m\u001B[0;34m=\u001B[0m\u001B[0mself\u001B[0m\u001B[0;34m.\u001B[0m\u001B[0mtype_printers\u001B[0m\u001B[0;34m,\u001B[0m\u001B[0;34m\u001B[0m\u001B[0;34m\u001B[0m\u001B[0m\n\u001B[1;32m    701\u001B[0m                 deferred_pprinters=self.deferred_printers)\n\u001B[0;32m--> 702\u001B[0;31m             \u001B[0mprinter\u001B[0m\u001B[0;34m.\u001B[0m\u001B[0mpretty\u001B[0m\u001B[0;34m(\u001B[0m\u001B[0mobj\u001B[0m\u001B[0;34m)\u001B[0m\u001B[0;34m\u001B[0m\u001B[0;34m\u001B[0m\u001B[0m\n\u001B[0m\u001B[1;32m    703\u001B[0m             \u001B[0mprinter\u001B[0m\u001B[0;34m.\u001B[0m\u001B[0mflush\u001B[0m\u001B[0;34m(\u001B[0m\u001B[0;34m)\u001B[0m\u001B[0;34m\u001B[0m\u001B[0;34m\u001B[0m\u001B[0m\n\u001B[1;32m    704\u001B[0m             \u001B[0;32mreturn\u001B[0m \u001B[0mstream\u001B[0m\u001B[0;34m.\u001B[0m\u001B[0mgetvalue\u001B[0m\u001B[0;34m(\u001B[0m\u001B[0;34m)\u001B[0m\u001B[0;34m\u001B[0m\u001B[0;34m\u001B[0m\u001B[0m\n",
      "\u001B[0;32m~/.local/share/virtualenvs/impresso-pyindexation-7yA7z983/lib/python3.6/site-packages/IPython/lib/pretty.py\u001B[0m in \u001B[0;36mpretty\u001B[0;34m(self, obj)\u001B[0m\n\u001B[1;32m    400\u001B[0m                         \u001B[0;32mif\u001B[0m \u001B[0mcls\u001B[0m \u001B[0;32mis\u001B[0m \u001B[0;32mnot\u001B[0m \u001B[0mobject\u001B[0m\u001B[0;31m \u001B[0m\u001B[0;31m\\\u001B[0m\u001B[0;34m\u001B[0m\u001B[0;34m\u001B[0m\u001B[0m\n\u001B[1;32m    401\u001B[0m                                 \u001B[0;32mand\u001B[0m \u001B[0mcallable\u001B[0m\u001B[0;34m(\u001B[0m\u001B[0mcls\u001B[0m\u001B[0;34m.\u001B[0m\u001B[0m__dict__\u001B[0m\u001B[0;34m.\u001B[0m\u001B[0mget\u001B[0m\u001B[0;34m(\u001B[0m\u001B[0;34m'__repr__'\u001B[0m\u001B[0;34m)\u001B[0m\u001B[0;34m)\u001B[0m\u001B[0;34m:\u001B[0m\u001B[0;34m\u001B[0m\u001B[0;34m\u001B[0m\u001B[0m\n\u001B[0;32m--> 402\u001B[0;31m                             \u001B[0;32mreturn\u001B[0m \u001B[0m_repr_pprint\u001B[0m\u001B[0;34m(\u001B[0m\u001B[0mobj\u001B[0m\u001B[0;34m,\u001B[0m \u001B[0mself\u001B[0m\u001B[0;34m,\u001B[0m \u001B[0mcycle\u001B[0m\u001B[0;34m)\u001B[0m\u001B[0;34m\u001B[0m\u001B[0;34m\u001B[0m\u001B[0m\n\u001B[0m\u001B[1;32m    403\u001B[0m \u001B[0;34m\u001B[0m\u001B[0m\n\u001B[1;32m    404\u001B[0m             \u001B[0;32mreturn\u001B[0m \u001B[0m_default_pprint\u001B[0m\u001B[0;34m(\u001B[0m\u001B[0mobj\u001B[0m\u001B[0;34m,\u001B[0m \u001B[0mself\u001B[0m\u001B[0;34m,\u001B[0m \u001B[0mcycle\u001B[0m\u001B[0;34m)\u001B[0m\u001B[0;34m\u001B[0m\u001B[0;34m\u001B[0m\u001B[0m\n",
      "\u001B[0;32m~/.local/share/virtualenvs/impresso-pyindexation-7yA7z983/lib/python3.6/site-packages/IPython/lib/pretty.py\u001B[0m in \u001B[0;36m_repr_pprint\u001B[0;34m(obj, p, cycle)\u001B[0m\n\u001B[1;32m    695\u001B[0m     \u001B[0;34m\"\"\"A pprint that just redirects to the normal repr function.\"\"\"\u001B[0m\u001B[0;34m\u001B[0m\u001B[0;34m\u001B[0m\u001B[0m\n\u001B[1;32m    696\u001B[0m     \u001B[0;31m# Find newlines and replace them with p.break_()\u001B[0m\u001B[0;34m\u001B[0m\u001B[0;34m\u001B[0m\u001B[0;34m\u001B[0m\u001B[0m\n\u001B[0;32m--> 697\u001B[0;31m     \u001B[0moutput\u001B[0m \u001B[0;34m=\u001B[0m \u001B[0mrepr\u001B[0m\u001B[0;34m(\u001B[0m\u001B[0mobj\u001B[0m\u001B[0;34m)\u001B[0m\u001B[0;34m\u001B[0m\u001B[0;34m\u001B[0m\u001B[0m\n\u001B[0m\u001B[1;32m    698\u001B[0m     \u001B[0;32mfor\u001B[0m \u001B[0midx\u001B[0m\u001B[0;34m,\u001B[0m\u001B[0moutput_line\u001B[0m \u001B[0;32min\u001B[0m \u001B[0menumerate\u001B[0m\u001B[0;34m(\u001B[0m\u001B[0moutput\u001B[0m\u001B[0;34m.\u001B[0m\u001B[0msplitlines\u001B[0m\u001B[0;34m(\u001B[0m\u001B[0;34m)\u001B[0m\u001B[0;34m)\u001B[0m\u001B[0;34m:\u001B[0m\u001B[0;34m\u001B[0m\u001B[0;34m\u001B[0m\u001B[0m\n\u001B[1;32m    699\u001B[0m         \u001B[0;32mif\u001B[0m \u001B[0midx\u001B[0m\u001B[0;34m:\u001B[0m\u001B[0;34m\u001B[0m\u001B[0;34m\u001B[0m\u001B[0m\n",
      "\u001B[0;32m~/.local/share/virtualenvs/impresso-pyindexation-7yA7z983/lib/python3.6/site-packages/distributed/client.py\u001B[0m in \u001B[0;36m__repr__\u001B[0;34m(self)\u001B[0m\n\u001B[1;32m    771\u001B[0m             \u001B[0mworkers\u001B[0m \u001B[0;34m=\u001B[0m \u001B[0minfo\u001B[0m\u001B[0;34m.\u001B[0m\u001B[0mget\u001B[0m\u001B[0;34m(\u001B[0m\u001B[0;34m\"workers\"\u001B[0m\u001B[0;34m,\u001B[0m \u001B[0;34m{\u001B[0m\u001B[0;34m}\u001B[0m\u001B[0;34m)\u001B[0m\u001B[0;34m\u001B[0m\u001B[0;34m\u001B[0m\u001B[0m\n\u001B[1;32m    772\u001B[0m             \u001B[0mnworkers\u001B[0m \u001B[0;34m=\u001B[0m \u001B[0mlen\u001B[0m\u001B[0;34m(\u001B[0m\u001B[0mworkers\u001B[0m\u001B[0;34m)\u001B[0m\u001B[0;34m\u001B[0m\u001B[0;34m\u001B[0m\u001B[0m\n\u001B[0;32m--> 773\u001B[0;31m             \u001B[0mnthreads\u001B[0m \u001B[0;34m=\u001B[0m \u001B[0msum\u001B[0m\u001B[0;34m(\u001B[0m\u001B[0mw\u001B[0m\u001B[0;34m[\u001B[0m\u001B[0;34m\"nthreads\"\u001B[0m\u001B[0;34m]\u001B[0m \u001B[0;32mfor\u001B[0m \u001B[0mw\u001B[0m \u001B[0;32min\u001B[0m \u001B[0mworkers\u001B[0m\u001B[0;34m.\u001B[0m\u001B[0mvalues\u001B[0m\u001B[0;34m(\u001B[0m\u001B[0;34m)\u001B[0m\u001B[0;34m)\u001B[0m\u001B[0;34m\u001B[0m\u001B[0;34m\u001B[0m\u001B[0m\n\u001B[0m\u001B[1;32m    774\u001B[0m             return \"<%s: scheduler=%r processes=%d cores=%d>\" % (\n\u001B[1;32m    775\u001B[0m                 \u001B[0mself\u001B[0m\u001B[0;34m.\u001B[0m\u001B[0m__class__\u001B[0m\u001B[0;34m.\u001B[0m\u001B[0m__name__\u001B[0m\u001B[0;34m,\u001B[0m\u001B[0;34m\u001B[0m\u001B[0;34m\u001B[0m\u001B[0m\n",
      "\u001B[0;32m~/.local/share/virtualenvs/impresso-pyindexation-7yA7z983/lib/python3.6/site-packages/distributed/client.py\u001B[0m in \u001B[0;36m<genexpr>\u001B[0;34m(.0)\u001B[0m\n\u001B[1;32m    771\u001B[0m             \u001B[0mworkers\u001B[0m \u001B[0;34m=\u001B[0m \u001B[0minfo\u001B[0m\u001B[0;34m.\u001B[0m\u001B[0mget\u001B[0m\u001B[0;34m(\u001B[0m\u001B[0;34m\"workers\"\u001B[0m\u001B[0;34m,\u001B[0m \u001B[0;34m{\u001B[0m\u001B[0;34m}\u001B[0m\u001B[0;34m)\u001B[0m\u001B[0;34m\u001B[0m\u001B[0;34m\u001B[0m\u001B[0m\n\u001B[1;32m    772\u001B[0m             \u001B[0mnworkers\u001B[0m \u001B[0;34m=\u001B[0m \u001B[0mlen\u001B[0m\u001B[0;34m(\u001B[0m\u001B[0mworkers\u001B[0m\u001B[0;34m)\u001B[0m\u001B[0;34m\u001B[0m\u001B[0;34m\u001B[0m\u001B[0m\n\u001B[0;32m--> 773\u001B[0;31m             \u001B[0mnthreads\u001B[0m \u001B[0;34m=\u001B[0m \u001B[0msum\u001B[0m\u001B[0;34m(\u001B[0m\u001B[0mw\u001B[0m\u001B[0;34m[\u001B[0m\u001B[0;34m\"nthreads\"\u001B[0m\u001B[0;34m]\u001B[0m \u001B[0;32mfor\u001B[0m \u001B[0mw\u001B[0m \u001B[0;32min\u001B[0m \u001B[0mworkers\u001B[0m\u001B[0;34m.\u001B[0m\u001B[0mvalues\u001B[0m\u001B[0;34m(\u001B[0m\u001B[0;34m)\u001B[0m\u001B[0;34m)\u001B[0m\u001B[0;34m\u001B[0m\u001B[0;34m\u001B[0m\u001B[0m\n\u001B[0m\u001B[1;32m    774\u001B[0m             return \"<%s: scheduler=%r processes=%d cores=%d>\" % (\n\u001B[1;32m    775\u001B[0m                 \u001B[0mself\u001B[0m\u001B[0;34m.\u001B[0m\u001B[0m__class__\u001B[0m\u001B[0;34m.\u001B[0m\u001B[0m__name__\u001B[0m\u001B[0;34m,\u001B[0m\u001B[0;34m\u001B[0m\u001B[0;34m\u001B[0m\u001B[0m\n",
      "\u001B[0;31mKeyError\u001B[0m: 'nthreads'"
     ]
    },
    {
     "ename": "KeyError",
     "evalue": "'nthreads'",
     "output_type": "error",
     "traceback": [
      "\u001B[0;31m---------------------------------------------------------------------------\u001B[0m",
      "\u001B[0;31mKeyError\u001B[0m                                  Traceback (most recent call last)",
      "\u001B[0;32m~/.local/share/virtualenvs/impresso-pyindexation-7yA7z983/lib/python3.6/site-packages/IPython/core/formatters.py\u001B[0m in \u001B[0;36m__call__\u001B[0;34m(self, obj)\u001B[0m\n\u001B[1;32m    343\u001B[0m             \u001B[0mmethod\u001B[0m \u001B[0;34m=\u001B[0m \u001B[0mget_real_method\u001B[0m\u001B[0;34m(\u001B[0m\u001B[0mobj\u001B[0m\u001B[0;34m,\u001B[0m \u001B[0mself\u001B[0m\u001B[0;34m.\u001B[0m\u001B[0mprint_method\u001B[0m\u001B[0;34m)\u001B[0m\u001B[0;34m\u001B[0m\u001B[0;34m\u001B[0m\u001B[0m\n\u001B[1;32m    344\u001B[0m             \u001B[0;32mif\u001B[0m \u001B[0mmethod\u001B[0m \u001B[0;32mis\u001B[0m \u001B[0;32mnot\u001B[0m \u001B[0;32mNone\u001B[0m\u001B[0;34m:\u001B[0m\u001B[0;34m\u001B[0m\u001B[0;34m\u001B[0m\u001B[0m\n\u001B[0;32m--> 345\u001B[0;31m                 \u001B[0;32mreturn\u001B[0m \u001B[0mmethod\u001B[0m\u001B[0;34m(\u001B[0m\u001B[0;34m)\u001B[0m\u001B[0;34m\u001B[0m\u001B[0;34m\u001B[0m\u001B[0m\n\u001B[0m\u001B[1;32m    346\u001B[0m             \u001B[0;32mreturn\u001B[0m \u001B[0;32mNone\u001B[0m\u001B[0;34m\u001B[0m\u001B[0;34m\u001B[0m\u001B[0m\n\u001B[1;32m    347\u001B[0m         \u001B[0;32melse\u001B[0m\u001B[0;34m:\u001B[0m\u001B[0;34m\u001B[0m\u001B[0;34m\u001B[0m\u001B[0m\n",
      "\u001B[0;32m~/.local/share/virtualenvs/impresso-pyindexation-7yA7z983/lib/python3.6/site-packages/distributed/client.py\u001B[0m in \u001B[0;36m_repr_html_\u001B[0;34m(self)\u001B[0m\n\u001B[1;32m    831\u001B[0m         \u001B[0;32mif\u001B[0m \u001B[0minfo\u001B[0m\u001B[0;34m:\u001B[0m\u001B[0;34m\u001B[0m\u001B[0;34m\u001B[0m\u001B[0m\n\u001B[1;32m    832\u001B[0m             \u001B[0mworkers\u001B[0m \u001B[0;34m=\u001B[0m \u001B[0mlen\u001B[0m\u001B[0;34m(\u001B[0m\u001B[0minfo\u001B[0m\u001B[0;34m[\u001B[0m\u001B[0;34m\"workers\"\u001B[0m\u001B[0;34m]\u001B[0m\u001B[0;34m)\u001B[0m\u001B[0;34m\u001B[0m\u001B[0;34m\u001B[0m\u001B[0m\n\u001B[0;32m--> 833\u001B[0;31m             \u001B[0mcores\u001B[0m \u001B[0;34m=\u001B[0m \u001B[0msum\u001B[0m\u001B[0;34m(\u001B[0m\u001B[0mw\u001B[0m\u001B[0;34m[\u001B[0m\u001B[0;34m\"nthreads\"\u001B[0m\u001B[0;34m]\u001B[0m \u001B[0;32mfor\u001B[0m \u001B[0mw\u001B[0m \u001B[0;32min\u001B[0m \u001B[0minfo\u001B[0m\u001B[0;34m[\u001B[0m\u001B[0;34m\"workers\"\u001B[0m\u001B[0;34m]\u001B[0m\u001B[0;34m.\u001B[0m\u001B[0mvalues\u001B[0m\u001B[0;34m(\u001B[0m\u001B[0;34m)\u001B[0m\u001B[0;34m)\u001B[0m\u001B[0;34m\u001B[0m\u001B[0;34m\u001B[0m\u001B[0m\n\u001B[0m\u001B[1;32m    834\u001B[0m             \u001B[0mmemory\u001B[0m \u001B[0;34m=\u001B[0m \u001B[0msum\u001B[0m\u001B[0;34m(\u001B[0m\u001B[0mw\u001B[0m\u001B[0;34m[\u001B[0m\u001B[0;34m\"memory_limit\"\u001B[0m\u001B[0;34m]\u001B[0m \u001B[0;32mfor\u001B[0m \u001B[0mw\u001B[0m \u001B[0;32min\u001B[0m \u001B[0minfo\u001B[0m\u001B[0;34m[\u001B[0m\u001B[0;34m\"workers\"\u001B[0m\u001B[0;34m]\u001B[0m\u001B[0;34m.\u001B[0m\u001B[0mvalues\u001B[0m\u001B[0;34m(\u001B[0m\u001B[0;34m)\u001B[0m\u001B[0;34m)\u001B[0m\u001B[0;34m\u001B[0m\u001B[0;34m\u001B[0m\u001B[0m\n\u001B[1;32m    835\u001B[0m             \u001B[0mmemory\u001B[0m \u001B[0;34m=\u001B[0m \u001B[0mformat_bytes\u001B[0m\u001B[0;34m(\u001B[0m\u001B[0mmemory\u001B[0m\u001B[0;34m)\u001B[0m\u001B[0;34m\u001B[0m\u001B[0;34m\u001B[0m\u001B[0m\n",
      "\u001B[0;32m~/.local/share/virtualenvs/impresso-pyindexation-7yA7z983/lib/python3.6/site-packages/distributed/client.py\u001B[0m in \u001B[0;36m<genexpr>\u001B[0;34m(.0)\u001B[0m\n\u001B[1;32m    831\u001B[0m         \u001B[0;32mif\u001B[0m \u001B[0minfo\u001B[0m\u001B[0;34m:\u001B[0m\u001B[0;34m\u001B[0m\u001B[0;34m\u001B[0m\u001B[0m\n\u001B[1;32m    832\u001B[0m             \u001B[0mworkers\u001B[0m \u001B[0;34m=\u001B[0m \u001B[0mlen\u001B[0m\u001B[0;34m(\u001B[0m\u001B[0minfo\u001B[0m\u001B[0;34m[\u001B[0m\u001B[0;34m\"workers\"\u001B[0m\u001B[0;34m]\u001B[0m\u001B[0;34m)\u001B[0m\u001B[0;34m\u001B[0m\u001B[0;34m\u001B[0m\u001B[0m\n\u001B[0;32m--> 833\u001B[0;31m             \u001B[0mcores\u001B[0m \u001B[0;34m=\u001B[0m \u001B[0msum\u001B[0m\u001B[0;34m(\u001B[0m\u001B[0mw\u001B[0m\u001B[0;34m[\u001B[0m\u001B[0;34m\"nthreads\"\u001B[0m\u001B[0;34m]\u001B[0m \u001B[0;32mfor\u001B[0m \u001B[0mw\u001B[0m \u001B[0;32min\u001B[0m \u001B[0minfo\u001B[0m\u001B[0;34m[\u001B[0m\u001B[0;34m\"workers\"\u001B[0m\u001B[0;34m]\u001B[0m\u001B[0;34m.\u001B[0m\u001B[0mvalues\u001B[0m\u001B[0;34m(\u001B[0m\u001B[0;34m)\u001B[0m\u001B[0;34m)\u001B[0m\u001B[0;34m\u001B[0m\u001B[0;34m\u001B[0m\u001B[0m\n\u001B[0m\u001B[1;32m    834\u001B[0m             \u001B[0mmemory\u001B[0m \u001B[0;34m=\u001B[0m \u001B[0msum\u001B[0m\u001B[0;34m(\u001B[0m\u001B[0mw\u001B[0m\u001B[0;34m[\u001B[0m\u001B[0;34m\"memory_limit\"\u001B[0m\u001B[0;34m]\u001B[0m \u001B[0;32mfor\u001B[0m \u001B[0mw\u001B[0m \u001B[0;32min\u001B[0m \u001B[0minfo\u001B[0m\u001B[0;34m[\u001B[0m\u001B[0;34m\"workers\"\u001B[0m\u001B[0;34m]\u001B[0m\u001B[0;34m.\u001B[0m\u001B[0mvalues\u001B[0m\u001B[0;34m(\u001B[0m\u001B[0;34m)\u001B[0m\u001B[0;34m)\u001B[0m\u001B[0;34m\u001B[0m\u001B[0;34m\u001B[0m\u001B[0m\n\u001B[1;32m    835\u001B[0m             \u001B[0mmemory\u001B[0m \u001B[0;34m=\u001B[0m \u001B[0mformat_bytes\u001B[0m\u001B[0;34m(\u001B[0m\u001B[0mmemory\u001B[0m\u001B[0;34m)\u001B[0m\u001B[0;34m\u001B[0m\u001B[0;34m\u001B[0m\u001B[0m\n",
      "\u001B[0;31mKeyError\u001B[0m: 'nthreads'"
     ]
    }
   ],
   "source": [
    "# Create the dask client\n",
    "client = cluster.make_dask_client()\n",
    "client"
   ]
  },
  {
   "cell_type": "code",
   "execution_count": 10,
   "metadata": {},
   "outputs": [],
   "source": [
    "import dask"
   ]
  },
  {
   "cell_type": "code",
   "execution_count": 11,
   "metadata": {},
   "outputs": [
    {
     "data": {
      "text/plain": [
       "'2.0.0'"
      ]
     },
     "execution_count": 11,
     "metadata": {},
     "output_type": "execute_result"
    }
   ],
   "source": [
    "dask.__version__"
   ]
  },
  {
   "cell_type": "code",
   "execution_count": null,
   "metadata": {},
   "outputs": [],
   "source": [
    "from dask import bag as db\n",
    "#from dask.diagnostics import ProgressBar\n",
    "from impresso_images import settings, data_utils\n",
    "from random import shuffle\n",
    "import json\n",
    "\n",
    "dask_storage_options = {\n",
    "            'client_kwargs': {'endpoint_url': 'https://os.zhdk.cloud.switch.ch'},\n",
    "            'key': settings.get_access_key(), 'secret': settings.get_secret_key()\n",
    "        }"
   ]
  },
  {
   "cell_type": "code",
   "execution_count": null,
   "metadata": {},
   "outputs": [],
   "source": [
    "def _filter(ci_json):\n",
    "    light = dict()\n",
    "    light = {k: ci_json[k] for k in ci_json if k == \"id\"\n",
    "                                   or k == \"s3v\"\n",
    "                                   or k == \"ts\"\n",
    "                                   or k == \"ft\"\n",
    "                                   or k == \"tp\"\n",
    "                                   or k == \"pp\"\n",
    "                                   or k == \"lg\"\n",
    "                                   or k == \"t\"}\n",
    "    return light"
   ]
  },
  {
   "cell_type": "code",
   "execution_count": null,
   "metadata": {},
   "outputs": [],
   "source": [
    "newspapers = [\n",
    "    \"armeteufel\",\n",
    "    \"actionfem\",\n",
    "    \"avenirgdl\",\n",
    "    \"buergerbeamten\",\n",
    "    \"courriergdl\",\n",
    "    \"deletz1893\",\n",
    "    \"demitock\",\n",
    "    \"diekwochen\",\n",
    "    \"dunioun\",\n",
    "    \"gazgrdlux\",\n",
    "    \"indeplux\",\n",
    "    \"kommmit\",\n",
    "    \"landwortbild\",\n",
    "    \"luxland\",\n",
    "    \"luxzeit1844\",\n",
    "    \"luxzeit1858\",\n",
    "    \"luxwort\",\n",
    "    \"obermosel\",\n",
    "    \"onsjongen\",\n",
    "    \"schmiede\",\n",
    "    \"volkfreu1869\"\n",
    "]"
   ]
  },
  {
   "cell_type": "markdown",
   "metadata": {},
   "source": [
    "### evenize from rebuilt"
   ]
  },
  {
   "cell_type": "code",
   "execution_count": null,
   "metadata": {},
   "outputs": [],
   "source": [
    "files = []\n",
    "for np in newspapers:\n",
    "    print(f\"Getting files from s3://canonical-rebuilt/{np}/*.jsonl.bz2\")\n",
    "    files.append(data_utils.fixed_s3fs_glob(f\"s3://canonical-rebuilt/{np}/*.jsonl.bz2\")\n",
    "\n",
    "print(f\"Have {len(files)} files\")\n",
    "shuffle(files)\n",
    "\n",
    "# for full version, delete the 2 maps, just load the text\n",
    "data = db.read_text(files, storage_options=dask_storage_options).map(json.loads).map(json.dumps, ensure_ascii=False)\n",
    "\n",
    "# uncomment following line for full version\n",
    "data = data.str.rstrip()  # Remove the \\n added when doing just read_text\n",
    "\n",
    "# !! change bucket if necessary\n",
    "data_utils.repartition_evenly(data, nb_partitions=1000).to_textfiles(\"s3://evenized-canonical-rebuilt-new-bnl/*.jsonl.bz2\", \n",
    "                                                                     storage_options=dask_storage_options,\n",
    "                                                                    encoding='utf-8')"
   ]
  },
  {
   "cell_type": "markdown",
   "metadata": {},
   "source": [
    "### light from rebuilt"
   ]
  },
  {
   "cell_type": "code",
   "execution_count": null,
   "metadata": {},
   "outputs": [],
   "source": [
    "files = data_utils.fixed_s3fs_glob(\"s3://canonical-rebuilt/*.jsonl.bz2\")\n",
    "shuffle(files)\n",
    "\n",
    "# for full version, delete the 2 maps, just load the text\n",
    "data = db.read_text(files, storage_options=dask_storage_options).map(json.loads).map(_filter).map(json.dumps, ensure_ascii=False)\n",
    "\n",
    "# uncomment following line for full version\n",
    "#data = data.str.rstrip()  # Remove the \\n added when doing just read_text\n",
    "\n",
    "# !! change bucket if necessary\n",
    "data_utils.repartition_evenly(data, nb_partitions=1000).to_textfiles(\"s3://evenized-light-canonical-rebuilt-pubrelease/*.jsonl.bz2\", \n",
    "                                                                     storage_options=dask_storage_options)"
   ]
  },
  {
   "cell_type": "markdown",
   "metadata": {},
   "source": [
    "### light from evenized"
   ]
  },
  {
   "cell_type": "code",
   "execution_count": null,
   "metadata": {},
   "outputs": [],
   "source": [
    "files = data_utils.fixed_s3fs_glob(\"s3://evenized-canonical-rebuilt-pubrelease/*.jsonl.bz2\")\n",
    "data = db.read_text(files, storage_options=dask_storage_options).map(json.loads).map(_filter).map(json.dumps, ensure_ascii=False)\n",
    "\n",
    "\n",
    "# !! change bucket if necessary\n",
    "data.to_textfiles(\"s3://evenized-light-canonical-rebuilt-pubrelease/*.jsonl.bz2\", \n",
    "                                                                     storage_options=dask_storage_options)"
   ]
  },
  {
   "cell_type": "code",
   "execution_count": null,
   "metadata": {},
   "outputs": [],
   "source": [
    "# After this is done, close the cluster\n",
    "cluster.close()"
   ]
  },
  {
   "cell_type": "markdown",
   "metadata": {},
   "source": [
    "## Process the data to get statistics"
   ]
  },
  {
   "cell_type": "code",
   "execution_count": null,
   "metadata": {},
   "outputs": [],
   "source": [
    "cluster = DaskCluster(namespace=\"dhlab\", cluster_id=\"maud-test\", worker_pod_spec=\"\"\"\n",
    "  containers:\n",
    "    - image: daskdev/dask:1.1.5\n",
    "      args: [dask-worker, $(DASK_SCHEDULER_ADDRESS), --nthreads, '1', --no-bokeh, --memory-limit, 20GB, --death-timeout, '120']\n",
    "      imagePullPolicy: Always\n",
    "      name: dask-worker\n",
    "      env:\n",
    "        - name: POD_IP\n",
    "          valueFrom:\n",
    "            fieldRef:\n",
    "              fieldPath: status.podIP\n",
    "        - name: POD_NAME\n",
    "          valueFrom:\n",
    "            fieldRef:\n",
    "              fieldPath: metadata.name\n",
    "        - name: EXTRA_PIP_PACKAGES\n",
    "          value: s3fs\n",
    "        - name: EXTRA_CONDA_PACKAGES\n",
    "          value: \n",
    "      resources:\n",
    "        requests:\n",
    "          cpu: 1\n",
    "          memory: \"20G\"\n",
    "        limits:\n",
    "          cpu: 1\n",
    "          memory: \"20G\"\n",
    "\"\"\")"
   ]
  },
  {
   "cell_type": "code",
   "execution_count": null,
   "metadata": {},
   "outputs": [],
   "source": [
    "cluster.create()\n",
    "cluster.scale(200)"
   ]
  },
  {
   "cell_type": "code",
   "execution_count": null,
   "metadata": {},
   "outputs": [],
   "source": [
    "import json\n",
    "data = db.read_text(data_utils.fixed_s3fs_glob(\"s3://rebuilt-dask-partitions-full/*.jsonl.bz2\",), storage_options=dask_storage_options)\n",
    "data = data.map(json.loads)\n",
    "\n",
    "def simplify_fn(d):\n",
    "    return {\n",
    "        \"id\": d[\"id\"],\n",
    "        \"ft\": d.get(\"ft\", \"\")\n",
    "    }\n",
    "\n",
    "# Simplify the data by only keeping the text of the articles and keeping them in memory for faster processing\n",
    "data = data.map(simplify_fn).persist()"
   ]
  },
  {
   "cell_type": "raw",
   "metadata": {},
   "source": [
    "# Saving only the article id and the corresponding text for text specific processing\n",
    "data.map(json.dumps).to_textfiles(\"s3://impresso-public/full-text-only/*.jsonl.bz2\", storage_options=dask_storage_options)"
   ]
  },
  {
   "cell_type": "code",
   "execution_count": null,
   "metadata": {},
   "outputs": [],
   "source": [
    "data.count().compute()"
   ]
  },
  {
   "cell_type": "code",
   "execution_count": null,
   "metadata": {
    "scrolled": false
   },
   "outputs": [],
   "source": [
    "import json\n",
    "def stats_fn(d):\n",
    "    _id = d[\"id\"]\n",
    "    _id_split = _id.split(\"-\")\n",
    "    return {\n",
    "        \"id\": _id,\n",
    "        \"np_id\": _id_split[0],\n",
    "        \"year\": int(_id_split[1]),\n",
    "        \"length\": len(d.get(\"ft\", \"\"))\n",
    "    }\n",
    "    \n",
    "df = data.map(stats_fn).to_dataframe()"
   ]
  },
  {
   "cell_type": "code",
   "execution_count": null,
   "metadata": {},
   "outputs": [],
   "source": [
    "df.head()"
   ]
  },
  {
   "cell_type": "code",
   "execution_count": null,
   "metadata": {},
   "outputs": [],
   "source": [
    "df.persist()"
   ]
  },
  {
   "cell_type": "code",
   "execution_count": null,
   "metadata": {},
   "outputs": [],
   "source": [
    "from dask import array as da\n",
    "s = df.length.values\n",
    "h, bins = da.histogram(s, bins=100, range=[0, 20000])"
   ]
  },
  {
   "cell_type": "code",
   "execution_count": null,
   "metadata": {},
   "outputs": [],
   "source": [
    "h = h.compute()"
   ]
  },
  {
   "cell_type": "code",
   "execution_count": null,
   "metadata": {},
   "outputs": [],
   "source": [
    "len(bins), len(h)"
   ]
  },
  {
   "cell_type": "code",
   "execution_count": null,
   "metadata": {},
   "outputs": [],
   "source": [
    "%matplotlib inline\n",
    "from matplotlib import pyplot as plt\n",
    "plt.bar(bins[1:-1], h[1:], width=200)"
   ]
  },
  {
   "cell_type": "code",
   "execution_count": null,
   "metadata": {},
   "outputs": [],
   "source": [
    "import dask\n",
    "dask.compute()\n",
    "gg = df.groupby(['np_id', 'year'])\n",
    "\n",
    "results = gg.agg({'length': ['count', 'mean', 'std']}).compute()"
   ]
  },
  {
   "cell_type": "code",
   "execution_count": null,
   "metadata": {},
   "outputs": [],
   "source": [
    "results"
   ]
  },
  {
   "cell_type": "code",
   "execution_count": null,
   "metadata": {},
   "outputs": [],
   "source": [
    "cluster.close()"
   ]
  },
  {
   "cell_type": "code",
   "execution_count": null,
   "metadata": {},
   "outputs": [],
   "source": [
    "import matplotlib.style as style\n",
    "plt.style.use('seaborn')\n",
    "\n",
    "plt.figure(figsize=(14, 12))\n",
    "palette = plt.get_cmap('tab20')\n",
    "labels = []\n",
    "\n",
    "labels_ordered = sorted(results.index.levels[0], key = lambda np_id: -len(results.loc[np_id]))\n",
    "\n",
    "for i, np_id in  enumerate(labels_ordered):\n",
    "    tmp = results.loc[np_id][('length', 'count')]\n",
    "    # Filtering out newspapers with less than 10 years of presence\n",
    "    if len(tmp) > 0:\n",
    "        plt.plot(tmp.index, tmp.values, color=palette(i % 20), label=np_id, marker='' if i < 20  else 'o')\n",
    "        labels.append(np_id)\n",
    "\n",
    "plt.legend(labels)\n",
    "plt.xlabel('Year')\n",
    "plt.ylabel(\"Nb articles\")"
   ]
  },
  {
   "cell_type": "code",
   "execution_count": null,
   "metadata": {},
   "outputs": [],
   "source": [
    "plt.figure(figsize=(14, 12))\n",
    "palette = plt.get_cmap('tab20')\n",
    "labels = []\n",
    "\n",
    "labels_ordered = sorted(results.index.levels[0], key = lambda np_id: -len(results.loc[np_id]))\n",
    "\n",
    "for i, np_id in  enumerate(labels_ordered):\n",
    "    tmp = results.loc[np_id][('length', 'mean')]\n",
    "    # Filtering out newspapers with less than 10 years of presence\n",
    "    if len(tmp) > 0:\n",
    "        plt.plot(tmp.index, tmp.values, color=palette(i % 20), label=np_id, marker='' if i < 20  else 'o')\n",
    "        labels.append(np_id)\n",
    "\n",
    "plt.legend(labels)\n",
    "plt.xlabel('Year')\n",
    "plt.ylabel(\"Avg length of article\")"
   ]
  },
  {
   "cell_type": "code",
   "execution_count": null,
   "metadata": {},
   "outputs": [],
   "source": []
  }
 ],
 "metadata": {
  "kernelspec": {
   "display_name": "Python 3",
   "language": "python",
   "name": "python3"
  },
  "language_info": {
   "codemirror_mode": {
    "name": "ipython",
    "version": 3
   },
   "file_extension": ".py",
   "mimetype": "text/x-python",
   "name": "python",
   "nbconvert_exporter": "python",
   "pygments_lexer": "ipython3",
   "version": "3.6.7"
  }
 },
 "nbformat": 4,
 "nbformat_minor": 2
}
