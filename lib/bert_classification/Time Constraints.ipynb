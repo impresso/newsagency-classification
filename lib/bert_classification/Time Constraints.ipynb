{
 "cells": [
  {
   "cell_type": "code",
   "execution_count": 3,
   "id": "63c7a087",
   "metadata": {},
   "outputs": [],
   "source": [
    "import json\n",
    "\n",
    "with open('batch_timings_no_dask.json', 'r') as f:\n",
    "    timings = json.load(f)\n",
    "\n",
    "\n"
   ]
  },
  {
   "cell_type": "code",
   "execution_count": 4,
   "id": "b637a33f",
   "metadata": {},
   "outputs": [
    {
     "data": {
      "text/plain": [
       "10"
      ]
     },
     "execution_count": 4,
     "metadata": {},
     "output_type": "execute_result"
    }
   ],
   "source": [
    "len(timings)"
   ]
  },
  {
   "cell_type": "code",
   "execution_count": 5,
   "id": "004517cc",
   "metadata": {},
   "outputs": [
    {
     "data": {
      "text/plain": [
       "6"
      ]
     },
     "execution_count": 5,
     "metadata": {},
     "output_type": "execute_result"
    }
   ],
   "source": [
    "len(timings[0])"
   ]
  },
  {
   "cell_type": "code",
   "execution_count": 6,
   "id": "a8f8653a",
   "metadata": {},
   "outputs": [
    {
     "data": {
      "text/plain": [
       "dict_keys(['batch', 'read_and_filter', 'timing_articles', 'process_articles', 'write_articles', 'batch_time'])"
      ]
     },
     "execution_count": 6,
     "metadata": {},
     "output_type": "execute_result"
    }
   ],
   "source": [
    "timings[0].keys()"
   ]
  },
  {
   "cell_type": "code",
   "execution_count": null,
   "id": "66ed2beb",
   "metadata": {},
   "outputs": [],
   "source": []
  },
  {
   "cell_type": "code",
   "execution_count": 7,
   "id": "1ffa1df9",
   "metadata": {},
   "outputs": [],
   "source": [
    "with open('batch_timings_dask.json', 'r') as f:\n",
    "    timings = json.load(f)"
   ]
  },
  {
   "cell_type": "code",
   "execution_count": 8,
   "id": "f2bf6996",
   "metadata": {},
   "outputs": [
    {
     "data": {
      "text/plain": [
       "10"
      ]
     },
     "execution_count": 8,
     "metadata": {},
     "output_type": "execute_result"
    }
   ],
   "source": [
    "len(timings)"
   ]
  },
  {
   "cell_type": "code",
   "execution_count": 9,
   "id": "0bab615a",
   "metadata": {
    "scrolled": true
   },
   "outputs": [
    {
     "data": {
      "text/plain": [
       "{'batch': 1,\n",
       " 'read_and_filter': 0.001463174819946289,\n",
       " 'timing_articles': ['[{\"load_models\": 3.4263627529144287}, {\"segment\": 0.06183314323425293, \"entire_article\": [{\"tokenize_and_tensor\": 0.02331233024597168, \"sentence_prediction\": 0.8606388568878174, \"realign\": 0.0003037452697753906, \"sentence_get_entities\": 0.1118166446685791, \"sentence_result_json\": 2.384185791015625e-07}, {\"tokenize_and_tensor\": 0.0006234645843505859, \"sentence_prediction\": 1.8398139476776123, \"realign\": 0.00024366378784179688, \"sentence_get_entities\": 0.0003440380096435547, \"sentence_result_json\": 2.384185791015625e-07}, {\"tokenize_and_tensor\": 0.0006351470947265625, \"sentence_prediction\": 0.033391475677490234, \"realign\": 0.0004944801330566406, \"sentence_get_entities\": 0.0024437904357910156, \"sentence_result_json\": 2.384185791015625e-07}, {\"tokenize_and_tensor\": 0.0007305145263671875, \"sentence_prediction\": 0.033454179763793945, \"realign\": 0.00043892860412597656, \"sentence_get_entities\": 0.0018553733825683594, \"sentence_result_json\": 2.384185791015625e-07}, {\"tokenize_and_tensor\": 0.0007326602935791016, \"sentence_prediction\": 0.03203606605529785, \"realign\": 0.0004892349243164062, \"sentence_get_entities\": 0.002294778823852539, \"sentence_result_json\": 2.384185791015625e-07}, {\"tokenize_and_tensor\": 0.0006501674652099609, \"sentence_prediction\": 0.02942514419555664, \"realign\": 0.00035452842712402344, \"sentence_get_entities\": 0.001222372055053711, \"sentence_result_json\": 2.384185791015625e-07}, {\"tokenize_and_tensor\": 0.0005371570587158203, \"sentence_prediction\": 0.02941441535949707, \"realign\": 0.0002644062042236328, \"sentence_get_entities\": 0.0006003379821777344, \"sentence_result_json\": 2.384185791015625e-07}, {\"tokenize_and_tensor\": 0.000621795654296875, \"sentence_prediction\": 0.029441118240356445, \"realign\": 0.0003921985626220703, \"sentence_get_entities\": 0.001600503921508789, \"sentence_result_json\": 4.76837158203125e-07}, {\"tokenize_and_tensor\": 0.0005979537963867188, \"sentence_prediction\": 0.02941274642944336, \"realign\": 0.00029015541076660156, \"sentence_get_entities\": 0.0006613731384277344, \"sentence_result_json\": 2.384185791015625e-07}, {\"tokenize_and_tensor\": 0.0005943775177001953, \"sentence_prediction\": 0.02944779396057129, \"realign\": 0.000335693359375, \"sentence_get_entities\": 0.0011248588562011719, \"sentence_result_json\": 2.384185791015625e-07}, {\"tokenize_and_tensor\": 0.0006361007690429688, \"sentence_prediction\": 0.02946186065673828, \"realign\": 0.00039124488830566406, \"sentence_get_entities\": 0.0016748905181884766, \"sentence_result_json\": 2.384185791015625e-07}, {\"tokenize_and_tensor\": 0.0006654262542724609, \"sentence_prediction\": 0.02946186065673828, \"realign\": 0.00039768218994140625, \"sentence_get_entities\": 0.0016751289367675781, \"sentence_result_json\": 2.384185791015625e-07}, {\"tokenize_and_tensor\": 0.0007381439208984375, \"sentence_prediction\": 0.030180931091308594, \"realign\": 0.0004773139953613281, \"sentence_get_entities\": 0.002422332763671875, \"sentence_result_json\": 2.384185791015625e-07}, {\"tokenize_and_tensor\": 0.0008118152618408203, \"sentence_prediction\": 0.02994704246520996, \"realign\": 0.0005731582641601562, \"sentence_get_entities\": 0.003297567367553711, \"sentence_result_json\": 4.76837158203125e-07}, {\"tokenize_and_tensor\": 0.0006859302520751953, \"sentence_prediction\": 0.029995441436767578, \"realign\": 0.000347137451171875, \"sentence_get_entities\": 0.0011603832244873047, \"sentence_result_json\": 2.384185791015625e-07}, {\"tokenize_and_tensor\": 0.0006263256072998047, \"sentence_prediction\": 0.030586719512939453, \"realign\": 0.0003993511199951172, \"sentence_get_entities\": 0.0017855167388916016, \"sentence_result_json\": 2.384185791015625e-07}, {\"tokenize_and_tensor\": 0.0006101131439208984, \"sentence_prediction\": 0.030075788497924805, \"realign\": 0.000301361083984375, \"sentence_get_entities\": 0.0008611679077148438, \"sentence_result_json\": 4.76837158203125e-07}, {\"tokenize_and_tensor\": 0.0006039142608642578, \"sentence_prediction\": 0.03019428253173828, \"realign\": 0.0005528926849365234, \"sentence_get_entities\": 0.002239227294921875, \"sentence_result_json\": 2.384185791015625e-07}, {\"tokenize_and_tensor\": 0.0007078647613525391, \"sentence_prediction\": 0.030163049697875977, \"realign\": 0.0004086494445800781, \"sentence_get_entities\": 0.0019729137420654297, \"sentence_result_json\": 2.384185791015625e-07}, {\"tokenize_and_tensor\": 0.000644683837890625, \"sentence_prediction\": 0.0301206111907959, \"realign\": 0.00034332275390625, \"sentence_get_entities\": 0.0012102127075195312, \"sentence_result_json\": 2.384185791015625e-07}, {\"tokenize_and_tensor\": 0.0005691051483154297, \"sentence_prediction\": 0.03009796142578125, \"realign\": 0.0003006458282470703, \"sentence_get_entities\": 0.0008294582366943359, \"sentence_result_json\": 2.384185791015625e-07}, {\"tokenize_and_tensor\": 0.0005431175231933594, \"sentence_prediction\": 0.0301363468170166, \"realign\": 0.0003070831298828125, \"sentence_get_entities\": 0.0008826255798339844, \"sentence_result_json\": 4.76837158203125e-07}, {\"tokenize_and_tensor\": 0.0005939006805419922, \"sentence_prediction\": 0.030134201049804688, \"realign\": 0.0003528594970703125, \"sentence_get_entities\": 0.0014226436614990234, \"sentence_result_json\": 2.384185791015625e-07}, {\"tokenize_and_tensor\": 0.0005433559417724609, \"sentence_prediction\": 0.030100345611572266, \"realign\": 0.00025463104248046875, \"sentence_get_entities\": 0.0005147457122802734, \"sentence_result_json\": 2.384185791015625e-07}, {\"tokenize_and_tensor\": 0.0005578994750976562, \"sentence_prediction\": 0.03073906898498535, \"realign\": 0.00031113624572753906, \"sentence_get_entities\": 0.0008437633514404297, \"sentence_result_json\": 2.384185791015625e-07}, {\"tokenize_and_tensor\": 0.0005915164947509766, \"sentence_prediction\": 0.030698537826538086, \"realign\": 0.00035881996154785156, \"sentence_get_entities\": 0.0014913082122802734, \"sentence_result_json\": 2.384185791015625e-07}, {\"tokenize_and_tensor\": 0.0005505084991455078, \"sentence_prediction\": 0.03069281578063965, \"realign\": 0.0002579689025878906, \"sentence_get_entities\": 0.000431060791015625, \"sentence_result_json\": 7.152557373046875e-07}, {\"tokenize_and_tensor\": 0.0005590915679931641, \"sentence_prediction\": 0.030731916427612305, \"realign\": 0.0003304481506347656, \"sentence_get_entities\": 0.00131988525390625, \"sentence_result_json\": 2.384185791015625e-07}, {\"tokenize_and_tensor\": 0.0005929470062255859, \"sentence_prediction\": 0.030707597732543945, \"realign\": 0.0003113746643066406, \"sentence_get_entities\": 0.001043558120727539, \"sentence_result_json\": 2.384185791015625e-07}, {\"tokenize_and_tensor\": 0.0005562305450439453, \"sentence_prediction\": 0.03072953224182129, \"realign\": 0.00028777122497558594, \"sentence_get_entities\": 0.0007181167602539062, \"sentence_result_json\": 0.0}, {\"tokenize_and_tensor\": 0.0005340576171875, \"sentence_prediction\": 0.03072810173034668, \"realign\": 0.00026702880859375, \"sentence_get_entities\": 0.0006499290466308594, \"sentence_result_json\": 2.384185791015625e-07}, {\"tokenize_and_tensor\": 0.0005767345428466797, \"sentence_prediction\": 0.030721426010131836, \"realign\": 0.00033092498779296875, \"sentence_get_entities\": 0.0010573863983154297, \"sentence_result_json\": 2.384185791015625e-07}, {\"tokenize_and_tensor\": 0.0006628036499023438, \"sentence_prediction\": 0.030724287033081055, \"realign\": 0.0004420280456542969, \"sentence_get_entities\": 0.0023796558380126953, \"sentence_result_json\": 4.76837158203125e-07}, {\"tokenize_and_tensor\": 0.0005714893341064453, \"sentence_prediction\": 0.030699729919433594, \"realign\": 0.0002338886260986328, \"sentence_get_entities\": 0.0001964569091796875, \"sentence_result_json\": 2.384185791015625e-07}, {\"tokenize_and_tensor\": 0.0005359649658203125, \"sentence_prediction\": 0.030717849731445312, \"realign\": 0.00030422210693359375, \"sentence_get_entities\": 0.0009062290191650391, \"sentence_result_json\": 2.384185791015625e-07}, {\"tokenize_and_tensor\": 0.0006024837493896484, \"sentence_prediction\": 0.031069278717041016, \"realign\": 0.0003628730773925781, \"sentence_get_entities\": 0.0012407302856445312, \"sentence_result_json\": 2.384185791015625e-07}, {\"tokenize_and_tensor\": 0.0006303787231445312, \"sentence_prediction\": 0.03044605255126953, \"realign\": 0.00039958953857421875, \"sentence_get_entities\": 0.0016758441925048828, \"sentence_result_json\": 2.384185791015625e-07}, {\"tokenize_and_tensor\": 0.0005767345428466797, \"sentence_prediction\": 0.030422449111938477, \"realign\": 0.00030922889709472656, \"sentence_get_entities\": 0.0010273456573486328, \"sentence_result_json\": 2.384185791015625e-07}, {\"tokenize_and_tensor\": 0.0005676746368408203, \"sentence_prediction\": 0.03041815757751465, \"realign\": 0.0003108978271484375, \"sentence_get_entities\": 0.0009715557098388672, \"sentence_result_json\": 2.384185791015625e-07}, {\"tokenize_and_tensor\": 0.0005714893341064453, \"sentence_prediction\": 0.030439376831054688, \"realign\": 0.0003314018249511719, \"sentence_get_entities\": 0.0009391307830810547, \"sentence_result_json\": 2.384185791015625e-07}, {\"tokenize_and_tensor\": 0.0006346702575683594, \"sentence_prediction\": 0.030778169631958008, \"realign\": 0.0004711151123046875, \"sentence_get_entities\": 0.0018863677978515625, \"sentence_result_json\": 0.0}, {\"tokenize_and_tensor\": 0.0006177425384521484, \"sentence_prediction\": 0.03022003173828125, \"realign\": 0.0003197193145751953, \"sentence_get_entities\": 0.0009808540344238281, \"sentence_result_json\": 2.384185791015625e-07}, {\"tokenize_and_tensor\": 0.0005776882171630859, \"sentence_prediction\": 0.030264854431152344, \"realign\": 0.0003254413604736328, \"sentence_get_entities\": 0.0010275840759277344, \"sentence_result_json\": 2.384185791015625e-07}, {\"tokenize_and_tensor\": 0.0005049705505371094, \"sentence_prediction\": 0.030246257781982422, \"realign\": 0.0002231597900390625, \"sentence_get_entities\": 0.00019288063049316406, \"sentence_result_json\": 2.384185791015625e-07}, {\"tokenize_and_tensor\": 0.0005612373352050781, \"sentence_prediction\": 0.030249357223510742, \"realign\": 0.0004513263702392578, \"sentence_get_entities\": 0.0016660690307617188, \"sentence_result_json\": 2.384185791015625e-07}, {\"tokenize_and_tensor\": 0.0006272792816162109, \"sentence_prediction\": 0.030285120010375977, \"realign\": 0.00030732154846191406, \"sentence_get_entities\": 0.0007979869842529297, \"sentence_result_json\": 2.384185791015625e-07}, {\"tokenize_and_tensor\": 0.0005435943603515625, \"sentence_prediction\": 0.0309295654296875, \"realign\": 0.0002796649932861328, \"sentence_get_entities\": 0.0007100105285644531, \"sentence_result_json\": 2.384185791015625e-07}, {\"tokenize_and_tensor\": 0.0005977153778076172, \"sentence_prediction\": 0.030399799346923828, \"realign\": 0.00033926963806152344, \"sentence_get_entities\": 0.0012657642364501953, \"sentence_result_json\": 2.384185791015625e-07}, {\"tokenize_and_tensor\": 0.0005333423614501953, \"sentence_prediction\": 0.030435562133789062, \"realign\": 0.00026035308837890625, \"sentence_get_entities\": 0.0005576610565185547, \"sentence_result_json\": 4.76837158203125e-07}, {\"tokenize_and_tensor\": 0.0006489753723144531, \"sentence_prediction\": 0.030441761016845703, \"realign\": 0.0004372596740722656, \"sentence_get_entities\": 0.0019268989562988281, \"sentence_result_json\": 2.384185791015625e-07}, {\"tokenize_and_tensor\": 0.0005781650543212891, \"sentence_prediction\": 0.030437231063842773, \"realign\": 0.0002808570861816406, \"sentence_get_entities\": 0.0006537437438964844, \"sentence_result_json\": 2.384185791015625e-07}, {\"tokenize_and_tensor\": 0.000640869140625, \"sentence_prediction\": 0.030473709106445312, \"realign\": 0.0004279613494873047, \"sentence_get_entities\": 0.0017685890197753906, \"sentence_result_json\": 2.384185791015625e-07}, {\"tokenize_and_tensor\": 0.0005674362182617188, \"sentence_prediction\": 0.030452489852905273, \"realign\": 0.0002613067626953125, \"sentence_get_entities\": 0.0005145072937011719, \"sentence_result_json\": 0.0}, {\"tokenize_and_tensor\": 0.0005438327789306641, \"sentence_prediction\": 0.03043341636657715, \"realign\": 0.0002715587615966797, \"sentence_get_entities\": 0.0006606578826904297, \"sentence_result_json\": 2.384185791015625e-07}, {\"tokenize_and_tensor\": 0.0005228519439697266, \"sentence_prediction\": 0.030426502227783203, \"realign\": 0.00026226043701171875, \"sentence_get_entities\": 0.00067901611328125, \"sentence_result_json\": 4.76837158203125e-07}, {\"tokenize_and_tensor\": 0.0006256103515625, \"sentence_prediction\": 0.030421018600463867, \"realign\": 0.0004336833953857422, \"sentence_get_entities\": 0.0019071102142333984, \"sentence_result_json\": 4.76837158203125e-07}, {\"tokenize_and_tensor\": 0.0006310939788818359, \"sentence_prediction\": 0.03043532371520996, \"realign\": 0.00032806396484375, \"sentence_get_entities\": 0.0012278556823730469, \"sentence_result_json\": 2.384185791015625e-07}, {\"tokenize_and_tensor\": 0.0005838871002197266, \"sentence_prediction\": 0.030414104461669922, \"realign\": 0.00034427642822265625, \"sentence_get_entities\": 0.001032114028930664, \"sentence_result_json\": 2.384185791015625e-07}, {\"tokenize_and_tensor\": 0.0005118846893310547, \"sentence_prediction\": 0.03046703338623047, \"realign\": 0.0002739429473876953, \"sentence_get_entities\": 0.0006954669952392578, \"sentence_result_json\": 2.384185791015625e-07}, {\"tokenize_and_tensor\": 0.0005085468292236328, \"sentence_prediction\": 0.030440330505371094, \"realign\": 0.0002448558807373047, \"sentence_get_entities\": 0.00034046173095703125, \"sentence_result_json\": 2.384185791015625e-07}, {\"tokenize_and_tensor\": 0.0005557537078857422, \"sentence_prediction\": 0.030457735061645508, \"realign\": 0.0003223419189453125, \"sentence_get_entities\": 0.0011529922485351562, \"sentence_result_json\": 2.384185791015625e-07}, {\"tokenize_and_tensor\": 0.0005178451538085938, \"sentence_prediction\": 0.031049489974975586, \"realign\": 0.0002532005310058594, \"sentence_get_entities\": 0.0004942417144775391, \"sentence_result_json\": 2.384185791015625e-07}, {\"tokenize_and_tensor\": 0.0006310939788818359, \"sentence_prediction\": 0.030703067779541016, \"realign\": 0.0004298686981201172, \"sentence_get_entities\": 0.0017619132995605469, \"sentence_result_json\": 2.384185791015625e-07}, {\"tokenize_and_tensor\": 0.0006458759307861328, \"sentence_prediction\": 0.03074479103088379, \"realign\": 0.00036263465881347656, \"sentence_get_entities\": 0.0013458728790283203, \"sentence_result_json\": 2.384185791015625e-07}, {\"tokenize_and_tensor\": 0.0005412101745605469, \"sentence_prediction\": 0.03075551986694336, \"realign\": 0.00025534629821777344, \"sentence_get_entities\": 0.0006656646728515625, \"sentence_result_json\": 0.0}, {\"tokenize_and_tensor\": 0.0005908012390136719, \"sentence_prediction\": 0.030724525451660156, \"realign\": 0.0003762245178222656, \"sentence_get_entities\": 0.0015480518341064453, \"sentence_result_json\": 2.384185791015625e-07}, {\"tokenize_and_tensor\": 0.0005586147308349609, \"sentence_prediction\": 0.030704021453857422, \"realign\": 0.0002617835998535156, \"sentence_get_entities\": 0.0005784034729003906, \"sentence_result_json\": 2.384185791015625e-07}, {\"tokenize_and_tensor\": 0.0005304813385009766, \"sentence_prediction\": 0.03071284294128418, \"realign\": 0.00026726722717285156, \"sentence_get_entities\": 0.0006201267242431641, \"sentence_result_json\": 2.384185791015625e-07}, {\"tokenize_and_tensor\": 0.0005283355712890625, \"sentence_prediction\": 0.030750274658203125, \"realign\": 0.0002536773681640625, \"sentence_get_entities\": 0.0004451274871826172, \"sentence_result_json\": 2.384185791015625e-07}, {\"tokenize_and_tensor\": 0.0005125999450683594, \"sentence_prediction\": 0.03071880340576172, \"realign\": 0.0002505779266357422, \"sentence_get_entities\": 0.00045609474182128906, \"sentence_result_json\": 2.384185791015625e-07}, {\"tokenize_and_tensor\": 0.0006108283996582031, \"sentence_prediction\": 0.0307772159576416, \"realign\": 0.00043964385986328125, \"sentence_get_entities\": 0.0018162727355957031, \"sentence_result_json\": 2.384185791015625e-07}, {\"tokenize_and_tensor\": 0.000545501708984375, \"sentence_prediction\": 0.030761241912841797, \"realign\": 0.0002522468566894531, \"sentence_get_entities\": 0.0003509521484375, \"sentence_result_json\": 0.0}, {\"tokenize_and_tensor\": 0.0005640983581542969, \"sentence_prediction\": 0.030786991119384766, \"realign\": 0.00025653839111328125, \"sentence_get_entities\": 0.0004951953887939453, \"sentence_result_json\": 2.384185791015625e-07}, {\"tokenize_and_tensor\": 0.0005040168762207031, \"sentence_prediction\": 0.03072834014892578, \"realign\": 0.00024580955505371094, \"sentence_get_entities\": 0.0004928112030029297, \"sentence_result_json\": 2.384185791015625e-07}, {\"tokenize_and_tensor\": 0.0005588531494140625, \"sentence_prediction\": 0.03070354461669922, \"realign\": 0.00031304359436035156, \"sentence_get_entities\": 0.0008299350738525391, \"sentence_result_json\": 2.384185791015625e-07}, {\"tokenize_and_tensor\": 0.0005257129669189453, \"sentence_prediction\": 0.030775070190429688, \"realign\": 0.0002636909484863281, \"sentence_get_entities\": 0.0004367828369140625, \"sentence_result_json\": 2.384185791015625e-07}]}, {\"segment\": 0.003439188003540039, \"entire_article\": [{\"tokenize_and_tensor\": 0.0008318424224853516, \"sentence_prediction\": 0.03073287010192871, \"realign\": 0.0006108283996582031, \"sentence_get_entities\": 0.0028619766235351562, \"sentence_result_json\": 2.384185791015625e-07}, {\"tokenize_and_tensor\": 0.0007307529449462891, \"sentence_prediction\": 0.03077244758605957, \"realign\": 0.0004496574401855469, \"sentence_get_entities\": 0.0019299983978271484, \"sentence_result_json\": 2.384185791015625e-07}, {\"tokenize_and_tensor\": 0.0006344318389892578, \"sentence_prediction\": 0.03077983856201172, \"realign\": 0.0003533363342285156, \"sentence_get_entities\": 0.0011544227600097656, \"sentence_result_json\": 2.384185791015625e-07}, {\"tokenize_and_tensor\": 0.0005884170532226562, \"sentence_prediction\": 0.030701875686645508, \"realign\": 0.0003256797790527344, \"sentence_get_entities\": 0.0010099411010742188, \"sentence_result_json\": 4.76837158203125e-07}, {\"tokenize_and_tensor\": 0.0004994869232177734, \"sentence_prediction\": 0.030759096145629883, \"realign\": 0.00023889541625976562, \"sentence_get_entities\": 0.0001957416534423828, \"sentence_result_json\": 2.384185791015625e-07}]}, {\"segment\": 0.01758861541748047, \"entire_article\": [{\"tokenize_and_tensor\": 0.0006306171417236328, \"sentence_prediction\": 0.18759441375732422, \"realign\": 0.0002732276916503906, \"sentence_get_entities\": 0.0004527568817138672, \"sentence_result_json\": 4.76837158203125e-07}, {\"tokenize_and_tensor\": 0.001287698745727539, \"sentence_prediction\": 0.3209524154663086, \"realign\": 0.0017547607421875, \"sentence_get_entities\": 0.009842395782470703, \"sentence_result_json\": 2.384185791015625e-07}, {\"tokenize_and_tensor\": 0.0006597042083740234, \"sentence_prediction\": 0.030525684356689453, \"realign\": 0.0003540515899658203, \"sentence_get_entities\": 0.001100301742553711, \"sentence_result_json\": 2.384185791015625e-07}, {\"tokenize_and_tensor\": 0.0006399154663085938, \"sentence_prediction\": 0.030515193939208984, \"realign\": 0.00048089027404785156, \"sentence_get_entities\": 0.0019075870513916016, \"sentence_result_json\": 2.384185791015625e-07}, {\"tokenize_and_tensor\": 0.000522613525390625, \"sentence_prediction\": 0.030497312545776367, \"realign\": 0.0002377033233642578, \"sentence_get_entities\": 0.0003590583801269531, \"sentence_result_json\": 2.384185791015625e-07}, {\"tokenize_and_tensor\": 0.0004949569702148438, \"sentence_prediction\": 0.030524253845214844, \"realign\": 0.0002989768981933594, \"sentence_get_entities\": 0.0007774829864501953, \"sentence_result_json\": 2.384185791015625e-07}, {\"tokenize_and_tensor\": 0.0005259513854980469, \"sentence_prediction\": 0.03048110008239746, \"realign\": 0.0002899169921875, \"sentence_get_entities\": 0.0007536411285400391, \"sentence_result_json\": 4.76837158203125e-07}, {\"tokenize_and_tensor\": 0.0005123615264892578, \"sentence_prediction\": 0.0295712947845459, \"realign\": 0.00027298927307128906, \"sentence_get_entities\": 0.0007390975952148438, \"sentence_result_json\": 2.384185791015625e-07}, {\"tokenize_and_tensor\": 0.0005991458892822266, \"sentence_prediction\": 0.02953624725341797, \"realign\": 0.00040221214294433594, \"sentence_get_entities\": 0.0013985633850097656, \"sentence_result_json\": 2.384185791015625e-07}, {\"tokenize_and_tensor\": 0.0006189346313476562, \"sentence_prediction\": 0.029544830322265625, \"realign\": 0.0004165172576904297, \"sentence_get_entities\": 0.001344442367553711, \"sentence_result_json\": 2.384185791015625e-07}, {\"tokenize_and_tensor\": 0.0005779266357421875, \"sentence_prediction\": 0.029569149017333984, \"realign\": 0.00035500526428222656, \"sentence_get_entities\": 0.0009350776672363281, \"sentence_result_json\": 2.384185791015625e-07}, {\"tokenize_and_tensor\": 0.0006337165832519531, \"sentence_prediction\": 0.030258655548095703, \"realign\": 0.0005223751068115234, \"sentence_get_entities\": 0.002272367477416992, \"sentence_result_json\": 4.76837158203125e-07}, {\"tokenize_and_tensor\": 0.0005519390106201172, \"sentence_prediction\": 0.030643224716186523, \"realign\": 0.00026226043701171875, \"sentence_get_entities\": 0.0005216598510742188, \"sentence_result_json\": 2.384185791015625e-07}]}, {\"segment\": 0.004336118698120117, \"entire_article\": [{\"tokenize_and_tensor\": 0.0006988048553466797, \"sentence_prediction\": 0.030150413513183594, \"realign\": 0.0004563331604003906, \"sentence_get_entities\": 0.0018436908721923828, \"sentence_result_json\": 2.384185791015625e-07}, {\"tokenize_and_tensor\": 0.0006835460662841797, \"sentence_prediction\": 0.0300443172454834, \"realign\": 0.0004851818084716797, \"sentence_get_entities\": 0.002339601516723633, \"sentence_result_json\": 2.384185791015625e-07}, {\"tokenize_and_tensor\": 0.0007116794586181641, \"sentence_prediction\": 0.030787229537963867, \"realign\": 0.0003955364227294922, \"sentence_get_entities\": 0.001657247543334961, \"sentence_result_json\": 4.76837158203125e-07}, {\"tokenize_and_tensor\": 0.0006034374237060547, \"sentence_prediction\": 0.03018641471862793, \"realign\": 0.0003490447998046875, \"sentence_get_entities\": 0.001264333724975586, \"sentence_result_json\": 2.384185791015625e-07}, {\"tokenize_and_tensor\": 0.0005960464477539062, \"sentence_prediction\": 0.030204296112060547, \"realign\": 0.00037860870361328125, \"sentence_get_entities\": 0.001420736312866211, \"sentence_result_json\": 2.384185791015625e-07}, {\"tokenize_and_tensor\": 0.0005815029144287109, \"sentence_prediction\": 0.030223369598388672, \"realign\": 0.00037932395935058594, \"sentence_get_entities\": 0.0014972686767578125, \"sentence_result_json\": 2.384185791015625e-07}, {\"tokenize_and_tensor\": 0.0005156993865966797, \"sentence_prediction\": 0.030303239822387695, \"realign\": 0.0002346038818359375, \"sentence_get_entities\": 0.0003247261047363281, \"sentence_result_json\": 2.384185791015625e-07}]}, {\"segment\": 0.07150125503540039, \"entire_article\": [{\"tokenize_and_tensor\": 0.0007479190826416016, \"sentence_prediction\": 0.02987217903137207, \"realign\": 0.0005681514739990234, \"sentence_get_entities\": 0.002834320068359375, \"sentence_result_json\": 2.384185791015625e-07}, {\"tokenize_and_tensor\": 0.0007240772247314453, \"sentence_prediction\": 0.0298614501953125, \"realign\": 0.0004699230194091797, \"sentence_get_entities\": 0.002399921417236328, \"sentence_result_json\": 2.384185791015625e-07}, {\"tokenize_and_tensor\": 0.000560760498046875, \"sentence_prediction\": 0.0298917293548584, \"realign\": 0.00028204917907714844, \"sentence_get_entities\": 0.0006315708160400391, \"sentence_result_json\": 2.384185791015625e-07}, {\"tokenize_and_tensor\": 0.00058746337890625, \"sentence_prediction\": 0.02989506721496582, \"realign\": 0.0003135204315185547, \"sentence_get_entities\": 0.0009038448333740234, \"sentence_result_json\": 2.384185791015625e-07}, {\"tokenize_and_tensor\": 0.0005042552947998047, \"sentence_prediction\": 0.03027820587158203, \"realign\": 0.0002658367156982422, \"sentence_get_entities\": 0.0007092952728271484, \"sentence_result_json\": 0.0}, {\"tokenize_and_tensor\": 0.0005819797515869141, \"sentence_prediction\": 0.0295717716217041, \"realign\": 0.00039958953857421875, \"sentence_get_entities\": 0.0017256736755371094, \"sentence_result_json\": 2.384185791015625e-07}, {\"tokenize_and_tensor\": 0.0005788803100585938, \"sentence_prediction\": 0.029552221298217773, \"realign\": 0.00036334991455078125, \"sentence_get_entities\": 0.0013012886047363281, \"sentence_result_json\": 2.384185791015625e-07}, {\"tokenize_and_tensor\": 0.0005412101745605469, \"sentence_prediction\": 0.029580116271972656, \"realign\": 0.0002880096435546875, \"sentence_get_entities\": 0.0007734298706054688, \"sentence_result_json\": 2.384185791015625e-07}, {\"tokenize_and_tensor\": 0.0005636215209960938, \"sentence_prediction\": 0.030550479888916016, \"realign\": 0.0003306865692138672, \"sentence_get_entities\": 0.0009250640869140625, \"sentence_result_json\": 2.384185791015625e-07}, {\"tokenize_and_tensor\": 0.0005245208740234375, \"sentence_prediction\": 0.030108213424682617, \"realign\": 0.00031065940856933594, \"sentence_get_entities\": 0.0009770393371582031, \"sentence_result_json\": 4.76837158203125e-07}, {\"tokenize_and_tensor\": 0.000598907470703125, \"sentence_prediction\": 0.03013324737548828, \"realign\": 0.00030541419982910156, \"sentence_get_entities\": 0.0009334087371826172, \"sentence_result_json\": 2.384185791015625e-07}, {\"tokenize_and_tensor\": 0.000545501708984375, \"sentence_prediction\": 0.030982255935668945, \"realign\": 0.0003285408020019531, \"sentence_get_entities\": 0.0011701583862304688, \"sentence_result_json\": 2.384185791015625e-07}, {\"tokenize_and_tensor\": 0.0005533695220947266, \"sentence_prediction\": 0.030829429626464844, \"realign\": 0.0003371238708496094, \"sentence_get_entities\": 0.001132965087890625, \"sentence_result_json\": 0.0}, {\"tokenize_and_tensor\": 0.0006175041198730469, \"sentence_prediction\": 0.030843257904052734, \"realign\": 0.0004050731658935547, \"sentence_get_entities\": 0.0016586780548095703, \"sentence_result_json\": 2.384185791015625e-07}, {\"tokenize_and_tensor\": 0.0006723403930664062, \"sentence_prediction\": 0.03083634376525879, \"realign\": 0.0004494190216064453, \"sentence_get_entities\": 0.002095937728881836, \"sentence_result_json\": 2.384185791015625e-07}, {\"tokenize_and_tensor\": 0.0005664825439453125, \"sentence_prediction\": 0.030829191207885742, \"realign\": 0.0002548694610595703, \"sentence_get_entities\": 0.0005159378051757812, \"sentence_result_json\": 4.76837158203125e-07}, {\"tokenize_and_tensor\": 0.0005469322204589844, \"sentence_prediction\": 0.03082275390625, \"realign\": 0.0003688335418701172, \"sentence_get_entities\": 0.0013897418975830078, \"sentence_result_json\": 4.76837158203125e-07}, {\"tokenize_and_tensor\": 0.000652313232421875, \"sentence_prediction\": 0.030857324600219727, \"realign\": 0.0004475116729736328, \"sentence_get_entities\": 0.002026081085205078, \"sentence_result_json\": 2.384185791015625e-07}, {\"tokenize_and_tensor\": 0.0006411075592041016, \"sentence_prediction\": 0.03085470199584961, \"realign\": 0.0004303455352783203, \"sentence_get_entities\": 0.0018591880798339844, \"sentence_result_json\": 2.384185791015625e-07}, {\"tokenize_and_tensor\": 0.0005619525909423828, \"sentence_prediction\": 0.031375885009765625, \"realign\": 0.00028324127197265625, \"sentence_get_entities\": 0.0008666515350341797, \"sentence_result_json\": 2.384185791015625e-07}, {\"tokenize_and_tensor\": 0.0005826950073242188, \"sentence_prediction\": 0.03054976463317871, \"realign\": 0.0003757476806640625, \"sentence_get_entities\": 0.0015552043914794922, \"sentence_result_json\": 4.76837158203125e-07}, {\"tokenize_and_tensor\": 0.0005629062652587891, \"sentence_prediction\": 0.030556440353393555, \"realign\": 0.0002968311309814453, \"sentence_get_entities\": 0.0008363723754882812, \"sentence_result_json\": 4.76837158203125e-07}, {\"tokenize_and_tensor\": 0.0005202293395996094, \"sentence_prediction\": 0.030549287796020508, \"realign\": 0.0003261566162109375, \"sentence_get_entities\": 0.001180887222290039, \"sentence_result_json\": 2.384185791015625e-07}, {\"tokenize_and_tensor\": 0.0005967617034912109, \"sentence_prediction\": 0.03052687644958496, \"realign\": 0.0004279613494873047, \"sentence_get_entities\": 0.0020151138305664062, \"sentence_result_json\": 2.384185791015625e-07}, {\"tokenize_and_tensor\": 0.0006160736083984375, \"sentence_prediction\": 0.03061676025390625, \"realign\": 0.00036907196044921875, \"sentence_get_entities\": 0.0014238357543945312, \"sentence_result_json\": 2.384185791015625e-07}, {\"tokenize_and_tensor\": 0.0005965232849121094, \"sentence_prediction\": 0.030313730239868164, \"realign\": 0.0003840923309326172, \"sentence_get_entities\": 0.001566171646118164, \"sentence_result_json\": 0.0}, {\"tokenize_and_tensor\": 0.0005347728729248047, \"sentence_prediction\": 0.0303342342376709, \"realign\": 0.00027251243591308594, \"sentence_get_entities\": 0.0005037784576416016, \"sentence_result_json\": 2.384185791015625e-07}, {\"tokenize_and_tensor\": 0.0005500316619873047, \"sentence_prediction\": 0.030331134796142578, \"realign\": 0.0003414154052734375, \"sentence_get_entities\": 0.0010199546813964844, \"sentence_result_json\": 2.384185791015625e-07}, {\"tokenize_and_tensor\": 0.0005562305450439453, \"sentence_prediction\": 0.03031611442565918, \"realign\": 0.0003573894500732422, \"sentence_get_entities\": 0.0013468265533447266, \"sentence_result_json\": 2.384185791015625e-07}, {\"tokenize_and_tensor\": 0.0005292892456054688, \"sentence_prediction\": 0.03031301498413086, \"realign\": 0.00029015541076660156, \"sentence_get_entities\": 0.0006134510040283203, \"sentence_result_json\": 0.0}, {\"tokenize_and_tensor\": 0.0006728172302246094, \"sentence_prediction\": 0.030333995819091797, \"realign\": 0.0004482269287109375, \"sentence_get_entities\": 0.0023326873779296875, \"sentence_result_json\": 2.384185791015625e-07}, {\"tokenize_and_tensor\": 0.0008769035339355469, \"sentence_prediction\": 0.030329227447509766, \"realign\": 0.0008342266082763672, \"sentence_get_entities\": 0.004732608795166016, \"sentence_result_json\": 0.0}, {\"tokenize_and_tensor\": 0.0006940364837646484, \"sentence_prediction\": 0.03032207489013672, \"realign\": 0.00047469139099121094, \"sentence_get_entities\": 0.0022780895233154297, \"sentence_result_json\": 2.384185791015625e-07}, {\"tokenize_and_tensor\": 0.0006642341613769531, \"sentence_prediction\": 0.03057551383972168, \"realign\": 0.0003223419189453125, \"sentence_get_entities\": 0.0011620521545410156, \"sentence_result_json\": 2.384185791015625e-07}, {\"tokenize_and_tensor\": 0.0005538463592529297, \"sentence_prediction\": 0.030332565307617188, \"realign\": 0.00030684471130371094, \"sentence_get_entities\": 0.0009016990661621094, \"sentence_result_json\": 7.152557373046875e-07}, {\"tokenize_and_tensor\": 0.0006053447723388672, \"sentence_prediction\": 0.03066253662109375, \"realign\": 0.0004642009735107422, \"sentence_get_entities\": 0.0020911693572998047, \"sentence_result_json\": 2.384185791015625e-07}, {\"tokenize_and_tensor\": 0.0005376338958740234, \"sentence_prediction\": 0.030064105987548828, \"realign\": 0.00023055076599121094, \"sentence_get_entities\": 0.0004124641418457031, \"sentence_result_json\": 2.384185791015625e-07}, {\"tokenize_and_tensor\": 0.0005080699920654297, \"sentence_prediction\": 0.030081510543823242, \"realign\": 0.0002434253692626953, \"sentence_get_entities\": 0.00044345855712890625, \"sentence_result_json\": 2.384185791015625e-07}, {\"tokenize_and_tensor\": 0.0005156993865966797, \"sentence_prediction\": 0.030719280242919922, \"realign\": 0.00030517578125, \"sentence_get_entities\": 0.0007908344268798828, \"sentence_result_json\": 1.1444091796875e-05}, {\"tokenize_and_tensor\": 0.0005321502685546875, \"sentence_prediction\": 0.03023815155029297, \"realign\": 0.0003235340118408203, \"sentence_get_entities\": 0.0010669231414794922, \"sentence_result_json\": 2.384185791015625e-07}, {\"tokenize_and_tensor\": 0.00057220458984375, \"sentence_prediction\": 0.030196666717529297, \"realign\": 0.0003726482391357422, \"sentence_get_entities\": 0.0016820430755615234, \"sentence_result_json\": 2.384185791015625e-07}, {\"tokenize_and_tensor\": 0.0005278587341308594, \"sentence_prediction\": 0.03089594841003418, \"realign\": 0.0002238750457763672, \"sentence_get_entities\": 0.00020694732666015625, \"sentence_result_json\": 4.76837158203125e-07}, {\"tokenize_and_tensor\": 0.0005283355712890625, \"sentence_prediction\": 0.030555009841918945, \"realign\": 0.000362396240234375, \"sentence_get_entities\": 0.0013759136199951172, \"sentence_result_json\": 2.384185791015625e-07}, {\"tokenize_and_tensor\": 0.0005626678466796875, \"sentence_prediction\": 0.030527830123901367, \"realign\": 0.0003495216369628906, \"sentence_get_entities\": 0.001195669174194336, \"sentence_result_json\": 0.0}, {\"tokenize_and_tensor\": 0.0005788803100585938, \"sentence_prediction\": 0.03109908103942871, \"realign\": 0.00036835670471191406, \"sentence_get_entities\": 0.001382589340209961, \"sentence_result_json\": 2.384185791015625e-07}, {\"tokenize_and_tensor\": 0.0005409717559814453, \"sentence_prediction\": 0.030829429626464844, \"realign\": 0.0002913475036621094, \"sentence_get_entities\": 0.0007801055908203125, \"sentence_result_json\": 2.384185791015625e-07}, {\"tokenize_and_tensor\": 0.0005099773406982422, \"sentence_prediction\": 0.0308377742767334, \"realign\": 0.00029087066650390625, \"sentence_get_entities\": 0.0007305145263671875, \"sentence_result_json\": 2.384185791015625e-07}, {\"tokenize_and_tensor\": 0.0005362033843994141, \"sentence_prediction\": 0.030788421630859375, \"realign\": 0.0002694129943847656, \"sentence_get_entities\": 0.0005269050598144531, \"sentence_result_json\": 2.384185791015625e-07}, {\"tokenize_and_tensor\": 0.00047469139099121094, \"sentence_prediction\": 0.03077983856201172, \"realign\": 0.00022292137145996094, \"sentence_get_entities\": 0.00019478797912597656, \"sentence_result_json\": 2.384185791015625e-07}, {\"tokenize_and_tensor\": 0.0005033016204833984, \"sentence_prediction\": 0.030874252319335938, \"realign\": 0.0003037452697753906, \"sentence_get_entities\": 0.0007138252258300781, \"sentence_result_json\": 2.384185791015625e-07}, {\"tokenize_and_tensor\": 0.0005745887756347656, \"sentence_prediction\": 0.03086996078491211, \"realign\": 0.0002968311309814453, \"sentence_get_entities\": 0.0007877349853515625, \"sentence_result_json\": 4.76837158203125e-07}, {\"tokenize_and_tensor\": 0.0004906654357910156, \"sentence_prediction\": 0.0308377742767334, \"realign\": 0.0002465248107910156, \"sentence_get_entities\": 0.00019478797912597656, \"sentence_result_json\": 2.384185791015625e-07}, {\"tokenize_and_tensor\": 0.000514984130859375, \"sentence_prediction\": 0.03080892562866211, \"realign\": 0.0003211498260498047, \"sentence_get_entities\": 0.0010068416595458984, \"sentence_result_json\": 2.384185791015625e-07}, {\"tokenize_and_tensor\": 0.0005166530609130859, \"sentence_prediction\": 0.030830860137939453, \"realign\": 0.00028204917907714844, \"sentence_get_entities\": 0.0006694793701171875, \"sentence_result_json\": 2.384185791015625e-07}, {\"tokenize_and_tensor\": 0.0004787445068359375, \"sentence_prediction\": 0.030834674835205078, \"realign\": 0.00022912025451660156, \"sentence_get_entities\": 0.0001938343048095703, \"sentence_result_json\": 4.76837158203125e-07}, {\"tokenize_and_tensor\": 0.0005509853363037109, \"sentence_prediction\": 0.030838966369628906, \"realign\": 0.000377655029296875, \"sentence_get_entities\": 0.0015587806701660156, \"sentence_result_json\": 2.384185791015625e-07}, {\"tokenize_and_tensor\": 0.0005395412445068359, \"sentence_prediction\": 0.030857324600219727, \"realign\": 0.00027489662170410156, \"sentence_get_entities\": 0.0006177425384521484, \"sentence_result_json\": 2.384185791015625e-07}, {\"tokenize_and_tensor\": 0.0004680156707763672, \"sentence_prediction\": 0.030846357345581055, \"realign\": 0.00021910667419433594, \"sentence_get_entities\": 0.00019121170043945312, \"sentence_result_json\": 2.384185791015625e-07}, {\"tokenize_and_tensor\": 0.0005934238433837891, \"sentence_prediction\": 0.030860424041748047, \"realign\": 0.0004544258117675781, \"sentence_get_entities\": 0.002245187759399414, \"sentence_result_json\": 2.384185791015625e-07}, {\"tokenize_and_tensor\": 0.0005726814270019531, \"sentence_prediction\": 0.030826091766357422, \"realign\": 0.0003108978271484375, \"sentence_get_entities\": 0.0007917881011962891, \"sentence_result_json\": 2.384185791015625e-07}, {\"tokenize_and_tensor\": 0.0005242824554443359, \"sentence_prediction\": 0.03135108947753906, \"realign\": 0.0003046989440917969, \"sentence_get_entities\": 0.001058340072631836, \"sentence_result_json\": 2.384185791015625e-07}, {\"tokenize_and_tensor\": 0.0005459785461425781, \"sentence_prediction\": 0.03058171272277832, \"realign\": 0.0003077983856201172, \"sentence_get_entities\": 0.0008268356323242188, \"sentence_result_json\": 2.384185791015625e-07}, {\"tokenize_and_tensor\": 0.0005383491516113281, \"sentence_prediction\": 0.030533552169799805, \"realign\": 0.0003476142883300781, \"sentence_get_entities\": 0.0012905597686767578, \"sentence_result_json\": 2.384185791015625e-07}, {\"tokenize_and_tensor\": 0.0004968643188476562, \"sentence_prediction\": 0.030558347702026367, \"realign\": 0.0002353191375732422, \"sentence_get_entities\": 0.0003342628479003906, \"sentence_result_json\": 4.76837158203125e-07}, {\"tokenize_and_tensor\": 0.0004601478576660156, \"sentence_prediction\": 0.030562162399291992, \"realign\": 0.0002372264862060547, \"sentence_get_entities\": 0.00033211708068847656, \"sentence_result_json\": 2.384185791015625e-07}, {\"tokenize_and_tensor\": 0.0004677772521972656, \"sentence_prediction\": 0.03055429458618164, \"realign\": 0.00025463104248046875, \"sentence_get_entities\": 0.0004298686981201172, \"sentence_result_json\": 4.76837158203125e-07}, {\"tokenize_and_tensor\": 0.0006010532379150391, \"sentence_prediction\": 0.030901670455932617, \"realign\": 0.0004553794860839844, \"sentence_get_entities\": 0.0022509098052978516, \"sentence_result_json\": 2.384185791015625e-07}, {\"tokenize_and_tensor\": 0.0007355213165283203, \"sentence_prediction\": 0.030350923538208008, \"realign\": 0.0005595684051513672, \"sentence_get_entities\": 0.003008127212524414, \"sentence_result_json\": 2.384185791015625e-07}, {\"tokenize_and_tensor\": 0.0007147789001464844, \"sentence_prediction\": 0.030328035354614258, \"realign\": 0.0005061626434326172, \"sentence_get_entities\": 0.0024611949920654297, \"sentence_result_json\": 2.384185791015625e-07}, {\"tokenize_and_tensor\": 0.0005841255187988281, \"sentence_prediction\": 0.030385732650756836, \"realign\": 0.00037097930908203125, \"sentence_get_entities\": 0.0007159709930419922, \"sentence_result_json\": 4.76837158203125e-07}, {\"tokenize_and_tensor\": 0.00067138671875, \"sentence_prediction\": 0.030384302139282227, \"realign\": 0.0004432201385498047, \"sentence_get_entities\": 0.0020835399627685547, \"sentence_result_json\": 2.384185791015625e-07}, {\"tokenize_and_tensor\": 0.0006604194641113281, \"sentence_prediction\": 0.030301332473754883, \"realign\": 0.0004398822784423828, \"sentence_get_entities\": 0.0019817352294921875, \"sentence_result_json\": 2.384185791015625e-07}, {\"tokenize_and_tensor\": 0.0006554126739501953, \"sentence_prediction\": 0.030379772186279297, \"realign\": 0.00046896934509277344, \"sentence_get_entities\": 0.0022683143615722656, \"sentence_result_json\": 2.384185791015625e-07}, {\"tokenize_and_tensor\": 0.0005881786346435547, \"sentence_prediction\": 0.030370712280273438, \"realign\": 0.0002942085266113281, \"sentence_get_entities\": 0.0007686614990234375, \"sentence_result_json\": 2.384185791015625e-07}, {\"tokenize_and_tensor\": 0.0005035400390625, \"sentence_prediction\": 0.03036332130432129, \"realign\": 0.00025343894958496094, \"sentence_get_entities\": 0.0005309581756591797, \"sentence_result_json\": 2.384185791015625e-07}, {\"tokenize_and_tensor\": 0.000484466552734375, \"sentence_prediction\": 0.030987977981567383, \"realign\": 0.00025081634521484375, \"sentence_get_entities\": 0.0004329681396484375, \"sentence_result_json\": 0.0}, {\"tokenize_and_tensor\": 0.00046133995056152344, \"sentence_prediction\": 0.030536890029907227, \"realign\": 0.00023055076599121094, \"sentence_get_entities\": 0.00019598007202148438, \"sentence_result_json\": 2.384185791015625e-07}]}, {\"segment\": 0.01192474365234375, \"entire_article\": [{\"tokenize_and_tensor\": 0.000591278076171875, \"sentence_prediction\": 0.03055429458618164, \"realign\": 0.0002701282501220703, \"sentence_get_entities\": 0.0005049705505371094, \"sentence_result_json\": 4.76837158203125e-07}, {\"tokenize_and_tensor\": 0.00048828125, \"sentence_prediction\": 0.030547618865966797, \"realign\": 0.00025773048400878906, \"sentence_get_entities\": 0.00041556358337402344, \"sentence_result_json\": 2.384185791015625e-07}, {\"tokenize_and_tensor\": 0.0004858970642089844, \"sentence_prediction\": 0.030576467514038086, \"realign\": 0.0002498626708984375, \"sentence_get_entities\": 0.0004487037658691406, \"sentence_result_json\": 2.384185791015625e-07}, {\"tokenize_and_tensor\": 0.0005316734313964844, \"sentence_prediction\": 0.03052377700805664, \"realign\": 0.0003209114074707031, \"sentence_get_entities\": 0.0007443428039550781, \"sentence_result_json\": 2.384185791015625e-07}, {\"tokenize_and_tensor\": 0.0005254745483398438, \"sentence_prediction\": 0.030104398727416992, \"realign\": 0.00027751922607421875, \"sentence_get_entities\": 0.0006706714630126953, \"sentence_result_json\": 4.76837158203125e-07}, {\"tokenize_and_tensor\": 0.0005292892456054688, \"sentence_prediction\": 0.030145645141601562, \"realign\": 0.0003170967102050781, \"sentence_get_entities\": 0.0008673667907714844, \"sentence_result_json\": 2.384185791015625e-07}, {\"tokenize_and_tensor\": 0.0005879402160644531, \"sentence_prediction\": 0.03011941909790039, \"realign\": 0.00032401084899902344, \"sentence_get_entities\": 0.001100778579711914, \"sentence_result_json\": 2.384185791015625e-07}, {\"tokenize_and_tensor\": 0.0005486011505126953, \"sentence_prediction\": 0.030800342559814453, \"realign\": 0.0003216266632080078, \"sentence_get_entities\": 0.0008318424224853516, \"sentence_result_json\": 0.0}, {\"tokenize_and_tensor\": 0.0004837512969970703, \"sentence_prediction\": 0.03050851821899414, \"realign\": 0.0002655982971191406, \"sentence_get_entities\": 0.0005004405975341797, \"sentence_result_json\": 2.384185791015625e-07}, {\"tokenize_and_tensor\": 0.0005345344543457031, \"sentence_prediction\": 0.03059697151184082, \"realign\": 0.00031566619873046875, \"sentence_get_entities\": 0.0007870197296142578, \"sentence_result_json\": 2.384185791015625e-07}, {\"tokenize_and_tensor\": 0.0005142688751220703, \"sentence_prediction\": 0.031187057495117188, \"realign\": 0.0002841949462890625, \"sentence_get_entities\": 0.0005700588226318359, \"sentence_result_json\": 4.76837158203125e-07}, {\"tokenize_and_tensor\": 0.0005919933319091797, \"sentence_prediction\": 0.030876636505126953, \"realign\": 0.0003876686096191406, \"sentence_get_entities\": 0.0012431144714355469, \"sentence_result_json\": 2.384185791015625e-07}, {\"tokenize_and_tensor\": 0.0005586147308349609, \"sentence_prediction\": 0.03090357780456543, \"realign\": 0.00031948089599609375, \"sentence_get_entities\": 0.0008630752563476562, \"sentence_result_json\": 4.76837158203125e-07}, {\"tokenize_and_tensor\": 0.0005419254302978516, \"sentence_prediction\": 0.03083658218383789, \"realign\": 0.0003235340118408203, \"sentence_get_entities\": 0.0007991790771484375, \"sentence_result_json\": 2.384185791015625e-07}, {\"tokenize_and_tensor\": 0.0005290508270263672, \"sentence_prediction\": 0.030890226364135742, \"realign\": 0.0002849102020263672, \"sentence_get_entities\": 0.0008676052093505859, \"sentence_result_json\": 4.76837158203125e-07}, {\"tokenize_and_tensor\": 0.0005052089691162109, \"sentence_prediction\": 0.030835628509521484, \"realign\": 0.00030040740966796875, \"sentence_get_entities\": 0.0005960464477539062, \"sentence_result_json\": 2.384185791015625e-07}, {\"tokenize_and_tensor\": 0.0004999637603759766, \"sentence_prediction\": 0.030824899673461914, \"realign\": 0.0002970695495605469, \"sentence_get_entities\": 0.0005466938018798828, \"sentence_result_json\": 2.384185791015625e-07}, {\"tokenize_and_tensor\": 0.0005388259887695312, \"sentence_prediction\": 0.030846357345581055, \"realign\": 0.000293731689453125, \"sentence_get_entities\": 0.0007271766662597656, \"sentence_result_json\": 2.384185791015625e-07}, {\"tokenize_and_tensor\": 0.0005326271057128906, \"sentence_prediction\": 0.030853748321533203, \"realign\": 0.0003085136413574219, \"sentence_get_entities\": 0.0006356239318847656, \"sentence_result_json\": 4.76837158203125e-07}, {\"tokenize_and_tensor\": 0.0005099773406982422, \"sentence_prediction\": 0.03084564208984375, \"realign\": 0.0002808570861816406, \"sentence_get_entities\": 0.0004973411560058594, \"sentence_result_json\": 2.384185791015625e-07}, {\"tokenize_and_tensor\": 0.0004899501800537109, \"sentence_prediction\": 0.03087449073791504, \"realign\": 0.0002467632293701172, \"sentence_get_entities\": 0.0004036426544189453, \"sentence_result_json\": 2.384185791015625e-07}, {\"tokenize_and_tensor\": 0.0005052089691162109, \"sentence_prediction\": 0.030885934829711914, \"realign\": 0.0002970695495605469, \"sentence_get_entities\": 0.0006356239318847656, \"sentence_result_json\": 2.384185791015625e-07}]}, {\"segment\": 0.0004532337188720703, \"entire_article\": [{\"tokenize_and_tensor\": 0.0005311965942382812, \"sentence_prediction\": 0.030825138092041016, \"realign\": 0.00026917457580566406, \"sentence_get_entities\": 0.0006017684936523438, \"sentence_result_json\": 2.384185791015625e-07}]}, {\"segment\": 0.00046539306640625, \"entire_article\": [{\"tokenize_and_tensor\": 0.0005166530609130859, \"sentence_prediction\": 0.030868053436279297, \"realign\": 0.00025343894958496094, \"sentence_get_entities\": 0.0004425048828125, \"sentence_result_json\": 7.152557373046875e-07}]}, {\"segment\": 0.03992104530334473, \"entire_article\": [{\"tokenize_and_tensor\": 0.0007724761962890625, \"sentence_prediction\": 0.030920028686523438, \"realign\": 0.0006117820739746094, \"sentence_get_entities\": 0.003240346908569336, \"sentence_result_json\": 7.152557373046875e-07}, {\"tokenize_and_tensor\": 0.0009891986846923828, \"sentence_prediction\": 0.03091883659362793, \"realign\": 0.0007381439208984375, \"sentence_get_entities\": 0.004180192947387695, \"sentence_result_json\": 4.76837158203125e-07}, {\"tokenize_and_tensor\": 0.0006744861602783203, \"sentence_prediction\": 0.03083658218383789, \"realign\": 0.0003151893615722656, \"sentence_get_entities\": 0.0009541511535644531, \"sentence_result_json\": 4.76837158203125e-07}, {\"tokenize_and_tensor\": 0.0006296634674072266, \"sentence_prediction\": 0.030856847763061523, \"realign\": 0.0004515647888183594, \"sentence_get_entities\": 0.0021097660064697266, \"sentence_result_json\": 2.384185791015625e-07}, {\"tokenize_and_tensor\": 0.0006995201110839844, \"sentence_prediction\": 0.03074502944946289, \"realign\": 0.0005095005035400391, \"sentence_get_entities\": 0.0026340484619140625, \"sentence_result_json\": 2.384185791015625e-07}, {\"tokenize_and_tensor\": 0.0006651878356933594, \"sentence_prediction\": 0.029834985733032227, \"realign\": 0.0004515647888183594, \"sentence_get_entities\": 0.0016655921936035156, \"sentence_result_json\": 2.384185791015625e-07}, {\"tokenize_and_tensor\": 0.0005955696105957031, \"sentence_prediction\": 0.02980780601501465, \"realign\": 0.00034165382385253906, \"sentence_get_entities\": 0.0011663436889648438, \"sentence_result_json\": 2.384185791015625e-07}, {\"tokenize_and_tensor\": 0.0005805492401123047, \"sentence_prediction\": 0.02982497215270996, \"realign\": 0.0003859996795654297, \"sentence_get_entities\": 0.0017933845520019531, \"sentence_result_json\": 2.384185791015625e-07}, {\"tokenize_and_tensor\": 0.000659942626953125, \"sentence_prediction\": 0.029822826385498047, \"realign\": 0.0004515647888183594, \"sentence_get_entities\": 0.002330780029296875, \"sentence_result_json\": 0.0}, {\"tokenize_and_tensor\": 0.0006616115570068359, \"sentence_prediction\": 0.030397415161132812, \"realign\": 0.0003185272216796875, \"sentence_get_entities\": 0.0011610984802246094, \"sentence_result_json\": 4.76837158203125e-07}, {\"tokenize_and_tensor\": 0.0006165504455566406, \"sentence_prediction\": 0.030106544494628906, \"realign\": 0.0004258155822753906, \"sentence_get_entities\": 0.0020666122436523438, \"sentence_result_json\": 2.384185791015625e-07}, {\"tokenize_and_tensor\": 0.0006361007690429688, \"sentence_prediction\": 0.03014349937438965, \"realign\": 0.0003745555877685547, \"sentence_get_entities\": 0.00160980224609375, \"sentence_result_json\": 2.384185791015625e-07}, {\"tokenize_and_tensor\": 0.0007030963897705078, \"sentence_prediction\": 0.03067326545715332, \"realign\": 0.0005438327789306641, \"sentence_get_entities\": 0.002840757369995117, \"sentence_result_json\": 2.384185791015625e-07}, {\"tokenize_and_tensor\": 0.0006833076477050781, \"sentence_prediction\": 0.03025674819946289, \"realign\": 0.00045680999755859375, \"sentence_get_entities\": 0.0019903182983398438, \"sentence_result_json\": 2.384185791015625e-07}, {\"tokenize_and_tensor\": 0.0008189678192138672, \"sentence_prediction\": 0.030317306518554688, \"realign\": 0.000568389892578125, \"sentence_get_entities\": 0.0033156871795654297, \"sentence_result_json\": 0.0}, {\"tokenize_and_tensor\": 0.0008540153503417969, \"sentence_prediction\": 0.030251264572143555, \"realign\": 0.0007441043853759766, \"sentence_get_entities\": 0.0050792694091796875, \"sentence_result_json\": 0.0}, {\"tokenize_and_tensor\": 0.0006797313690185547, \"sentence_prediction\": 0.03023505210876465, \"realign\": 0.0003974437713623047, \"sentence_get_entities\": 0.001800537109375, \"sentence_result_json\": 2.384185791015625e-07}, {\"tokenize_and_tensor\": 0.0007290840148925781, \"sentence_prediction\": 0.03025960922241211, \"realign\": 0.00045013427734375, \"sentence_get_entities\": 0.0023500919342041016, \"sentence_result_json\": 2.384185791015625e-07}, {\"tokenize_and_tensor\": 0.0008165836334228516, \"sentence_prediction\": 0.030358552932739258, \"realign\": 0.0007181167602539062, \"sentence_get_entities\": 0.004742860794067383, \"sentence_result_json\": 2.384185791015625e-07}, {\"tokenize_and_tensor\": 0.0006289482116699219, \"sentence_prediction\": 0.03043675422668457, \"realign\": 0.0005319118499755859, \"sentence_get_entities\": 0.0011203289031982422, \"sentence_result_json\": 2.384185791015625e-07}, {\"tokenize_and_tensor\": 0.0006835460662841797, \"sentence_prediction\": 0.03041553497314453, \"realign\": 0.0006012916564941406, \"sentence_get_entities\": 0.0024857521057128906, \"sentence_result_json\": 2.384185791015625e-07}, {\"tokenize_and_tensor\": 0.0006749629974365234, \"sentence_prediction\": 0.030247211456298828, \"realign\": 0.0005407333374023438, \"sentence_get_entities\": 0.002532958984375, \"sentence_result_json\": 2.384185791015625e-07}, {\"tokenize_and_tensor\": 0.0008170604705810547, \"sentence_prediction\": 0.030388593673706055, \"realign\": 0.0007700920104980469, \"sentence_get_entities\": 0.004888296127319336, \"sentence_result_json\": 2.384185791015625e-07}, {\"tokenize_and_tensor\": 0.0007026195526123047, \"sentence_prediction\": 0.03021693229675293, \"realign\": 0.00040721893310546875, \"sentence_get_entities\": 0.001878976821899414, \"sentence_result_json\": 4.76837158203125e-07}, {\"tokenize_and_tensor\": 0.000675201416015625, \"sentence_prediction\": 0.030307292938232422, \"realign\": 0.0004875659942626953, \"sentence_get_entities\": 0.0022373199462890625, \"sentence_result_json\": 2.384185791015625e-07}, {\"tokenize_and_tensor\": 0.000728607177734375, \"sentence_prediction\": 0.030244112014770508, \"realign\": 0.0005545616149902344, \"sentence_get_entities\": 0.003133535385131836, \"sentence_result_json\": 2.384185791015625e-07}, {\"tokenize_and_tensor\": 0.0007045269012451172, \"sentence_prediction\": 0.030236244201660156, \"realign\": 0.00048661231994628906, \"sentence_get_entities\": 0.0023887157440185547, \"sentence_result_json\": 0.0}, {\"tokenize_and_tensor\": 0.0006957054138183594, \"sentence_prediction\": 0.0302731990814209, \"realign\": 0.0005040168762207031, \"sentence_get_entities\": 0.0025255680084228516, \"sentence_result_json\": 2.384185791015625e-07}, {\"tokenize_and_tensor\": 0.0006780624389648438, \"sentence_prediction\": 0.030770063400268555, \"realign\": 0.00044345855712890625, \"sentence_get_entities\": 0.0022094249725341797, \"sentence_result_json\": 4.76837158203125e-07}, {\"tokenize_and_tensor\": 0.0006933212280273438, \"sentence_prediction\": 0.030145883560180664, \"realign\": 0.0004961490631103516, \"sentence_get_entities\": 0.0025949478149414062, \"sentence_result_json\": 2.384185791015625e-07}, {\"tokenize_and_tensor\": 0.0005817413330078125, \"sentence_prediction\": 0.030088186264038086, \"realign\": 0.00030040740966796875, \"sentence_get_entities\": 0.00033593177795410156, \"sentence_result_json\": 2.384185791015625e-07}]}, {\"segment\": 0.002100229263305664, \"entire_article\": [{\"tokenize_and_tensor\": 0.0006937980651855469, \"sentence_prediction\": 0.0301210880279541, \"realign\": 0.00048351287841796875, \"sentence_get_entities\": 0.0025119781494140625, \"sentence_result_json\": 4.76837158203125e-07}, {\"tokenize_and_tensor\": 0.0005717277526855469, \"sentence_prediction\": 0.03011298179626465, \"realign\": 0.0002789497375488281, \"sentence_get_entities\": 0.0005600452423095703, \"sentence_result_json\": 4.76837158203125e-07}, {\"tokenize_and_tensor\": 0.0005633831024169922, \"sentence_prediction\": 0.030875682830810547, \"realign\": 0.0003898143768310547, \"sentence_get_entities\": 0.0013551712036132812, \"sentence_result_json\": 2.384185791015625e-07}, {\"tokenize_and_tensor\": 0.0006010532379150391, \"sentence_prediction\": 0.03024435043334961, \"realign\": 0.00037598609924316406, \"sentence_get_entities\": 0.0012791156768798828, \"sentence_result_json\": 2.384185791015625e-07}]}, {\"segment\": 0.0022420883178710938, \"entire_article\": [{\"tokenize_and_tensor\": 0.0006151199340820312, \"sentence_prediction\": 0.030306100845336914, \"realign\": 0.00031566619873046875, \"sentence_get_entities\": 0.0007488727569580078, \"sentence_result_json\": 2.384185791015625e-07}, {\"tokenize_and_tensor\": 0.0006725788116455078, \"sentence_prediction\": 0.030236244201660156, \"realign\": 0.0005078315734863281, \"sentence_get_entities\": 0.0021162033081054688, \"sentence_result_json\": 2.384185791015625e-07}]}]'],\n",
       " 'process_articles': 23.722525119781494,\n",
       " 'write_articles': 3.4628796577453613,\n",
       " 'batch_time': 27.206321716308594}"
      ]
     },
     "execution_count": 9,
     "metadata": {},
     "output_type": "execute_result"
    }
   ],
   "source": [
    "timings[1]"
   ]
  },
  {
   "cell_type": "code",
   "execution_count": null,
   "id": "5cf72b8f",
   "metadata": {},
   "outputs": [],
   "source": []
  },
  {
   "cell_type": "code",
   "execution_count": null,
   "id": "cdf2923e",
   "metadata": {},
   "outputs": [],
   "source": []
  },
  {
   "cell_type": "code",
   "execution_count": null,
   "id": "78a0d1b9",
   "metadata": {},
   "outputs": [],
   "source": []
  },
  {
   "cell_type": "code",
   "execution_count": null,
   "id": "87b673f5",
   "metadata": {},
   "outputs": [],
   "source": []
  },
  {
   "cell_type": "code",
   "execution_count": 27,
   "id": "41a17e15",
   "metadata": {},
   "outputs": [
    {
     "name": "stdout",
     "output_type": "stream",
     "text": [
      "-------------------- No Dask -------------------- \n",
      "\n",
      "Total number of files: 10\n",
      "Total number of articles: 10\n",
      "Total number of sentences: 10115\n",
      "Average segmentation time per article: nan seconds\n",
      "Average time to process an article: 24.058415 seconds\n",
      "Average time to write an article: 3.503594 seconds\n",
      "Average time to load models: 0.000000 seconds\n",
      "Average time for entity prediction: 0.045121 seconds\n",
      "Average time per sentence: 0.009668 seconds\n",
      "Average time per batch: 27.564041 seconds\n",
      "Total processing time: 275.64 seconds, 4.59 minutes\n",
      "-------------------- Dask + Model -------------------- \n",
      "\n",
      "Total number of files: 10\n",
      "Total number of articles: 10\n",
      "Total number of sentences: 10115\n",
      "Average segmentation time per article: nan seconds\n",
      "Average time to process an article: 23.852114 seconds\n",
      "Average time to write an article: 3.368521 seconds\n",
      "Average time to load models: 0.000000 seconds\n",
      "Average time for entity prediction: 0.045865 seconds\n",
      "Average time per sentence: 0.009825 seconds\n",
      "Average time per batch: 27.222910 seconds\n",
      "Total processing time: 272.23 seconds, 4.54 minutes\n",
      "-------------------- Dask + TorchServe -------------------- \n",
      "\n",
      "Total number of files: 10\n",
      "Total number of articles: 10\n",
      "Total number of sentences: 4046\n",
      "Average segmentation time per article: nan seconds\n",
      "Average time to process an article: 24.149961 seconds\n",
      "Average time to write an article: 2.995662 seconds\n",
      "Average time to load models: 0.000000 seconds\n",
      "Average time for entity prediction: 0.075008 seconds\n",
      "Average time per sentence: 0.037504 seconds\n",
      "Average time per batch: 27.148116 seconds\n",
      "Total processing time: 271.48 seconds, 4.52 minutes\n"
     ]
    }
   ],
   "source": [
    "import json\n",
    "import numpy as np\n",
    "\n",
    "def process_timing_data(timings):\n",
    "    # Create lists to store the timing data\n",
    "    segment_times = []\n",
    "    process_article_times = []\n",
    "    write_article_times = []\n",
    "    load_models_times = []\n",
    "    entity_prediction_times = []\n",
    "    batch_times = []\n",
    "    sentence_times = []\n",
    "\n",
    "    # Loop over each batch's timings\n",
    "    for batch in timings:\n",
    "        process_article_times.append(batch.get('process_articles', 0))\n",
    "        write_article_times.append(batch.get('write_articles', 0))\n",
    "        load_models_times.append(batch.get('load_models', 0))\n",
    "        batch_times.append(batch.get('batch_time', 0))\n",
    "\n",
    "        # Extract prediction times from timing_articles\n",
    "        timing_articles = batch.get('timing_articles', [])\n",
    "        for article_timing in timing_articles:\n",
    "            article_data = json.loads(article_timing)\n",
    "\n",
    "            if 'segment' in article_data:\n",
    "                segment_times.append(article_data['segment'])\n",
    "            elif 'load_models' in article_data:\n",
    "                load_models_times.append(article_data['load_models'])\n",
    "#             print(len(article_data))\n",
    "            \n",
    "            for article in article_data:\n",
    "                if 'entire_article' in article:\n",
    "#                     article = json.loads(article)\n",
    "                    for sentence in article['entire_article']:\n",
    "                        sentence_times.extend(sentence.values())\n",
    "                        entity_prediction_time = sentence['sentence_prediction']\n",
    "                        entity_prediction_times.append(entity_prediction_time)\n",
    "\n",
    "    # Convert to numpy arrays for easier mathematical operations\n",
    "    segment_times = np.array(segment_times)\n",
    "    process_article_times = np.array(process_article_times)\n",
    "    write_article_times = np.array(write_article_times)\n",
    "    load_models_times = np.array(load_models_times)\n",
    "    entity_prediction_times = np.array(entity_prediction_times)\n",
    "    batch_times = np.array(batch_times)\n",
    "    sentence_times = np.array(sentence_times)\n",
    "\n",
    "    # Total number of files, articles, and sentences\n",
    "    total_files = len(timings)\n",
    "    total_articles = len(segment_times) + len(load_models_times)\n",
    "    total_sentences = len(sentence_times)\n",
    "\n",
    "    # Calculate statistics\n",
    "    avg_segment_time = np.mean(segment_times)\n",
    "    avg_process_article_time = np.mean(process_article_times)\n",
    "    avg_write_article_time = np.mean(write_article_times)\n",
    "    avg_load_models_time = np.mean(load_models_times)\n",
    "    avg_entity_prediction_time = np.mean(entity_prediction_times)\n",
    "    avg_sentence_time = np.mean(sentence_times)\n",
    "    avg_batch_time = np.mean(batch_times)\n",
    "    total_time = np.sum(batch_times)\n",
    "\n",
    "    # Print statistics\n",
    "    print(f\"Total number of files: {total_files}\")\n",
    "    print(f\"Total number of articles: {total_articles}\")\n",
    "    print(f\"Total number of sentences: {total_sentences}\")\n",
    "\n",
    "    print(f\"Average segmentation time per article: {avg_segment_time:.6f} seconds\")\n",
    "    print(f\"Average time to process an article: {avg_process_article_time:.6f} seconds\")\n",
    "    print(f\"Average time to write an article: {avg_write_article_time:.6f} seconds\")\n",
    "    print(f\"Average time to load models: {avg_load_models_time:.6f} seconds\")\n",
    "    print(f\"Average time for entity prediction: {avg_entity_prediction_time:.6f} seconds\")\n",
    "    print(f\"Average time per sentence: {avg_sentence_time:.6f} seconds\")\n",
    "    print(f\"Average time per batch: {avg_batch_time:.6f} seconds\")\n",
    "    print(f\"Total processing time: {total_time:.2f} seconds, {total_time/60:.2f} minutes\")\n",
    "\n",
    "# Example usage\n",
    "import json\n",
    "import numpy as np\n",
    "\n",
    "\n",
    "for item in [('No Dask', 'batch_timings_no_dask.json'),\n",
    "            ('Dask + Model', 'batch_timings_dask.json'),\n",
    "            ('Dask + TorchServe', 'batch_timings_dask_ts.json'),\n",
    "            ('Dask + TorchServe + Batch', 'batch_timings_dask_ts_batch.json')]:\n",
    "    detail, file = item\n",
    "    print('--'*10, detail, '--'*10, '\\n')\n",
    "    # Load timings data from JSON\n",
    "    with open(file, 'r') as f:\n",
    "        timings = json.load(f)\n",
    "    process_timing_data(timings)"
   ]
  },
  {
   "cell_type": "code",
   "execution_count": null,
   "id": "9bae1e79",
   "metadata": {},
   "outputs": [],
   "source": []
  },
  {
   "cell_type": "code",
   "execution_count": null,
   "id": "709ac6ab",
   "metadata": {},
   "outputs": [],
   "source": []
  },
  {
   "cell_type": "code",
   "execution_count": null,
   "id": "5ffe92f9",
   "metadata": {},
   "outputs": [],
   "source": []
  },
  {
   "cell_type": "code",
   "execution_count": null,
   "id": "0f967212",
   "metadata": {},
   "outputs": [],
   "source": []
  }
 ],
 "metadata": {
  "kernelspec": {
   "display_name": "Python 3 (ipykernel)",
   "language": "python",
   "name": "python3"
  },
  "language_info": {
   "codemirror_mode": {
    "name": "ipython",
    "version": 3
   },
   "file_extension": ".py",
   "mimetype": "text/x-python",
   "name": "python",
   "nbconvert_exporter": "python",
   "pygments_lexer": "ipython3",
   "version": "3.9.6"
  }
 },
 "nbformat": 4,
 "nbformat_minor": 5
}
