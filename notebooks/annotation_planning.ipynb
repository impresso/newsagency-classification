{
 "cells": [
  {
   "attachments": {},
   "cell_type": "markdown",
   "metadata": {},
   "source": [
    "# Annotation Planning\n",
    "Make CSV with all the information"
   ]
  },
  {
   "cell_type": "code",
   "execution_count": 11,
   "metadata": {},
   "outputs": [],
   "source": [
    "import pandas as pd\n",
    "import os\n",
    "from os import listdir\n",
    "from os.path import join, isfile\n",
    "from typing import List"
   ]
  },
  {
   "cell_type": "code",
   "execution_count": 12,
   "metadata": {},
   "outputs": [],
   "source": [
    "ann_planning_per_annotator = \"./../data/data_info/annotation_planning_per_annotator.csv\"\n",
    "annotated_docID_dir = \"./../data/data_info/\"\n",
    "DATA_PATH = \"../data/\""
   ]
  },
  {
   "cell_type": "code",
   "execution_count": 13,
   "metadata": {},
   "outputs": [],
   "source": [
    "def get_annotated_ids(annotated_docs: str, lang: str, recompute_file: bool = False) -> List[str]:\n",
    "    \"\"\" \n",
    "    Parameters:\n",
    "        annotated_docs: either directory which contains all the articles for annotation (xmi-articles are queried in subfolder core_{lang}/xmi/)\n",
    "                        or path of txt-file which contains list of all the annotated articles\n",
    "        lang: language (\"de\" or \"fr\")\n",
    "    \"\"\"\n",
    "\n",
    "    if recompute_file:\n",
    "        annotation_core_dir = join(DATA_PATH, f\"for_annotation/core_{lang.lower()}/xmi/\")\n",
    "        annotation_IA_dir = join(DATA_PATH, f\"for_annotation/IA_{lang.lower()}/xmi/\")\n",
    "\n",
    "        #get document IDs of docs which were annotated for the project \n",
    "        doc_IDs_with_ending = [f for f in listdir(annotation_core_dir) if isfile(join(annotation_core_dir, f))]\n",
    "        doc_IDs_with_ending += [f for f in listdir(annotation_IA_dir) if isfile(join(annotation_IA_dir, f))]\n",
    "\n",
    "        doc_IDs = sorted([filename[:-4] for filename in doc_IDs_with_ending])\n",
    "\n",
    "        with open(annotated_docs + f\"annotated_{lang}_docIDs.txt\", \"w\") as f:\n",
    "            for id in doc_IDs:\n",
    "                f.write(id +\"\\n\")\n",
    "\n",
    "    else:\n",
    "        with open(annotated_docs + f\"annotated_{lang}_docIDs.txt\", \"r\") as f:\n",
    "            doc_IDs = [line.rstrip() for line in f]\n",
    "    \n",
    "    return doc_IDs\n",
    "        \n",
    "\n",
    "\n",
    "def annotation_planning2df(annotation_planning_path: str):\n",
    "    \"\"\"\n",
    "    Takes the csv file used to organise for annotation and turns it into a pandas Dataframe with the following columns:\n",
    "        Annotator (str), Inception Project (str), Newspapers (list of str), Finished Annotation (bool)\n",
    "    :rtype pd.DataFrame\n",
    "    \"\"\"\n",
    "    ann_planning = pd.read_csv(annotation_planning_path, usecols=[\"Annotator\", \"Inception Project\", \"Newspapers\", \"Finished Annotation\"])\n",
    "    ann_planning['Annotator'] = ann_planning['Annotator'].fillna(method='ffill')\n",
    "    ann_planning['Newspapers'] = ann_planning['Newspapers'].apply(lambda x: x.split(\", \"))\n",
    "\n",
    "    return ann_planning"
   ]
  },
  {
   "cell_type": "code",
   "execution_count": 14,
   "metadata": {},
   "outputs": [
    {
     "data": {
      "text/html": [
       "<div>\n",
       "<style scoped>\n",
       "    .dataframe tbody tr th:only-of-type {\n",
       "        vertical-align: middle;\n",
       "    }\n",
       "\n",
       "    .dataframe tbody tr th {\n",
       "        vertical-align: top;\n",
       "    }\n",
       "\n",
       "    .dataframe thead th {\n",
       "        text-align: right;\n",
       "    }\n",
       "</style>\n",
       "<table border=\"1\" class=\"dataframe\">\n",
       "  <thead>\n",
       "    <tr style=\"text-align: right;\">\n",
       "      <th></th>\n",
       "      <th>Document ID</th>\n",
       "      <th>Corpus</th>\n",
       "    </tr>\n",
       "  </thead>\n",
       "  <tbody>\n",
       "    <tr>\n",
       "      <th>0</th>\n",
       "      <td>DTT-1943-01-13-a-i0005</td>\n",
       "      <td>de</td>\n",
       "    </tr>\n",
       "    <tr>\n",
       "      <th>1</th>\n",
       "      <td>DTT-1943-06-05-a-i0036</td>\n",
       "      <td>de</td>\n",
       "    </tr>\n",
       "    <tr>\n",
       "      <th>2</th>\n",
       "      <td>DTT-1943-07-20-a-i0033</td>\n",
       "      <td>de</td>\n",
       "    </tr>\n",
       "    <tr>\n",
       "      <th>3</th>\n",
       "      <td>DTT-1943-09-30-a-i0009</td>\n",
       "      <td>de</td>\n",
       "    </tr>\n",
       "    <tr>\n",
       "      <th>4</th>\n",
       "      <td>DTT-1945-08-09-a-i0008</td>\n",
       "      <td>de</td>\n",
       "    </tr>\n",
       "  </tbody>\n",
       "</table>\n",
       "</div>"
      ],
      "text/plain": [
       "              Document ID Corpus\n",
       "0  DTT-1943-01-13-a-i0005     de\n",
       "1  DTT-1943-06-05-a-i0036     de\n",
       "2  DTT-1943-07-20-a-i0033     de\n",
       "3  DTT-1943-09-30-a-i0009     de\n",
       "4  DTT-1945-08-09-a-i0008     de"
      ]
     },
     "execution_count": 14,
     "metadata": {},
     "output_type": "execute_result"
    }
   ],
   "source": [
    "#get all the annotated documents\n",
    "doc_IDs_fr = pd.DataFrame(get_annotated_ids(annotated_docID_dir, \"fr\"),\n",
    "                          columns=['Document ID'])\n",
    "doc_IDs_fr[\"Corpus\"] = \"fr\"\n",
    "doc_IDs_de = pd.DataFrame(get_annotated_ids(annotated_docID_dir, \"de\"),\n",
    "                          columns=[\"Document ID\"])\n",
    "doc_IDs_de[\"Corpus\"] = \"de\"\n",
    "doc_IDs = pd.concat([doc_IDs_de, doc_IDs_fr])\n",
    "doc_IDs.head()"
   ]
  },
  {
   "cell_type": "code",
   "execution_count": 15,
   "metadata": {},
   "outputs": [
    {
     "data": {
      "text/html": [
       "<div>\n",
       "<style scoped>\n",
       "    .dataframe tbody tr th:only-of-type {\n",
       "        vertical-align: middle;\n",
       "    }\n",
       "\n",
       "    .dataframe tbody tr th {\n",
       "        vertical-align: top;\n",
       "    }\n",
       "\n",
       "    .dataframe thead th {\n",
       "        text-align: right;\n",
       "    }\n",
       "</style>\n",
       "<table border=\"1\" class=\"dataframe\">\n",
       "  <thead>\n",
       "    <tr style=\"text-align: right;\">\n",
       "      <th></th>\n",
       "      <th>Annotator</th>\n",
       "      <th>Inception Project</th>\n",
       "      <th>Newspapers</th>\n",
       "      <th>Finished Annotation</th>\n",
       "    </tr>\n",
       "  </thead>\n",
       "  <tbody>\n",
       "    <tr>\n",
       "      <th>0</th>\n",
       "      <td>eboros</td>\n",
       "      <td>impresso-newsagencies: FR</td>\n",
       "      <td>JDG</td>\n",
       "      <td>True</td>\n",
       "    </tr>\n",
       "    <tr>\n",
       "      <th>0</th>\n",
       "      <td>eboros</td>\n",
       "      <td>impresso-newsagencies: FR</td>\n",
       "      <td>LCR</td>\n",
       "      <td>True</td>\n",
       "    </tr>\n",
       "    <tr>\n",
       "      <th>1</th>\n",
       "      <td>eboros</td>\n",
       "      <td>impresso-newsagencies: FR-Minireference</td>\n",
       "      <td>all</td>\n",
       "      <td>True</td>\n",
       "    </tr>\n",
       "    <tr>\n",
       "      <th>2</th>\n",
       "      <td>mduring</td>\n",
       "      <td>impresso-newsagencies: DE</td>\n",
       "      <td>luxwort</td>\n",
       "      <td>True</td>\n",
       "    </tr>\n",
       "    <tr>\n",
       "      <th>2</th>\n",
       "      <td>mduring</td>\n",
       "      <td>impresso-newsagencies: DE</td>\n",
       "      <td>FZG</td>\n",
       "      <td>True</td>\n",
       "    </tr>\n",
       "  </tbody>\n",
       "</table>\n",
       "</div>"
      ],
      "text/plain": [
       "  Annotator                        Inception Project Newspapers  \\\n",
       "0    eboros                impresso-newsagencies: FR        JDG   \n",
       "0    eboros                impresso-newsagencies: FR        LCR   \n",
       "1    eboros  impresso-newsagencies: FR-Minireference        all   \n",
       "2   mduring                impresso-newsagencies: DE    luxwort   \n",
       "2   mduring                impresso-newsagencies: DE        FZG   \n",
       "\n",
       "   Finished Annotation  \n",
       "0                 True  \n",
       "0                 True  \n",
       "1                 True  \n",
       "2                 True  \n",
       "2                 True  "
      ]
     },
     "execution_count": 15,
     "metadata": {},
     "output_type": "execute_result"
    }
   ],
   "source": [
    "annotation_df = annotation_planning2df(ann_planning_per_annotator)\n",
    "annotation_df = annotation_df.explode(\"Newspapers\")\n",
    "annotation_df.head(5)"
   ]
  },
  {
   "cell_type": "code",
   "execution_count": 16,
   "metadata": {},
   "outputs": [
    {
     "data": {
      "text/html": [
       "<div>\n",
       "<style scoped>\n",
       "    .dataframe tbody tr th:only-of-type {\n",
       "        vertical-align: middle;\n",
       "    }\n",
       "\n",
       "    .dataframe tbody tr th {\n",
       "        vertical-align: top;\n",
       "    }\n",
       "\n",
       "    .dataframe thead th {\n",
       "        text-align: right;\n",
       "    }\n",
       "</style>\n",
       "<table border=\"1\" class=\"dataframe\">\n",
       "  <thead>\n",
       "    <tr style=\"text-align: right;\">\n",
       "      <th></th>\n",
       "      <th>Document ID</th>\n",
       "      <th>Corpus</th>\n",
       "      <th>Annotator</th>\n",
       "      <th>Inception Project</th>\n",
       "      <th>Finished Annotation</th>\n",
       "    </tr>\n",
       "  </thead>\n",
       "  <tbody>\n",
       "    <tr>\n",
       "      <th>0</th>\n",
       "      <td>DTT-1943-01-13-a-i0005</td>\n",
       "      <td>de</td>\n",
       "      <td>mduring</td>\n",
       "      <td>impresso-newsagencies: DE</td>\n",
       "      <td>True</td>\n",
       "    </tr>\n",
       "    <tr>\n",
       "      <th>1</th>\n",
       "      <td>DTT-1943-06-05-a-i0036</td>\n",
       "      <td>de</td>\n",
       "      <td>mduring</td>\n",
       "      <td>impresso-newsagencies: DE</td>\n",
       "      <td>True</td>\n",
       "    </tr>\n",
       "    <tr>\n",
       "      <th>2</th>\n",
       "      <td>DTT-1943-07-20-a-i0033</td>\n",
       "      <td>de</td>\n",
       "      <td>mduring</td>\n",
       "      <td>impresso-newsagencies: DE</td>\n",
       "      <td>True</td>\n",
       "    </tr>\n",
       "    <tr>\n",
       "      <th>3</th>\n",
       "      <td>DTT-1943-09-30-a-i0009</td>\n",
       "      <td>de</td>\n",
       "      <td>mduring</td>\n",
       "      <td>impresso-newsagencies: DE</td>\n",
       "      <td>True</td>\n",
       "    </tr>\n",
       "    <tr>\n",
       "      <th>4</th>\n",
       "      <td>DTT-1945-08-09-a-i0008</td>\n",
       "      <td>de</td>\n",
       "      <td>mduring</td>\n",
       "      <td>impresso-newsagencies: DE</td>\n",
       "      <td>True</td>\n",
       "    </tr>\n",
       "  </tbody>\n",
       "</table>\n",
       "</div>"
      ],
      "text/plain": [
       "              Document ID Corpus Annotator          Inception Project  \\\n",
       "0  DTT-1943-01-13-a-i0005     de   mduring  impresso-newsagencies: DE   \n",
       "1  DTT-1943-06-05-a-i0036     de   mduring  impresso-newsagencies: DE   \n",
       "2  DTT-1943-07-20-a-i0033     de   mduring  impresso-newsagencies: DE   \n",
       "3  DTT-1943-09-30-a-i0009     de   mduring  impresso-newsagencies: DE   \n",
       "4  DTT-1945-08-09-a-i0008     de   mduring  impresso-newsagencies: DE   \n",
       "\n",
       "   Finished Annotation  \n",
       "0                 True  \n",
       "1                 True  \n",
       "2                 True  \n",
       "3                 True  \n",
       "4                 True  "
      ]
     },
     "execution_count": 16,
     "metadata": {},
     "output_type": "execute_result"
    }
   ],
   "source": [
    "doc_IDs['Newspapers'] = doc_IDs['Document ID'].apply(lambda s: s.split(\"-\")[0])\n",
    "annotation_df = doc_IDs.merge(annotation_df, on='Newspapers')\n",
    "annotation_df.drop(\"Newspapers\", axis=1, inplace=True)\n",
    "annotation_df.head()"
   ]
  },
  {
   "cell_type": "code",
   "execution_count": 17,
   "metadata": {},
   "outputs": [],
   "source": [
    "#add information of split\n",
    "split_df_de = pd.read_csv(os.path.join(\"./../data/data_info/\", f\"train-dev-test_de.csv\"), \n",
    "                          usecols=[\"uid\", \"split\"])\n",
    "split_df_fr = pd.read_csv(os.path.join(\"./../data/data_info/\", f\"train-dev-test_fr.csv\"), \n",
    "                          usecols=[\"uid\", \"split\"])\n",
    "split_df = pd.concat([split_df_de, split_df_fr])\n",
    "annotation_df = annotation_df.merge(split_df, left_on=\"Document ID\", right_on=\"uid\", how=\"left\")\n",
    "annotation_df.drop(columns=\"uid\", inplace=True)"
   ]
  },
  {
   "cell_type": "code",
   "execution_count": 18,
   "metadata": {},
   "outputs": [
    {
     "data": {
      "text/plain": [
       "0"
      ]
     },
     "execution_count": 18,
     "metadata": {},
     "output_type": "execute_result"
    }
   ],
   "source": [
    "sum(annotation_df[\"split\"].isna()) # 0: every row is assigned a split"
   ]
  },
  {
   "attachments": {},
   "cell_type": "markdown",
   "metadata": {},
   "source": [
    "## Save Table (annotation per doc)"
   ]
  },
  {
   "cell_type": "code",
   "execution_count": 19,
   "metadata": {},
   "outputs": [],
   "source": [
    "annotation_df.to_csv(os.path.join(annotated_docID_dir, \"annotation_planning_per_doc.csv\"))"
   ]
  },
  {
   "cell_type": "code",
   "execution_count": null,
   "metadata": {},
   "outputs": [],
   "source": []
  }
 ],
 "metadata": {
  "kernelspec": {
   "display_name": "base",
   "language": "python",
   "name": "python3"
  },
  "language_info": {
   "codemirror_mode": {
    "name": "ipython",
    "version": 3
   },
   "file_extension": ".py",
   "mimetype": "text/x-python",
   "name": "python",
   "nbconvert_exporter": "python",
   "pygments_lexer": "ipython3",
   "version": "3.8.12"
  },
  "orig_nbformat": 4
 },
 "nbformat": 4,
 "nbformat_minor": 2
}
