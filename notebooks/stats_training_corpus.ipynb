{
 "cells": [
  {
   "cell_type": "code",
   "execution_count": 1,
   "metadata": {},
   "outputs": [],
   "source": [
    "import os\n",
    "from os import listdir\n",
    "from os.path import isfile, join\n",
    "from typing import Dict, List\n",
    "import pandas as pd\n",
    "import seaborn as sns\n",
    "import matplotlib.pyplot as plt\n",
    "\n",
    "from hipe_commons.own_helpers import tsv_to_dataframe, get_newsag_df\n",
    "from hipe_commons.helpers.tsv import parse_tsv, ENTITY_TYPES, HipeDocument\n",
    "from hipe_commons.stats import describe_dataset"
   ]
  },
  {
   "attachments": {},
   "cell_type": "markdown",
   "metadata": {},
   "source": [
    "# Create Dataframe for Stats"
   ]
  },
  {
   "cell_type": "code",
   "execution_count": 2,
   "metadata": {},
   "outputs": [],
   "source": [
    "docs_de_dir = \"../data/annotated_retok_autosegment/de/tsv-corrected/\"\n",
    "docs_fr_dir = \"../data/annotated_retok_autosegment/fr/tsv-corrected/\"\n",
    "\n",
    "split_de_path = \"../data/data_info/train-dev-test_de.csv\"\n",
    "split_fr_path = \"../data/data_info/train-dev-test_fr.csv\"\n",
    "\n",
    "docs_de = [f for f in listdir(docs_de_dir) if isfile(join(docs_de_dir, f))]\n",
    "docs_fr = [f for f in listdir(docs_fr_dir) if isfile(join(docs_fr_dir, f))]"
   ]
  },
  {
   "cell_type": "code",
   "execution_count": 3,
   "metadata": {},
   "outputs": [
    {
     "data": {
      "text/html": [
       "<div>\n",
       "<style scoped>\n",
       "    .dataframe tbody tr th:only-of-type {\n",
       "        vertical-align: middle;\n",
       "    }\n",
       "\n",
       "    .dataframe tbody tr th {\n",
       "        vertical-align: top;\n",
       "    }\n",
       "\n",
       "    .dataframe thead th {\n",
       "        text-align: right;\n",
       "    }\n",
       "</style>\n",
       "<table border=\"1\" class=\"dataframe\">\n",
       "  <thead>\n",
       "    <tr style=\"text-align: right;\">\n",
       "      <th></th>\n",
       "      <th>Unnamed: 0</th>\n",
       "      <th>split</th>\n",
       "    </tr>\n",
       "    <tr>\n",
       "      <th>uid</th>\n",
       "      <th></th>\n",
       "      <th></th>\n",
       "    </tr>\n",
       "  </thead>\n",
       "  <tbody>\n",
       "    <tr>\n",
       "      <th>JDG-1946-11-23-a-i0128</th>\n",
       "      <td>1057</td>\n",
       "      <td>train</td>\n",
       "    </tr>\n",
       "    <tr>\n",
       "      <th>IMP-1949-02-04-a-i0155</th>\n",
       "      <td>1039</td>\n",
       "      <td>train</td>\n",
       "    </tr>\n",
       "  </tbody>\n",
       "</table>\n",
       "</div>"
      ],
      "text/plain": [
       "                        Unnamed: 0  split\n",
       "uid                                      \n",
       "JDG-1946-11-23-a-i0128        1057  train\n",
       "IMP-1949-02-04-a-i0155        1039  train"
      ]
     },
     "execution_count": 3,
     "metadata": {},
     "output_type": "execute_result"
    }
   ],
   "source": [
    "#import information on split\n",
    "split_de = pd.read_csv(split_de_path).set_index(\"uid\")\n",
    "split_fr = pd.read_csv(split_fr_path).set_index(\"uid\")\n",
    "\n",
    "#some articles were wrongly classified as French\n",
    "luxworts = [\"luxwort-1849-06-03-a-i0008\", \"luxwort-1849-07-15-a-i0002\", \"luxwort-1850-05-12-a-i0004\", \"luxwort-1853-11-27-a-i0001\", \"luxwort-1858-02-26-a-i0009\", \"luxwort-1858-11-25-a-i0009\"]\n",
    "if luxworts[0] in split_fr.index:\n",
    "    split_de = pd.concat([split_de, split_fr.loc[luxworts]])\n",
    "    split_fr = split_fr.drop(luxworts)\n",
    "    #save changes\n",
    "    split_de.to_csv(split_de_path)\n",
    "    split_fr.to_csv(split_fr_path)\n",
    "\n",
    "    if (luxworts[0] in split_de.index) and (luxworts[0] not in split_fr.index):\n",
    "        print(\"Transfer of Luxwort articles completed.\")\n",
    "\n",
    "split_fr.head(2)"
   ]
  },
  {
   "cell_type": "code",
   "execution_count": 4,
   "metadata": {},
   "outputs": [],
   "source": [
    "def make_stats_rows(cur_df, annotation_planning):\n",
    "\n",
    "    mentions = {col: [] for col in [\"document_id\", \"year\", \"decade\", \"newspaper\", \"document_size\", \"language\", \"split\",\n",
    "                              \"ag_mention\", \"ag_position\", \"ag_at_beginning\", \"ag_at_end\",\n",
    "                              \"levenshtein_dist\"]}\n",
    "    \n",
    "    no_mention = {col: [] for col in [\"document_id\", \"year\", \"decade\", \"newspaper\", \"document_size\", \"language\", \"split\"]}\n",
    "    \n",
    "    doc_id = cur_df[\"document_id\"].values[0]\n",
    "\n",
    "    if cur_df[\"news-agency-as-source\"].values[0] == \"_\":\n",
    "        no_mention[\"document_id\"].append(cur_df[\"document_id\"].values[0])\n",
    "\n",
    "        year = int(cur_df[\"date\"].values[0][:4])\n",
    "        no_mention[\"year\"].append(year)\n",
    "        no_mention[\"decade\"].append(int(year//10 * 10))\n",
    "\n",
    "        no_mention[\"newspaper\"].append(cur_df[\"newspaper\"].values[0])\n",
    "        no_mention[\"document_size\"].append(len(cur_df))\n",
    "        no_mention[\"language\"].append(cur_df[\"language\"].values[0])\n",
    "        no_mention[\"split\"].append(annotation_planning.loc[doc_id, \"split\"])\n",
    "    \n",
    "    else:\n",
    "        doc_size = len(cur_df)\n",
    "        mention_rows = cur_df[cur_df[\"NE-FINE-LIT\"].str.startswith(\"B-org\")]\n",
    "\n",
    "        for mention_n in list(mention_rows[\"n\"]):\n",
    "            mention_row = cur_df[cur_df[\"n\"] == mention_n]\n",
    "            mention_position = mention_n - 6\n",
    "\n",
    "            mentions[\"document_id\"].append(cur_df[\"document_id\"].values[0])\n",
    "\n",
    "            year = int(cur_df[\"date\"].values[0][:4])\n",
    "            mentions[\"year\"].append(year)\n",
    "            mentions[\"decade\"].append(int(year//10 * 10))\n",
    "\n",
    "            mentions[\"newspaper\"].append(cur_df[\"newspaper\"].values[0])\n",
    "            mentions[\"document_size\"].append(doc_size)\n",
    "            mentions[\"language\"].append(cur_df[\"language\"].values[0])\n",
    "            mentions[\"split\"].append(annotation_planning.loc[doc_id, \"split\"])\n",
    "            mentions[\"ag_mention\"].append(mention_row[\"NE-FINE-LIT\"].values[0].split(\".\")[-1])\n",
    "            mentions[\"ag_position\"].append(mention_position)\n",
    "            mentions[\"ag_at_beginning\"].append(bool(mention_position < 10))\n",
    "            mentions[\"ag_at_end\"].append(bool(mention_position > (doc_size - 10)))\n",
    "            mentions[\"levenshtein_dist\"].append(float(mention_row[\"OCR-INFO\"].values[0].split(\"|\")[-1][3:]))\n",
    "\n",
    "    return pd.DataFrame(mentions), pd.DataFrame(no_mention)\n"
   ]
  },
  {
   "attachments": {},
   "cell_type": "markdown",
   "metadata": {},
   "source": [
    "## one row per mention"
   ]
  },
  {
   "cell_type": "code",
   "execution_count": 5,
   "metadata": {},
   "outputs": [
    {
     "name": "stderr",
     "output_type": "stream",
     "text": [
      "C:\\Users\\Lea\\AppData\\Local\\Temp/ipykernel_15276/2334823962.py:8: FutureWarning: Behavior when concatenating bool-dtype and numeric-dtype arrays is deprecated; in a future version these will cast to object dtype (instead of coercing bools to numeric values). To retain the old behavior, explicitly cast bool-dtype arrays to numeric dtype.\n",
      "  mentions_de, no_mention_de = pd.concat([mentions_de, mentions_rows]), pd.concat([no_mention_de, no_mention_row])\n"
     ]
    }
   ],
   "source": [
    "no_mention_de = pd.DataFrame()\n",
    "mentions_de = pd.DataFrame()\n",
    "\n",
    "for doc in docs_de:\n",
    "    doc_path = join(docs_de_dir, doc)\n",
    "    cur_df = tsv_to_dataframe(doc_path, keep_comments=True, hipe_format_version=\"v2\")\n",
    "    mentions_rows, no_mention_row = make_stats_rows(cur_df, split_de)\n",
    "    mentions_de, no_mention_de = pd.concat([mentions_de, mentions_rows]), pd.concat([no_mention_de, no_mention_row])\n",
    "    "
   ]
  },
  {
   "cell_type": "code",
   "execution_count": 6,
   "metadata": {},
   "outputs": [
    {
     "name": "stderr",
     "output_type": "stream",
     "text": [
      "C:\\Users\\Lea\\AppData\\Local\\Temp/ipykernel_15276/1013314241.py:8: FutureWarning: Behavior when concatenating bool-dtype and numeric-dtype arrays is deprecated; in a future version these will cast to object dtype (instead of coercing bools to numeric values). To retain the old behavior, explicitly cast bool-dtype arrays to numeric dtype.\n",
      "  mentions_fr, no_mention_fr = pd.concat([mentions_fr, mentions_rows]), pd.concat([no_mention_fr, no_mention_row])\n"
     ]
    }
   ],
   "source": [
    "no_mention_fr = pd.DataFrame()\n",
    "mentions_fr = pd.DataFrame()\n",
    "\n",
    "for doc in docs_fr:\n",
    "    doc_path = join(docs_fr_dir, doc)\n",
    "    cur_df = tsv_to_dataframe(doc_path, keep_comments=True, hipe_format_version=\"v2\")\n",
    "    mentions_rows, no_mention_row = make_stats_rows(cur_df, split_fr)\n",
    "    mentions_fr, no_mention_fr = pd.concat([mentions_fr, mentions_rows]), pd.concat([no_mention_fr, no_mention_row])\n",
    "    "
   ]
  },
  {
   "cell_type": "code",
   "execution_count": 7,
   "metadata": {},
   "outputs": [],
   "source": [
    "#decade column to integer\n",
    "no_mention_de[\"decade\"] = no_mention_de[\"decade\"].astype(int)\n",
    "no_mention_fr[\"decade\"] = no_mention_fr[\"decade\"].astype(int)\n",
    "mentions_fr[\"decade\"] = mentions_fr[\"decade\"].astype(int)\n",
    "mentions_de[\"decade\"] = mentions_de[\"decade\"].astype(int)\n",
    "\n",
    "#new column: agency_in_middle\n",
    "mentions_fr[\"ag_in_middle\"] = mentions_fr[\"ag_at_end\"] + mentions_fr[\"ag_at_beginning\"]\n",
    "mentions_fr[\"ag_in_middle\"] = mentions_fr[\"ag_in_middle\"].apply(lambda row: 0 if row > 0 else 1)\n",
    "mentions_de[\"ag_in_middle\"] = mentions_de[\"ag_at_end\"] + mentions_de[\"ag_at_beginning\"]\n",
    "mentions_de[\"ag_in_middle\"] = mentions_de[\"ag_in_middle\"].apply(lambda row: 0 if row > 0 else 1)"
   ]
  },
  {
   "cell_type": "code",
   "execution_count": 8,
   "metadata": {},
   "outputs": [
    {
     "data": {
      "text/html": [
       "<div>\n",
       "<style scoped>\n",
       "    .dataframe tbody tr th:only-of-type {\n",
       "        vertical-align: middle;\n",
       "    }\n",
       "\n",
       "    .dataframe tbody tr th {\n",
       "        vertical-align: top;\n",
       "    }\n",
       "\n",
       "    .dataframe thead th {\n",
       "        text-align: right;\n",
       "    }\n",
       "</style>\n",
       "<table border=\"1\" class=\"dataframe\">\n",
       "  <thead>\n",
       "    <tr style=\"text-align: right;\">\n",
       "      <th></th>\n",
       "      <th>document_id</th>\n",
       "      <th>year</th>\n",
       "      <th>decade</th>\n",
       "      <th>newspaper</th>\n",
       "      <th>document_size</th>\n",
       "      <th>language</th>\n",
       "      <th>split</th>\n",
       "    </tr>\n",
       "  </thead>\n",
       "  <tbody>\n",
       "    <tr>\n",
       "      <th>0</th>\n",
       "      <td>buergerbeamten-1902-07-15-a-i0007</td>\n",
       "      <td>1902.0</td>\n",
       "      <td>1900</td>\n",
       "      <td>buergerbeamten</td>\n",
       "      <td>2140.0</td>\n",
       "      <td>de</td>\n",
       "      <td>train</td>\n",
       "    </tr>\n",
       "    <tr>\n",
       "      <th>0</th>\n",
       "      <td>buergerbeamten-1904-06-02-a-i0003</td>\n",
       "      <td>1904.0</td>\n",
       "      <td>1900</td>\n",
       "      <td>buergerbeamten</td>\n",
       "      <td>278.0</td>\n",
       "      <td>de</td>\n",
       "      <td>train</td>\n",
       "    </tr>\n",
       "    <tr>\n",
       "      <th>0</th>\n",
       "      <td>buergerbeamten-1904-06-14-a-i0011</td>\n",
       "      <td>1904.0</td>\n",
       "      <td>1900</td>\n",
       "      <td>buergerbeamten</td>\n",
       "      <td>859.0</td>\n",
       "      <td>de</td>\n",
       "      <td>train</td>\n",
       "    </tr>\n",
       "    <tr>\n",
       "      <th>0</th>\n",
       "      <td>buergerbeamten-1905-05-13-a-i0009</td>\n",
       "      <td>1905.0</td>\n",
       "      <td>1900</td>\n",
       "      <td>buergerbeamten</td>\n",
       "      <td>59.0</td>\n",
       "      <td>de</td>\n",
       "      <td>train</td>\n",
       "    </tr>\n",
       "    <tr>\n",
       "      <th>0</th>\n",
       "      <td>buergerbeamten-1907-01-24-a-i0008</td>\n",
       "      <td>1907.0</td>\n",
       "      <td>1900</td>\n",
       "      <td>buergerbeamten</td>\n",
       "      <td>1550.0</td>\n",
       "      <td>de</td>\n",
       "      <td>train</td>\n",
       "    </tr>\n",
       "  </tbody>\n",
       "</table>\n",
       "</div>"
      ],
      "text/plain": [
       "                         document_id    year  decade       newspaper  \\\n",
       "0  buergerbeamten-1902-07-15-a-i0007  1902.0    1900  buergerbeamten   \n",
       "0  buergerbeamten-1904-06-02-a-i0003  1904.0    1900  buergerbeamten   \n",
       "0  buergerbeamten-1904-06-14-a-i0011  1904.0    1900  buergerbeamten   \n",
       "0  buergerbeamten-1905-05-13-a-i0009  1905.0    1900  buergerbeamten   \n",
       "0  buergerbeamten-1907-01-24-a-i0008  1907.0    1900  buergerbeamten   \n",
       "\n",
       "   document_size language  split  \n",
       "0         2140.0       de  train  \n",
       "0          278.0       de  train  \n",
       "0          859.0       de  train  \n",
       "0           59.0       de  train  \n",
       "0         1550.0       de  train  "
      ]
     },
     "execution_count": 8,
     "metadata": {},
     "output_type": "execute_result"
    }
   ],
   "source": [
    "no_mention_de.head()"
   ]
  },
  {
   "cell_type": "code",
   "execution_count": 9,
   "metadata": {},
   "outputs": [
    {
     "data": {
      "text/html": [
       "<div>\n",
       "<style scoped>\n",
       "    .dataframe tbody tr th:only-of-type {\n",
       "        vertical-align: middle;\n",
       "    }\n",
       "\n",
       "    .dataframe tbody tr th {\n",
       "        vertical-align: top;\n",
       "    }\n",
       "\n",
       "    .dataframe thead th {\n",
       "        text-align: right;\n",
       "    }\n",
       "</style>\n",
       "<table border=\"1\" class=\"dataframe\">\n",
       "  <thead>\n",
       "    <tr style=\"text-align: right;\">\n",
       "      <th></th>\n",
       "      <th>document_id</th>\n",
       "      <th>year</th>\n",
       "      <th>decade</th>\n",
       "      <th>newspaper</th>\n",
       "      <th>document_size</th>\n",
       "      <th>language</th>\n",
       "      <th>split</th>\n",
       "      <th>ag_mention</th>\n",
       "      <th>ag_position</th>\n",
       "      <th>ag_at_beginning</th>\n",
       "      <th>ag_at_end</th>\n",
       "      <th>levenshtein_dist</th>\n",
       "      <th>ag_in_middle</th>\n",
       "    </tr>\n",
       "  </thead>\n",
       "  <tbody>\n",
       "    <tr>\n",
       "      <th>0</th>\n",
       "      <td>buergerbeamten-1910-06-18-a-i0009</td>\n",
       "      <td>1910.0</td>\n",
       "      <td>1910</td>\n",
       "      <td>buergerbeamten</td>\n",
       "      <td>487.0</td>\n",
       "      <td>de</td>\n",
       "      <td>train</td>\n",
       "      <td>Wolff</td>\n",
       "      <td>423.0</td>\n",
       "      <td>0.0</td>\n",
       "      <td>0.0</td>\n",
       "      <td>0.15</td>\n",
       "      <td>1</td>\n",
       "    </tr>\n",
       "    <tr>\n",
       "      <th>0</th>\n",
       "      <td>buergerbeamten-1915-12-14-a-i0006</td>\n",
       "      <td>1915.0</td>\n",
       "      <td>1910</td>\n",
       "      <td>buergerbeamten</td>\n",
       "      <td>65.0</td>\n",
       "      <td>de</td>\n",
       "      <td>train</td>\n",
       "      <td>Havas</td>\n",
       "      <td>6.0</td>\n",
       "      <td>1.0</td>\n",
       "      <td>0.0</td>\n",
       "      <td>0.00</td>\n",
       "      <td>0</td>\n",
       "    </tr>\n",
       "    <tr>\n",
       "      <th>1</th>\n",
       "      <td>buergerbeamten-1915-12-14-a-i0006</td>\n",
       "      <td>1915.0</td>\n",
       "      <td>1910</td>\n",
       "      <td>buergerbeamten</td>\n",
       "      <td>65.0</td>\n",
       "      <td>de</td>\n",
       "      <td>train</td>\n",
       "      <td>Havas</td>\n",
       "      <td>60.0</td>\n",
       "      <td>0.0</td>\n",
       "      <td>1.0</td>\n",
       "      <td>0.00</td>\n",
       "      <td>0</td>\n",
       "    </tr>\n",
       "    <tr>\n",
       "      <th>0</th>\n",
       "      <td>DTT-1943-01-13-a-i0005</td>\n",
       "      <td>1943.0</td>\n",
       "      <td>1940</td>\n",
       "      <td>DTT</td>\n",
       "      <td>1483.0</td>\n",
       "      <td>de</td>\n",
       "      <td>train</td>\n",
       "      <td>UP-UPI</td>\n",
       "      <td>61.0</td>\n",
       "      <td>0.0</td>\n",
       "      <td>0.0</td>\n",
       "      <td>0.00</td>\n",
       "      <td>1</td>\n",
       "    </tr>\n",
       "    <tr>\n",
       "      <th>1</th>\n",
       "      <td>DTT-1943-01-13-a-i0005</td>\n",
       "      <td>1943.0</td>\n",
       "      <td>1940</td>\n",
       "      <td>DTT</td>\n",
       "      <td>1483.0</td>\n",
       "      <td>de</td>\n",
       "      <td>train</td>\n",
       "      <td>Extel</td>\n",
       "      <td>537.0</td>\n",
       "      <td>0.0</td>\n",
       "      <td>0.0</td>\n",
       "      <td>0.00</td>\n",
       "      <td>1</td>\n",
       "    </tr>\n",
       "  </tbody>\n",
       "</table>\n",
       "</div>"
      ],
      "text/plain": [
       "                         document_id    year  decade       newspaper  \\\n",
       "0  buergerbeamten-1910-06-18-a-i0009  1910.0    1910  buergerbeamten   \n",
       "0  buergerbeamten-1915-12-14-a-i0006  1915.0    1910  buergerbeamten   \n",
       "1  buergerbeamten-1915-12-14-a-i0006  1915.0    1910  buergerbeamten   \n",
       "0             DTT-1943-01-13-a-i0005  1943.0    1940             DTT   \n",
       "1             DTT-1943-01-13-a-i0005  1943.0    1940             DTT   \n",
       "\n",
       "   document_size language  split ag_mention  ag_position  ag_at_beginning  \\\n",
       "0          487.0       de  train      Wolff        423.0              0.0   \n",
       "0           65.0       de  train      Havas          6.0              1.0   \n",
       "1           65.0       de  train      Havas         60.0              0.0   \n",
       "0         1483.0       de  train     UP-UPI         61.0              0.0   \n",
       "1         1483.0       de  train      Extel        537.0              0.0   \n",
       "\n",
       "   ag_at_end  levenshtein_dist  ag_in_middle  \n",
       "0        0.0              0.15             1  \n",
       "0        0.0              0.00             0  \n",
       "1        1.0              0.00             0  \n",
       "0        0.0              0.00             1  \n",
       "1        0.0              0.00             1  "
      ]
     },
     "execution_count": 9,
     "metadata": {},
     "output_type": "execute_result"
    }
   ],
   "source": [
    "mentions_de.head()"
   ]
  },
  {
   "cell_type": "code",
   "execution_count": 10,
   "metadata": {},
   "outputs": [
    {
     "data": {
      "text/html": [
       "<div>\n",
       "<style scoped>\n",
       "    .dataframe tbody tr th:only-of-type {\n",
       "        vertical-align: middle;\n",
       "    }\n",
       "\n",
       "    .dataframe tbody tr th {\n",
       "        vertical-align: top;\n",
       "    }\n",
       "\n",
       "    .dataframe thead th {\n",
       "        text-align: right;\n",
       "    }\n",
       "</style>\n",
       "<table border=\"1\" class=\"dataframe\">\n",
       "  <thead>\n",
       "    <tr style=\"text-align: right;\">\n",
       "      <th></th>\n",
       "      <th>document_id</th>\n",
       "      <th>year</th>\n",
       "      <th>decade</th>\n",
       "      <th>newspaper</th>\n",
       "      <th>document_size</th>\n",
       "      <th>language</th>\n",
       "      <th>split</th>\n",
       "      <th>ag_position</th>\n",
       "      <th>ag_at_beginning</th>\n",
       "      <th>ag_at_end</th>\n",
       "      <th>...</th>\n",
       "      <th>Havas</th>\n",
       "      <th>Kipa</th>\n",
       "      <th>Reuters</th>\n",
       "      <th>Stefani</th>\n",
       "      <th>TASS</th>\n",
       "      <th>UP-UPI</th>\n",
       "      <th>Wolff</th>\n",
       "      <th>Xinhua</th>\n",
       "      <th>ag</th>\n",
       "      <th>unk</th>\n",
       "    </tr>\n",
       "  </thead>\n",
       "  <tbody>\n",
       "    <tr>\n",
       "      <th>0</th>\n",
       "      <td>avenirgdl-1869-09-20-a-i0002</td>\n",
       "      <td>1869.0</td>\n",
       "      <td>1860</td>\n",
       "      <td>avenirgdl</td>\n",
       "      <td>144.0</td>\n",
       "      <td>fr</td>\n",
       "      <td>train</td>\n",
       "      <td>38.0</td>\n",
       "      <td>0.0</td>\n",
       "      <td>0.0</td>\n",
       "      <td>...</td>\n",
       "      <td>1</td>\n",
       "      <td>0</td>\n",
       "      <td>0</td>\n",
       "      <td>0</td>\n",
       "      <td>0</td>\n",
       "      <td>0</td>\n",
       "      <td>0</td>\n",
       "      <td>0</td>\n",
       "      <td>0</td>\n",
       "      <td>0</td>\n",
       "    </tr>\n",
       "  </tbody>\n",
       "</table>\n",
       "<p>1 rows × 33 columns</p>\n",
       "</div>"
      ],
      "text/plain": [
       "                    document_id    year  decade  newspaper  document_size  \\\n",
       "0  avenirgdl-1869-09-20-a-i0002  1869.0    1860  avenirgdl          144.0   \n",
       "\n",
       "  language  split  ag_position  ag_at_beginning  ag_at_end  ...  Havas  Kipa  \\\n",
       "0       fr  train         38.0              0.0        0.0  ...      1     0   \n",
       "\n",
       "   Reuters  Stefani  TASS  UP-UPI  Wolff  Xinhua  ag  unk  \n",
       "0        0        0     0       0      0       0   0    0  \n",
       "\n",
       "[1 rows x 33 columns]"
      ]
     },
     "execution_count": 10,
     "metadata": {},
     "output_type": "execute_result"
    }
   ],
   "source": [
    "mentions_de_ag_cols = pd.get_dummies(mentions_de, prefix=\"\", prefix_sep=\"\", columns=[\"ag_mention\"])\n",
    "mentions_fr_ag_cols = pd.get_dummies(mentions_fr, prefix=\"\", prefix_sep=\"\", columns=[\"ag_mention\"])\n",
    "\n",
    "mentions_fr_ag_cols.head(1)"
   ]
  },
  {
   "attachments": {},
   "cell_type": "markdown",
   "metadata": {},
   "source": [
    "## one row per article"
   ]
  },
  {
   "cell_type": "code",
   "execution_count": 11,
   "metadata": {},
   "outputs": [],
   "source": [
    "articles_de = mentions_de.groupby([\"document_id\", \"year\", \"decade\", \"newspaper\", \"document_size\", \n",
    "                                              \"language\"]).agg(list).reset_index()\n",
    "articles_fr = mentions_fr.groupby([\"document_id\", \"year\", \"decade\", \"newspaper\", \"document_size\", \n",
    "                                              \"language\"]).agg(list).reset_index()"
   ]
  },
  {
   "cell_type": "code",
   "execution_count": 12,
   "metadata": {},
   "outputs": [
    {
     "data": {
      "text/html": [
       "<div>\n",
       "<style scoped>\n",
       "    .dataframe tbody tr th:only-of-type {\n",
       "        vertical-align: middle;\n",
       "    }\n",
       "\n",
       "    .dataframe tbody tr th {\n",
       "        vertical-align: top;\n",
       "    }\n",
       "\n",
       "    .dataframe thead th {\n",
       "        text-align: right;\n",
       "    }\n",
       "</style>\n",
       "<table border=\"1\" class=\"dataframe\">\n",
       "  <thead>\n",
       "    <tr style=\"text-align: right;\">\n",
       "      <th></th>\n",
       "      <th>document_id</th>\n",
       "      <th>year</th>\n",
       "      <th>decade</th>\n",
       "      <th>newspaper</th>\n",
       "      <th>document_size</th>\n",
       "      <th>language</th>\n",
       "      <th>split</th>\n",
       "      <th>ag_mention</th>\n",
       "      <th>ag_position</th>\n",
       "      <th>ag_at_beginning</th>\n",
       "      <th>ag_at_end</th>\n",
       "      <th>levenshtein_dist</th>\n",
       "      <th>ag_in_middle</th>\n",
       "    </tr>\n",
       "  </thead>\n",
       "  <tbody>\n",
       "    <tr>\n",
       "      <th>0</th>\n",
       "      <td>DTT-1943-01-13-a-i0005</td>\n",
       "      <td>1943.0</td>\n",
       "      <td>1940</td>\n",
       "      <td>DTT</td>\n",
       "      <td>1483.0</td>\n",
       "      <td>de</td>\n",
       "      <td>[train, train, train, train, train, train]</td>\n",
       "      <td>[UP-UPI, Extel, DNB, Extel, Extel, Extel]</td>\n",
       "      <td>[61.0, 537.0, 625.0, 867.0, 1462.0, 1553.0]</td>\n",
       "      <td>[0.0, 0.0, 0.0, 0.0, 0.0, 0.0]</td>\n",
       "      <td>[0.0, 0.0, 0.0, 0.0, 0.0, 1.0]</td>\n",
       "      <td>[0.0, 0.0, 0.0, 0.25, 0.0, 0.12]</td>\n",
       "      <td>[1, 1, 1, 1, 1, 0]</td>\n",
       "    </tr>\n",
       "    <tr>\n",
       "      <th>1</th>\n",
       "      <td>DTT-1943-06-05-a-i0036</td>\n",
       "      <td>1943.0</td>\n",
       "      <td>1940</td>\n",
       "      <td>DTT</td>\n",
       "      <td>1811.0</td>\n",
       "      <td>de</td>\n",
       "      <td>[train, train, train, train, train, train]</td>\n",
       "      <td>[Extel, UP-UPI, ag, DNB, Reuters, Extel]</td>\n",
       "      <td>[203.0, 382.0, 656.0, 730.0, 898.0, 1134.0]</td>\n",
       "      <td>[0.0, 0.0, 0.0, 0.0, 0.0, 0.0]</td>\n",
       "      <td>[0.0, 0.0, 0.0, 0.0, 0.0, 0.0]</td>\n",
       "      <td>[0.0, 0.0, 0.25, 0.0, 0.5, 0.0]</td>\n",
       "      <td>[1, 1, 1, 1, 1, 1]</td>\n",
       "    </tr>\n",
       "    <tr>\n",
       "      <th>2</th>\n",
       "      <td>DTT-1943-07-20-a-i0033</td>\n",
       "      <td>1943.0</td>\n",
       "      <td>1940</td>\n",
       "      <td>DTT</td>\n",
       "      <td>552.0</td>\n",
       "      <td>de</td>\n",
       "      <td>[train, train, train]</td>\n",
       "      <td>[UP-UPI, Extel, UP-UPI]</td>\n",
       "      <td>[79.0, 253.0, 474.0]</td>\n",
       "      <td>[0.0, 0.0, 0.0]</td>\n",
       "      <td>[0.0, 0.0, 0.0]</td>\n",
       "      <td>[0.0, 0.0, 0.0]</td>\n",
       "      <td>[1, 1, 1]</td>\n",
       "    </tr>\n",
       "    <tr>\n",
       "      <th>3</th>\n",
       "      <td>DTT-1943-09-30-a-i0009</td>\n",
       "      <td>1943.0</td>\n",
       "      <td>1940</td>\n",
       "      <td>DTT</td>\n",
       "      <td>1225.0</td>\n",
       "      <td>de</td>\n",
       "      <td>[test, test, test, test, test, test, test, tes...</td>\n",
       "      <td>[UP-UPI, Extel, DNB, ag, Reuters, Reuters, DNB...</td>\n",
       "      <td>[25.0, 531.0, 621.0, 780.0, 859.0, 973.0, 1068...</td>\n",
       "      <td>[0.0, 0.0, 0.0, 0.0, 0.0, 0.0, 0.0, 0.0, 0.0, ...</td>\n",
       "      <td>[0.0, 0.0, 0.0, 0.0, 0.0, 0.0, 0.0, 0.0, 0.0, ...</td>\n",
       "      <td>[0.33, 0.0, 0.0, 0.0, 0.0, 0.0, 0.0, 0.0, 0.0,...</td>\n",
       "      <td>[1, 1, 1, 1, 1, 1, 1, 1, 1, 0]</td>\n",
       "    </tr>\n",
       "    <tr>\n",
       "      <th>4</th>\n",
       "      <td>DTT-1945-08-09-a-i0008</td>\n",
       "      <td>1945.0</td>\n",
       "      <td>1940</td>\n",
       "      <td>DTT</td>\n",
       "      <td>303.0</td>\n",
       "      <td>de</td>\n",
       "      <td>[dev, dev]</td>\n",
       "      <td>[Extel, UP-UPI]</td>\n",
       "      <td>[150.0, 241.0]</td>\n",
       "      <td>[0.0, 0.0]</td>\n",
       "      <td>[0.0, 0.0]</td>\n",
       "      <td>[0.0, 0.0]</td>\n",
       "      <td>[1, 1]</td>\n",
       "    </tr>\n",
       "  </tbody>\n",
       "</table>\n",
       "</div>"
      ],
      "text/plain": [
       "              document_id    year  decade newspaper  document_size language  \\\n",
       "0  DTT-1943-01-13-a-i0005  1943.0    1940       DTT         1483.0       de   \n",
       "1  DTT-1943-06-05-a-i0036  1943.0    1940       DTT         1811.0       de   \n",
       "2  DTT-1943-07-20-a-i0033  1943.0    1940       DTT          552.0       de   \n",
       "3  DTT-1943-09-30-a-i0009  1943.0    1940       DTT         1225.0       de   \n",
       "4  DTT-1945-08-09-a-i0008  1945.0    1940       DTT          303.0       de   \n",
       "\n",
       "                                               split  \\\n",
       "0         [train, train, train, train, train, train]   \n",
       "1         [train, train, train, train, train, train]   \n",
       "2                              [train, train, train]   \n",
       "3  [test, test, test, test, test, test, test, tes...   \n",
       "4                                         [dev, dev]   \n",
       "\n",
       "                                          ag_mention  \\\n",
       "0          [UP-UPI, Extel, DNB, Extel, Extel, Extel]   \n",
       "1           [Extel, UP-UPI, ag, DNB, Reuters, Extel]   \n",
       "2                            [UP-UPI, Extel, UP-UPI]   \n",
       "3  [UP-UPI, Extel, DNB, ag, Reuters, Reuters, DNB...   \n",
       "4                                    [Extel, UP-UPI]   \n",
       "\n",
       "                                         ag_position  \\\n",
       "0        [61.0, 537.0, 625.0, 867.0, 1462.0, 1553.0]   \n",
       "1        [203.0, 382.0, 656.0, 730.0, 898.0, 1134.0]   \n",
       "2                               [79.0, 253.0, 474.0]   \n",
       "3  [25.0, 531.0, 621.0, 780.0, 859.0, 973.0, 1068...   \n",
       "4                                     [150.0, 241.0]   \n",
       "\n",
       "                                     ag_at_beginning  \\\n",
       "0                     [0.0, 0.0, 0.0, 0.0, 0.0, 0.0]   \n",
       "1                     [0.0, 0.0, 0.0, 0.0, 0.0, 0.0]   \n",
       "2                                    [0.0, 0.0, 0.0]   \n",
       "3  [0.0, 0.0, 0.0, 0.0, 0.0, 0.0, 0.0, 0.0, 0.0, ...   \n",
       "4                                         [0.0, 0.0]   \n",
       "\n",
       "                                           ag_at_end  \\\n",
       "0                     [0.0, 0.0, 0.0, 0.0, 0.0, 1.0]   \n",
       "1                     [0.0, 0.0, 0.0, 0.0, 0.0, 0.0]   \n",
       "2                                    [0.0, 0.0, 0.0]   \n",
       "3  [0.0, 0.0, 0.0, 0.0, 0.0, 0.0, 0.0, 0.0, 0.0, ...   \n",
       "4                                         [0.0, 0.0]   \n",
       "\n",
       "                                    levenshtein_dist  \\\n",
       "0                   [0.0, 0.0, 0.0, 0.25, 0.0, 0.12]   \n",
       "1                    [0.0, 0.0, 0.25, 0.0, 0.5, 0.0]   \n",
       "2                                    [0.0, 0.0, 0.0]   \n",
       "3  [0.33, 0.0, 0.0, 0.0, 0.0, 0.0, 0.0, 0.0, 0.0,...   \n",
       "4                                         [0.0, 0.0]   \n",
       "\n",
       "                     ag_in_middle  \n",
       "0              [1, 1, 1, 1, 1, 0]  \n",
       "1              [1, 1, 1, 1, 1, 1]  \n",
       "2                       [1, 1, 1]  \n",
       "3  [1, 1, 1, 1, 1, 1, 1, 1, 1, 0]  \n",
       "4                          [1, 1]  "
      ]
     },
     "execution_count": 12,
     "metadata": {},
     "output_type": "execute_result"
    }
   ],
   "source": [
    "articles_de.head()"
   ]
  },
  {
   "cell_type": "code",
   "execution_count": 13,
   "metadata": {},
   "outputs": [
    {
     "name": "stderr",
     "output_type": "stream",
     "text": [
      "C:\\Users\\Lea\\AppData\\Local\\Temp/ipykernel_15276/502139093.py:1: FutureWarning: The default value of numeric_only in DataFrameGroupBy.sum is deprecated. In a future version, numeric_only will default to False. Either specify numeric_only or select only columns which should be valid for the function.\n",
      "  articles_de_ag_cols = mentions_de_ag_cols.groupby([\"document_id\", \"year\", \"decade\", \"newspaper\", \"document_size\",\n",
      "C:\\Users\\Lea\\AppData\\Local\\Temp/ipykernel_15276/502139093.py:3: FutureWarning: The default value of numeric_only in DataFrameGroupBy.sum is deprecated. In a future version, numeric_only will default to False. Either specify numeric_only or select only columns which should be valid for the function.\n",
      "  articles_fr_ag_cols = mentions_fr_ag_cols.groupby([\"document_id\", \"year\", \"decade\", \"newspaper\", \"document_size\",\n"
     ]
    },
    {
     "data": {
      "text/html": [
       "<div>\n",
       "<style scoped>\n",
       "    .dataframe tbody tr th:only-of-type {\n",
       "        vertical-align: middle;\n",
       "    }\n",
       "\n",
       "    .dataframe tbody tr th {\n",
       "        vertical-align: top;\n",
       "    }\n",
       "\n",
       "    .dataframe thead th {\n",
       "        text-align: right;\n",
       "    }\n",
       "</style>\n",
       "<table border=\"1\" class=\"dataframe\">\n",
       "  <thead>\n",
       "    <tr style=\"text-align: right;\">\n",
       "      <th></th>\n",
       "      <th>document_id</th>\n",
       "      <th>year</th>\n",
       "      <th>decade</th>\n",
       "      <th>newspaper</th>\n",
       "      <th>document_size</th>\n",
       "      <th>language</th>\n",
       "      <th>ag_at_beginning</th>\n",
       "      <th>ag_at_end</th>\n",
       "      <th>levenshtein_dist</th>\n",
       "      <th>ag_in_middle</th>\n",
       "      <th>...</th>\n",
       "      <th>Extel</th>\n",
       "      <th>Havas</th>\n",
       "      <th>Kipa</th>\n",
       "      <th>Reuters</th>\n",
       "      <th>SPK-SMP</th>\n",
       "      <th>TASS</th>\n",
       "      <th>UP-UPI</th>\n",
       "      <th>Wolff</th>\n",
       "      <th>ag</th>\n",
       "      <th>unk</th>\n",
       "    </tr>\n",
       "  </thead>\n",
       "  <tbody>\n",
       "    <tr>\n",
       "      <th>0</th>\n",
       "      <td>DTT-1943-01-13-a-i0005</td>\n",
       "      <td>1943.0</td>\n",
       "      <td>1940</td>\n",
       "      <td>DTT</td>\n",
       "      <td>1483.0</td>\n",
       "      <td>de</td>\n",
       "      <td>0.0</td>\n",
       "      <td>1.0</td>\n",
       "      <td>0.37</td>\n",
       "      <td>5</td>\n",
       "      <td>...</td>\n",
       "      <td>4</td>\n",
       "      <td>0</td>\n",
       "      <td>0</td>\n",
       "      <td>0</td>\n",
       "      <td>0</td>\n",
       "      <td>0</td>\n",
       "      <td>1</td>\n",
       "      <td>0</td>\n",
       "      <td>0</td>\n",
       "      <td>0</td>\n",
       "    </tr>\n",
       "    <tr>\n",
       "      <th>1</th>\n",
       "      <td>DTT-1943-06-05-a-i0036</td>\n",
       "      <td>1943.0</td>\n",
       "      <td>1940</td>\n",
       "      <td>DTT</td>\n",
       "      <td>1811.0</td>\n",
       "      <td>de</td>\n",
       "      <td>0.0</td>\n",
       "      <td>0.0</td>\n",
       "      <td>0.75</td>\n",
       "      <td>6</td>\n",
       "      <td>...</td>\n",
       "      <td>2</td>\n",
       "      <td>0</td>\n",
       "      <td>0</td>\n",
       "      <td>1</td>\n",
       "      <td>0</td>\n",
       "      <td>0</td>\n",
       "      <td>1</td>\n",
       "      <td>0</td>\n",
       "      <td>1</td>\n",
       "      <td>0</td>\n",
       "    </tr>\n",
       "    <tr>\n",
       "      <th>2</th>\n",
       "      <td>DTT-1943-07-20-a-i0033</td>\n",
       "      <td>1943.0</td>\n",
       "      <td>1940</td>\n",
       "      <td>DTT</td>\n",
       "      <td>552.0</td>\n",
       "      <td>de</td>\n",
       "      <td>0.0</td>\n",
       "      <td>0.0</td>\n",
       "      <td>0.00</td>\n",
       "      <td>3</td>\n",
       "      <td>...</td>\n",
       "      <td>1</td>\n",
       "      <td>0</td>\n",
       "      <td>0</td>\n",
       "      <td>0</td>\n",
       "      <td>0</td>\n",
       "      <td>0</td>\n",
       "      <td>2</td>\n",
       "      <td>0</td>\n",
       "      <td>0</td>\n",
       "      <td>0</td>\n",
       "    </tr>\n",
       "    <tr>\n",
       "      <th>3</th>\n",
       "      <td>DTT-1943-09-30-a-i0009</td>\n",
       "      <td>1943.0</td>\n",
       "      <td>1940</td>\n",
       "      <td>DTT</td>\n",
       "      <td>1225.0</td>\n",
       "      <td>de</td>\n",
       "      <td>0.0</td>\n",
       "      <td>1.0</td>\n",
       "      <td>0.33</td>\n",
       "      <td>9</td>\n",
       "      <td>...</td>\n",
       "      <td>1</td>\n",
       "      <td>0</td>\n",
       "      <td>0</td>\n",
       "      <td>3</td>\n",
       "      <td>0</td>\n",
       "      <td>0</td>\n",
       "      <td>1</td>\n",
       "      <td>0</td>\n",
       "      <td>2</td>\n",
       "      <td>0</td>\n",
       "    </tr>\n",
       "    <tr>\n",
       "      <th>4</th>\n",
       "      <td>DTT-1945-08-09-a-i0008</td>\n",
       "      <td>1945.0</td>\n",
       "      <td>1940</td>\n",
       "      <td>DTT</td>\n",
       "      <td>303.0</td>\n",
       "      <td>de</td>\n",
       "      <td>0.0</td>\n",
       "      <td>0.0</td>\n",
       "      <td>0.00</td>\n",
       "      <td>2</td>\n",
       "      <td>...</td>\n",
       "      <td>1</td>\n",
       "      <td>0</td>\n",
       "      <td>0</td>\n",
       "      <td>0</td>\n",
       "      <td>0</td>\n",
       "      <td>0</td>\n",
       "      <td>1</td>\n",
       "      <td>0</td>\n",
       "      <td>0</td>\n",
       "      <td>0</td>\n",
       "    </tr>\n",
       "  </tbody>\n",
       "</table>\n",
       "<p>5 rows × 28 columns</p>\n",
       "</div>"
      ],
      "text/plain": [
       "              document_id    year  decade newspaper  document_size language  \\\n",
       "0  DTT-1943-01-13-a-i0005  1943.0    1940       DTT         1483.0       de   \n",
       "1  DTT-1943-06-05-a-i0036  1943.0    1940       DTT         1811.0       de   \n",
       "2  DTT-1943-07-20-a-i0033  1943.0    1940       DTT          552.0       de   \n",
       "3  DTT-1943-09-30-a-i0009  1943.0    1940       DTT         1225.0       de   \n",
       "4  DTT-1945-08-09-a-i0008  1945.0    1940       DTT          303.0       de   \n",
       "\n",
       "   ag_at_beginning  ag_at_end  levenshtein_dist  ag_in_middle  ...  Extel  \\\n",
       "0              0.0        1.0              0.37             5  ...      4   \n",
       "1              0.0        0.0              0.75             6  ...      2   \n",
       "2              0.0        0.0              0.00             3  ...      1   \n",
       "3              0.0        1.0              0.33             9  ...      1   \n",
       "4              0.0        0.0              0.00             2  ...      1   \n",
       "\n",
       "   Havas  Kipa  Reuters  SPK-SMP  TASS  UP-UPI  Wolff  ag  unk  \n",
       "0      0     0        0        0     0       1      0   0    0  \n",
       "1      0     0        1        0     0       1      0   1    0  \n",
       "2      0     0        0        0     0       2      0   0    0  \n",
       "3      0     0        3        0     0       1      0   2    0  \n",
       "4      0     0        0        0     0       1      0   0    0  \n",
       "\n",
       "[5 rows x 28 columns]"
      ]
     },
     "execution_count": 13,
     "metadata": {},
     "output_type": "execute_result"
    }
   ],
   "source": [
    "articles_de_ag_cols = mentions_de_ag_cols.groupby([\"document_id\", \"year\", \"decade\", \"newspaper\", \"document_size\", \n",
    "                                              \"language\"]).agg(sum).reset_index().drop(\"ag_position\", axis=1)\n",
    "articles_fr_ag_cols = mentions_fr_ag_cols.groupby([\"document_id\", \"year\", \"decade\", \"newspaper\", \"document_size\", \n",
    "                                              \"language\"]).agg(sum).reset_index().drop(\"ag_position\", axis=1)\n",
    "\n",
    "articles_de_ag_cols.head()"
   ]
  },
  {
   "attachments": {},
   "cell_type": "markdown",
   "metadata": {},
   "source": [
    "# Stats\n",
    "\n",
    "## Agency distributions"
   ]
  },
  {
   "cell_type": "code",
   "execution_count": 14,
   "metadata": {},
   "outputs": [
    {
     "name": "stdout",
     "output_type": "stream",
     "text": [
      "[1840, 1850, 1860, 1870, 1880, 1890, 1900, 1910, 1920, 1930, 1940, 1950, 1960, 1970, 1980, 1990]\n"
     ]
    }
   ],
   "source": [
    "decades = list(range(1840, 2000, 10))\n",
    "print(decades)"
   ]
  },
  {
   "cell_type": "code",
   "execution_count": 15,
   "metadata": {},
   "outputs": [
    {
     "name": "stdout",
     "output_type": "stream",
     "text": [
      "Agencies in German sample: ['AFP', 'AP', 'ATS-SDA', 'Belga', 'DDP-DAPD', 'DNB', 'DPA', 'Europapress', 'Extel', 'Havas', 'Kipa', 'Reuters', 'SPK-SMP', 'TASS', 'UP-UPI', 'Wolff', 'ag', 'unk']\n",
      "Agencies in French sample: ['AFP', 'ANSA', 'AP', 'APA', 'ATS-SDA', 'Belga', 'CTK', 'DNB', 'DPA', 'Domei', 'Extel', 'Havas', 'Kipa', 'Reuters', 'Stefani', 'TASS', 'UP-UPI', 'Wolff', 'Xinhua', 'ag', 'unk']\n",
      "not in German (but in French) sample: {'ANSA', 'Stefani', 'Domei', 'APA', 'Xinhua', 'CTK'}\n",
      "not in French (but in German) sample: {'SPK-SMP', 'DDP-DAPD', 'Europapress'}\n"
     ]
    }
   ],
   "source": [
    "ag_fr_index = list(mentions_fr_ag_cols.columns).index(\"AFP\")\n",
    "ag_fr = list(mentions_fr_ag_cols.columns[ag_fr_index:])\n",
    "\n",
    "ag_de_index = list(mentions_de_ag_cols.columns).index(\"AFP\")\n",
    "ag_de = list(mentions_de_ag_cols.columns[ag_de_index:])\n",
    "\n",
    "print(f\"Agencies in German sample: {ag_de}\\nAgencies in French sample: {ag_fr}\")\n",
    "print(f\"not in German (but in French) sample: {set(ag_fr).difference(set(ag_de))}\\nnot in French (but in German) sample: {set(ag_de).difference(set(ag_fr))}\")"
   ]
  },
  {
   "cell_type": "code",
   "execution_count": 16,
   "metadata": {},
   "outputs": [
    {
     "data": {
      "image/png": "[encoded data removed]",
      "text/plain": [
       "<Figure size 1728x576 with 2 Axes>"
      ]
     },
     "metadata": {
      "needs_background": "light"
     },
     "output_type": "display_data"
    }
   ],
   "source": [
    "fig, (ax1, ax2) = plt.subplots(1, 2)\n",
    "fig.set_figwidth(24)\n",
    "fig.set_figheight(8)\n",
    "\n",
    "#plots\n",
    "sns.countplot(x = \"ag_mention\", hue = \"split\", data = mentions_de, order=sorted(ag_de), ax=ax1)\n",
    "sns.countplot(x = \"ag_mention\", hue = \"split\", data = mentions_fr, order=sorted(ag_fr), ax=ax2)\n",
    "\n",
    "#layout\n",
    "ax1.tick_params(axis=\"x\", rotation=70)\n",
    "ax2.tick_params(axis=\"x\", rotation=70)\n",
    "ax1.set_title(\"DE: Agency occurences in train/dev/test set\")\n",
    "ax2.set_title(\"FR: Agency occurences train/dev/test set\")\n",
    "\n",
    "plt.show()"
   ]
  },
  {
   "cell_type": "code",
   "execution_count": 17,
   "metadata": {},
   "outputs": [
    {
     "data": {
      "image/png": "[encoded data removed]",
      "text/plain": [
       "<Figure size 1152x576 with 1 Axes>"
      ]
     },
     "metadata": {
      "needs_background": "light"
     },
     "output_type": "display_data"
    },
    {
     "data": {
      "image/png": "[encoded data removed]",
      "text/plain": [
       "<Figure size 1152x576 with 1 Axes>"
      ]
     },
     "metadata": {
      "needs_background": "light"
     },
     "output_type": "display_data"
    }
   ],
   "source": [
    "#German\n",
    "na_per_decade_de = pd.pivot_table(mentions_de, index=\"decade\", columns=\"ag_mention\", values=\"document_id\", aggfunc=\"count\")\n",
    "no_agency_per_decade_de = no_mention_de.groupby(by=\"decade\")[[\"document_id\"]].count().rename(columns={\"document_id\": \"no_agency\"})\n",
    "na_per_decade_de = na_per_decade_de.join(no_agency_per_decade_de, how=\"outer\")\n",
    "\n",
    "na_per_decade_de.plot(kind=\"bar\", stacked=True, figsize=(16,8), ylabel=\"#mentions\", title=\"DE: #agency mentions per news agency over time\", colormap='tab20')\n",
    "plt.legend(bbox_to_anchor=(1,1), loc=\"upper left\")\n",
    "\n",
    "#French\n",
    "na_per_decade_fr = pd.pivot_table(mentions_fr, index=\"decade\", columns=\"ag_mention\", values=\"document_id\", aggfunc=\"count\")\n",
    "no_agency_per_decade_fr = no_mention_fr.groupby(by=\"decade\")[[\"document_id\"]].count().rename(columns={\"document_id\": \"no_agency\"})\n",
    "na_per_decade_fr = na_per_decade_fr.join(no_agency_per_decade_fr, how=\"outer\")\n",
    "\n",
    "na_per_decade_fr.plot(kind=\"bar\", stacked=True, figsize=(16,8), ylabel=\"#mentions\", title=\"FR: #agency mentions per news agency over time\", colormap='tab20')\n",
    "plt.legend(bbox_to_anchor=(1,1), loc=\"upper left\")\n",
    "\n",
    "#Plot\n",
    "plt.show()"
   ]
  },
  {
   "attachments": {},
   "cell_type": "markdown",
   "metadata": {},
   "source": [
    "## Distribution of Articles"
   ]
  },
  {
   "cell_type": "code",
   "execution_count": 18,
   "metadata": {},
   "outputs": [
    {
     "data": {
      "image/png": "[encoded data removed]",
      "text/plain": [
       "<Figure size 864x576 with 1 Axes>"
      ]
     },
     "metadata": {
      "needs_background": "light"
     },
     "output_type": "display_data"
    }
   ],
   "source": [
    "dec_count = articles_de.groupby(\"decade\")[[\"document_id\"]].count().rename(columns={\"document_id\": \"DE #articles with agency mention\"})\n",
    "dec_count = dec_count.join(no_mention_de.groupby(\"decade\")[[\"document_id\"]].count().rename(columns={\"document_id\": \"DE #articles no agency mention\"}), how=\"outer\")\n",
    "dec_count = dec_count.join(articles_fr.groupby(\"decade\")[[\"document_id\"]].count().rename(columns={\"document_id\": \"FR #articles with agency mention\"}), how=\"outer\")\n",
    "dec_count = dec_count.join(no_mention_fr.groupby(\"decade\")[[\"document_id\"]].count().rename(columns={\"document_id\": \"FR #articles no agency mention\"}), how=\"outer\")\n",
    "\n",
    "dec_count.plot.bar(y=[\"DE #articles with agency mention\", \"FR #articles with agency mention\"], figsize=(12,8), color=[\"darkorange\", \"blue\"])\n",
    "plt.title(\"#articles per decade in training corpus\")\n",
    "plt.show()"
   ]
  },
  {
   "cell_type": "code",
   "execution_count": 19,
   "metadata": {},
   "outputs": [
    {
     "data": {
      "image/png": "[encoded data removed]",
      "text/plain": [
       "<Figure size 864x576 with 1 Axes>"
      ]
     },
     "metadata": {
      "needs_background": "light"
     },
     "output_type": "display_data"
    }
   ],
   "source": [
    "dec_count.plot.bar(figsize=(12,8), color=[\"darkorange\", \"sandybrown\", \"blue\", \"cornflowerblue\"])\n",
    "plt.title(\"#articles per decade in training corpus\")\n",
    "plt.show()"
   ]
  },
  {
   "attachments": {},
   "cell_type": "markdown",
   "metadata": {},
   "source": [
    "## Several Mentions per Article"
   ]
  },
  {
   "cell_type": "code",
   "execution_count": 20,
   "metadata": {},
   "outputs": [],
   "source": [
    "articles_fr[\"number_ag_mentions\"] = articles_fr[\"ag_mention\"].apply(len)\n",
    "articles_de[\"number_ag_mentions\"] = articles_de[\"ag_mention\"].apply(len)"
   ]
  },
  {
   "cell_type": "code",
   "execution_count": 21,
   "metadata": {},
   "outputs": [
    {
     "data": {
      "image/png": "[encoded data removed]",
      "text/plain": [
       "<Figure size 864x576 with 2 Axes>"
      ]
     },
     "metadata": {
      "needs_background": "light"
     },
     "output_type": "display_data"
    }
   ],
   "source": [
    "fig, (ax1, ax2) = plt.subplots(nrows=2, sharex=True, figsize=(12,8))\n",
    "articles_de[\"number_ag_mentions\"].plot.hist(ax=ax1, title=\"DE: Frequency of Agency Mentions in an article\", color=\"orange\")\n",
    "articles_fr[\"number_ag_mentions\"].plot.hist(ax=ax2, title=\"FR: Frequency of Agency Mentions in an article\", color=\"blue\")\n",
    "ax2.set_xlabel(\"#agency mentions per article\")\n",
    "plt.show()"
   ]
  },
  {
   "attachments": {},
   "cell_type": "markdown",
   "metadata": {},
   "source": [
    "## Noisy OCR"
   ]
  },
  {
   "cell_type": "code",
   "execution_count": 22,
   "metadata": {},
   "outputs": [
    {
     "data": {
      "text/html": [
       "<div>\n",
       "<style scoped>\n",
       "    .dataframe tbody tr th:only-of-type {\n",
       "        vertical-align: middle;\n",
       "    }\n",
       "\n",
       "    .dataframe tbody tr th {\n",
       "        vertical-align: top;\n",
       "    }\n",
       "\n",
       "    .dataframe thead th {\n",
       "        text-align: right;\n",
       "    }\n",
       "</style>\n",
       "<table border=\"1\" class=\"dataframe\">\n",
       "  <thead>\n",
       "    <tr style=\"text-align: right;\">\n",
       "      <th></th>\n",
       "      <th>document_id</th>\n",
       "      <th>year</th>\n",
       "      <th>decade</th>\n",
       "      <th>newspaper</th>\n",
       "      <th>document_size</th>\n",
       "      <th>language</th>\n",
       "      <th>split</th>\n",
       "      <th>ag_mention</th>\n",
       "      <th>ag_position</th>\n",
       "      <th>ag_at_beginning</th>\n",
       "      <th>ag_at_end</th>\n",
       "      <th>levenshtein_dist</th>\n",
       "      <th>ag_in_middle</th>\n",
       "      <th>noisy_OCR</th>\n",
       "    </tr>\n",
       "  </thead>\n",
       "  <tbody>\n",
       "    <tr>\n",
       "      <th>0</th>\n",
       "      <td>buergerbeamten-1910-06-18-a-i0009</td>\n",
       "      <td>1910.0</td>\n",
       "      <td>1910</td>\n",
       "      <td>buergerbeamten</td>\n",
       "      <td>487.0</td>\n",
       "      <td>de</td>\n",
       "      <td>train</td>\n",
       "      <td>Wolff</td>\n",
       "      <td>423.0</td>\n",
       "      <td>0.0</td>\n",
       "      <td>0.0</td>\n",
       "      <td>0.15</td>\n",
       "      <td>1</td>\n",
       "      <td>True</td>\n",
       "    </tr>\n",
       "    <tr>\n",
       "      <th>0</th>\n",
       "      <td>buergerbeamten-1915-12-14-a-i0006</td>\n",
       "      <td>1915.0</td>\n",
       "      <td>1910</td>\n",
       "      <td>buergerbeamten</td>\n",
       "      <td>65.0</td>\n",
       "      <td>de</td>\n",
       "      <td>train</td>\n",
       "      <td>Havas</td>\n",
       "      <td>6.0</td>\n",
       "      <td>1.0</td>\n",
       "      <td>0.0</td>\n",
       "      <td>0.00</td>\n",
       "      <td>0</td>\n",
       "      <td>False</td>\n",
       "    </tr>\n",
       "    <tr>\n",
       "      <th>1</th>\n",
       "      <td>buergerbeamten-1915-12-14-a-i0006</td>\n",
       "      <td>1915.0</td>\n",
       "      <td>1910</td>\n",
       "      <td>buergerbeamten</td>\n",
       "      <td>65.0</td>\n",
       "      <td>de</td>\n",
       "      <td>train</td>\n",
       "      <td>Havas</td>\n",
       "      <td>60.0</td>\n",
       "      <td>0.0</td>\n",
       "      <td>1.0</td>\n",
       "      <td>0.00</td>\n",
       "      <td>0</td>\n",
       "      <td>False</td>\n",
       "    </tr>\n",
       "    <tr>\n",
       "      <th>0</th>\n",
       "      <td>DTT-1943-01-13-a-i0005</td>\n",
       "      <td>1943.0</td>\n",
       "      <td>1940</td>\n",
       "      <td>DTT</td>\n",
       "      <td>1483.0</td>\n",
       "      <td>de</td>\n",
       "      <td>train</td>\n",
       "      <td>UP-UPI</td>\n",
       "      <td>61.0</td>\n",
       "      <td>0.0</td>\n",
       "      <td>0.0</td>\n",
       "      <td>0.00</td>\n",
       "      <td>1</td>\n",
       "      <td>False</td>\n",
       "    </tr>\n",
       "    <tr>\n",
       "      <th>1</th>\n",
       "      <td>DTT-1943-01-13-a-i0005</td>\n",
       "      <td>1943.0</td>\n",
       "      <td>1940</td>\n",
       "      <td>DTT</td>\n",
       "      <td>1483.0</td>\n",
       "      <td>de</td>\n",
       "      <td>train</td>\n",
       "      <td>Extel</td>\n",
       "      <td>537.0</td>\n",
       "      <td>0.0</td>\n",
       "      <td>0.0</td>\n",
       "      <td>0.00</td>\n",
       "      <td>1</td>\n",
       "      <td>False</td>\n",
       "    </tr>\n",
       "  </tbody>\n",
       "</table>\n",
       "</div>"
      ],
      "text/plain": [
       "                         document_id    year  decade       newspaper  \\\n",
       "0  buergerbeamten-1910-06-18-a-i0009  1910.0    1910  buergerbeamten   \n",
       "0  buergerbeamten-1915-12-14-a-i0006  1915.0    1910  buergerbeamten   \n",
       "1  buergerbeamten-1915-12-14-a-i0006  1915.0    1910  buergerbeamten   \n",
       "0             DTT-1943-01-13-a-i0005  1943.0    1940             DTT   \n",
       "1             DTT-1943-01-13-a-i0005  1943.0    1940             DTT   \n",
       "\n",
       "   document_size language  split ag_mention  ag_position  ag_at_beginning  \\\n",
       "0          487.0       de  train      Wolff        423.0              0.0   \n",
       "0           65.0       de  train      Havas          6.0              1.0   \n",
       "1           65.0       de  train      Havas         60.0              0.0   \n",
       "0         1483.0       de  train     UP-UPI         61.0              0.0   \n",
       "1         1483.0       de  train      Extel        537.0              0.0   \n",
       "\n",
       "   ag_at_end  levenshtein_dist  ag_in_middle  noisy_OCR  \n",
       "0        0.0              0.15             1       True  \n",
       "0        0.0              0.00             0      False  \n",
       "1        1.0              0.00             0      False  \n",
       "0        0.0              0.00             1      False  \n",
       "1        0.0              0.00             1      False  "
      ]
     },
     "execution_count": 22,
     "metadata": {},
     "output_type": "execute_result"
    }
   ],
   "source": [
    "mentions_fr[\"noisy_OCR\"] = mentions_fr[\"levenshtein_dist\"] > 0\n",
    "mentions_de[\"noisy_OCR\"] = mentions_de[\"levenshtein_dist\"] > 0\n",
    "mentions_de.head()"
   ]
  },
  {
   "cell_type": "code",
   "execution_count": 23,
   "metadata": {},
   "outputs": [
    {
     "data": {
      "image/png": "[encoded data removed]",
      "text/plain": [
       "<Figure size 864x576 with 2 Axes>"
      ]
     },
     "metadata": {
      "needs_background": "light"
     },
     "output_type": "display_data"
    }
   ],
   "source": [
    "noisy_ocr_de = mentions_de.groupby(\"decade\")[\"noisy_OCR\"].agg([\"count\", \"sum\"]).rename(columns={\"count\": \"total\", \"sum\": \"noisy_ocr\"})\n",
    "noisy_ocr_de[\"noisy_ocr_perc\"] = noisy_ocr_de.apply(lambda row: round(row[\"noisy_ocr\"] / row[\"total\"] * 100), axis=1)\n",
    "\n",
    "noisy_ocr_fr = mentions_fr.groupby(\"decade\")[\"noisy_OCR\"].agg([\"count\", \"sum\"]).rename(columns={\"count\": \"total\", \"sum\": \"noisy_ocr\"})\n",
    "noisy_ocr_fr[\"noisy_ocr_perc\"] = noisy_ocr_fr.apply(lambda row: round(row[\"noisy_ocr\"] / row[\"total\"] * 100), axis=1)\n",
    "\n",
    "fig, ax1 = plt.subplots()\n",
    "fig.set_figheight(8)\n",
    "fig.set_figwidth(12)\n",
    "ax1.plot(noisy_ocr_fr[\"noisy_ocr_perc\"], label=\"FR\", color=\"blue\")\n",
    "ax1.plot(noisy_ocr_de[\"noisy_ocr_perc\"], label=\"DE\", color=\"orange\")\n",
    "\n",
    "ax2 = ax1.twinx()\n",
    "ax2.plot(noisy_ocr_fr[\"total\"], label=\"FR #mentions\", color=\"blue\", linestyle=\"dotted\")\n",
    "ax2.plot(noisy_ocr_de[\"total\"], label=\"DE #mentions\", color=\"orange\", linestyle=\"dotted\")\n",
    "\n",
    "plt.title(\"Percentage of noisy OCR in agency mentions\")\n",
    "ax1.legend(loc=\"upper left\")\n",
    "ax2.legend(loc=\"upper right\")\n",
    "ax1.set_ylabel(\"% noisy ocr\")\n",
    "ax2.set_ylabel(\"# agency mentions\")\n",
    "plt.show()"
   ]
  },
  {
   "attachments": {},
   "cell_type": "markdown",
   "metadata": {},
   "source": [
    "### check discarded files"
   ]
  },
  {
   "cell_type": "code",
   "execution_count": 24,
   "metadata": {},
   "outputs": [
    {
     "name": "stdout",
     "output_type": "stream",
     "text": [
      "#discarded in DE: 15\n",
      "#discarded in FR: 65\n"
     ]
    }
   ],
   "source": [
    "from collections import Counter\n",
    "log_path = \"../data/logs/\"\n",
    "\n",
    "with open(log_path + \"discarded_de.txt\", \"r\") as f:\n",
    "    discarded_de = [f.strip() for f in f.readlines()]\n",
    "\n",
    "with open(log_path + \"discarded_fr.txt\", \"r\") as f:\n",
    "    discarded_fr = [f.strip() for f in f.readlines()]\n",
    "\n",
    "print(f\"#discarded in DE: {len(discarded_de)}\")\n",
    "print(f\"#discarded in FR: {len(discarded_fr)}\")\n"
   ]
  },
  {
   "cell_type": "code",
   "execution_count": 25,
   "metadata": {},
   "outputs": [
    {
     "data": {
      "image/png": "[encoded data removed]",
      "text/plain": [
       "<Figure size 720x504 with 1 Axes>"
      ]
     },
     "metadata": {
      "needs_background": "light"
     },
     "output_type": "display_data"
    }
   ],
   "source": [
    "discarded_de_years = sorted([entry.split('-')[1] for entry in discarded_de])\n",
    "discarded_fr_years = sorted([entry.split('-')[1] for entry in discarded_fr])\n",
    "discarded_df = pd.concat([pd.DataFrame({\"year\": discarded_de_years, \"language\": \"de\"}), pd.DataFrame({\"year\": discarded_fr_years, \"language\": \"fr\"})])\n",
    "discarded_df[\"decade\"] = discarded_df[\"year\"].apply(lambda x: int(x) //10 * 10)\n",
    "\n",
    "countplt, ax = plt.subplots(figsize = (10,7))\n",
    "sns.countplot(data=discarded_df, x=\"decade\", hue=\"language\")\n",
    "plt.title(\"# Discarded documents due to noisy OCR\")\n",
    "plt.show()"
   ]
  },
  {
   "attachments": {},
   "cell_type": "markdown",
   "metadata": {},
   "source": [
    "## unk"
   ]
  },
  {
   "cell_type": "code",
   "execution_count": 26,
   "metadata": {},
   "outputs": [],
   "source": [
    "unk_de = get_newsag_df(\"unk\", docs_de_dir, docs_de)\n",
    "unk_fr = get_newsag_df(\"unk\", docs_fr_dir, docs_fr)"
   ]
  },
  {
   "cell_type": "code",
   "execution_count": 27,
   "metadata": {},
   "outputs": [
    {
     "data": {
      "text/plain": [
       "Telunion                                                 3\n",
       "ADN                                                      2\n",
       "Conti                                                    2\n",
       "Tsch . P . V .                                           2\n",
       "ATA                                                      2\n",
       "Agence dAnatoiie                                         1\n",
       "KNA                                                      1\n",
       "Pm                                                       1\n",
       "Agence Fournier                                          1\n",
       "Petersburger Telegr . - Agentur .                        1\n",
       "Petersburger Telegraphen - Agentur                       1\n",
       "kaiserlich - lönigliche Wiener Korrespondenz - Bureau    1\n",
       "Kori - esp . Bureau                                      1\n",
       "rma                                                      1\n",
       "Bernama News Agency                                      1\n",
       "A . S .                                                  1\n",
       "Interim                                                  1\n",
       "s .                                                      1\n",
       "S .                                                      1\n",
       "£ .                                                      1\n",
       "=                                                        1\n",
       "Ehekiai                                                  1\n",
       "aa .                                                     1\n",
       "£ •                                                      1\n",
       "Co                                                       1\n",
       "TAT                                                      1\n",
       "- e -                                                    1\n",
       "Fournier                                                 1\n",
       "Name: name, dtype: int64"
      ]
     },
     "execution_count": 27,
     "metadata": {},
     "output_type": "execute_result"
    }
   ],
   "source": [
    "unk_de[\"name\"].value_counts()"
   ]
  },
  {
   "cell_type": "code",
   "execution_count": 28,
   "metadata": {},
   "outputs": [
    {
     "data": {
      "text/plain": [
       "Ofi                     3\n",
       "B . C . H .             2\n",
       "P . T . S .             2\n",
       "Keystone                2\n",
       "Red                     2\n",
       "Press Association       2\n",
       "C . N . B .             2\n",
       "APF                     1\n",
       "Dalziel                 1\n",
       "APP                     1\n",
       "ATQ                     1\n",
       "CPS                     1\n",
       "NDB                     1\n",
       "OFI                     1\n",
       "patriarche              1\n",
       "I . P . S .             1\n",
       "R . K .                 1\n",
       "L . Bo                  1\n",
       "Interinf                1\n",
       "M . de B .              1\n",
       "C . P .                 1\n",
       "Chek lau                1\n",
       "Pat                     1\n",
       "Temps                   1\n",
       "Daniel                  1\n",
       "A . TE . P .            1\n",
       "Telepress               1\n",
       "B . P . Tchèque         1\n",
       "Correspondenzbureaiv    1\n",
       "R . F . P .             1\n",
       "O . P . A .             1\n",
       "Chekiai                 1\n",
       "Name: name, dtype: int64"
      ]
     },
     "execution_count": 28,
     "metadata": {},
     "output_type": "execute_result"
    }
   ],
   "source": [
    "unk_fr[\"name\"].value_counts()"
   ]
  },
  {
   "attachments": {},
   "cell_type": "markdown",
   "metadata": {},
   "source": [
    "## Position of Agency Mentions"
   ]
  },
  {
   "cell_type": "code",
   "execution_count": 29,
   "metadata": {},
   "outputs": [
    {
     "name": "stdout",
     "output_type": "stream",
     "text": [
      "Statistics per Agency Mention\n",
      "DE: 4% agency mentions at beginning, 86% in the middle, 10% at end\n",
      "FR: 3% agency mentions at beginning, 74% in the middle, 23% at end\n"
     ]
    }
   ],
   "source": [
    "sum_mentions_de = len(mentions_de)\n",
    "sum_mentions_fr = len(mentions_fr)\n",
    "\n",
    "print(\"Statistics per Agency Mention\")\n",
    "print(f\"DE: {round(sum(mentions_de['ag_at_beginning'])/sum_mentions_de*100)}% agency mentions at beginning, {round(sum(mentions_de['ag_in_middle'])/sum_mentions_de*100)}% in the middle, \\\n",
    "{round(sum(mentions_de['ag_at_end'])/sum_mentions_de*100)}% at end\")\n",
    "print(f\"FR: {round(sum(mentions_fr['ag_at_beginning'])/sum_mentions_fr*100)}% agency mentions at beginning, {round(sum(mentions_fr['ag_in_middle'])/sum_mentions_fr*100)}% in the middle, \\\n",
    "{round(sum(mentions_fr['ag_at_end'])/sum_mentions_fr*100)}% at end\")"
   ]
  },
  {
   "cell_type": "code",
   "execution_count": 30,
   "metadata": {},
   "outputs": [
    {
     "name": "stdout",
     "output_type": "stream",
     "text": [
      "Statistics per Article (several agency mentions in one article possible)\n",
      "DE: 12% of articles have agency mentions at beginning, 88% in the middle, 22% at end\n",
      "FR: 6% of articles have agency mentions at beginning, 70% in the middle, 37% at end\n"
     ]
    }
   ],
   "source": [
    "sum_articles_de = len(articles_de)\n",
    "sum_articles_fr = len(articles_fr)\n",
    "\n",
    "lambda_exp = lambda row: 1 if sum(row) > 0 else 0\n",
    "\n",
    "print(\"Statistics per Article (several agency mentions in one article possible)\")\n",
    "print(f\"DE: {round(sum(articles_de['ag_at_beginning'].apply(lambda_exp))/sum_articles_de*100)}% of articles have agency mentions at beginning, \\\n",
    "{round(sum(articles_de['ag_in_middle'].apply(lambda_exp))/sum_articles_de*100)}% in the middle, \\\n",
    "{round(sum(articles_de['ag_at_end'].apply(lambda_exp))/sum_articles_de*100)}% at end\")\n",
    "print(f\"FR: {round(sum(articles_fr['ag_at_beginning'].apply(lambda_exp))/sum_articles_fr*100)}% of articles have agency mentions at beginning, \\\n",
    "{round(sum(articles_fr['ag_in_middle'].apply(lambda_exp))/sum_articles_fr*100)}% in the middle, \\\n",
    "{round(sum(articles_fr['ag_at_end'].apply(lambda_exp))/sum_articles_fr*100)}% at end\")"
   ]
  },
  {
   "attachments": {},
   "cell_type": "markdown",
   "metadata": {},
   "source": [
    "## Working with Release Dataset"
   ]
  },
  {
   "cell_type": "code",
   "execution_count": 31,
   "metadata": {},
   "outputs": [],
   "source": [
    "RELEASE_VERSION = \"1\"\n",
    "newsag_data_path = f\"../data/release/{RELEASE_VERSION}/\""
   ]
  },
  {
   "cell_type": "code",
   "execution_count": 32,
   "metadata": {},
   "outputs": [],
   "source": [
    "# DE\n",
    "newsag_train_de_path = os.path.join(newsag_data_path, f\"de/newsagency-data-{RELEASE_VERSION}-train-de.tsv\")\n",
    "newsag_dev_de_path = os.path.join(newsag_data_path, f\"de/newsagency-data-{RELEASE_VERSION}-dev-de.tsv\")\n",
    "newsag_test_de_path = os.path.join(newsag_data_path, f\"de/newsagency-data-{RELEASE_VERSION}-test-de.tsv\")\n",
    "\n",
    "# FR\n",
    "newsag_train_fr_path = os.path.join(newsag_data_path, f\"fr/newsagency-data-{RELEASE_VERSION}-train-fr.tsv\")\n",
    "newsag_dev_fr_path = os.path.join(newsag_data_path, f\"fr/newsagency-data-{RELEASE_VERSION}-dev-fr.tsv\")\n",
    "newsag_test_fr_path = os.path.join(newsag_data_path, f\"fr/newsagency-data-{RELEASE_VERSION}-test-fr.tsv\")"
   ]
  },
  {
   "cell_type": "code",
   "execution_count": 33,
   "metadata": {},
   "outputs": [],
   "source": [
    "# parse the TSV into a list of `HipeDocument` objects\n",
    "newsag_train_de_docs = parse_tsv(file_path=newsag_train_de_path)"
   ]
  },
  {
   "cell_type": "code",
   "execution_count": 34,
   "metadata": {},
   "outputs": [
    {
     "name": "stdout",
     "output_type": "stream",
     "text": [
      "\n",
      "Path of the TSV file: ../data/release/1/de/newsagency-data-1-train-de.tsv \n",
      "Number of documents: 296 \n",
      "Number of entities: {'coarse_lit': 427, 'fine_lit': 427} \n",
      "Number of tokens: 221604 \n",
      "Entity breakdown by type: coarse_lit\n",
      "+------+---------+\n",
      "|      |   count |\n",
      "+======+=========+\n",
      "| org  |     407 |\n",
      "+------+---------+\n",
      "| pers |      20 |\n",
      "+------+---------+\n",
      "fine_lit\n",
      "+---------------------------------+---------+\n",
      "|                                 |   count |\n",
      "+=================================+=========+\n",
      "| org.ent.pressagency.AFP         |      33 |\n",
      "+---------------------------------+---------+\n",
      "| org.ent.pressagency.AP          |      10 |\n",
      "+---------------------------------+---------+\n",
      "| org.ent.pressagency.ATS         |      38 |\n",
      "+---------------------------------+---------+\n",
      "| org.ent.pressagency.Belga       |       1 |\n",
      "+---------------------------------+---------+\n",
      "| org.ent.pressagency.DDP         |       3 |\n",
      "+---------------------------------+---------+\n",
      "| org.ent.pressagency.DNB         |      11 |\n",
      "+---------------------------------+---------+\n",
      "| org.ent.pressagency.DPA         |      21 |\n",
      "+---------------------------------+---------+\n",
      "| org.ent.pressagency.Europapress |       6 |\n",
      "+---------------------------------+---------+\n",
      "| org.ent.pressagency.Havas       |      46 |\n",
      "+---------------------------------+---------+\n",
      "| org.ent.pressagency.Reuters     |      53 |\n",
      "+---------------------------------+---------+\n",
      "| org.ent.pressagency.SPK         |      12 |\n",
      "+---------------------------------+---------+\n",
      "| org.ent.pressagency.TASS        |       3 |\n",
      "+---------------------------------+---------+\n",
      "| org.ent.pressagency.UP          |      42 |\n",
      "+---------------------------------+---------+\n",
      "| org.ent.pressagency.Wolff       |      11 |\n",
      "+---------------------------------+---------+\n",
      "| org.ent.pressagency.ag          |      14 |\n",
      "+---------------------------------+---------+\n",
      "| org.ent.pressagency.unk         |     103 |\n",
      "+---------------------------------+---------+\n",
      "| pers.ind.articleauthor          |      20 |\n",
      "+---------------------------------+---------+\n",
      "\n"
     ]
    }
   ],
   "source": [
    "# print some basic stats for the TSV dataset \n",
    "print(describe_dataset(documents=newsag_train_de_docs))"
   ]
  },
  {
   "cell_type": "code",
   "execution_count": 35,
   "metadata": {},
   "outputs": [
    {
     "name": "stdout",
     "output_type": "stream",
     "text": [
      "{'global.columns': 'TOKEN NE-COARSE-LIT NE-COARSE-METO NE-FINE-LIT NE-FINE-METO NE-FINE-COMP NE-NESTED NEL-LIT NEL-METO RENDER SEG OCR-INFO MISC', 'language': 'de', 'newspaper': 'DTT', 'date': '1943-01-13', 'document_id': 'DTT-1943-01-13-a-i0005', 'news-agency-as-source': 'Q493845, unk, Q1205856', 'segment_iiif_link': 'https://impresso-project.ch/api/proxy/iiif/DTT-1943-01-13-a-p0001/2679,5333,834,65/full/0/default.jpg'}\n",
      "{'language': 'de', 'newspaper': 'DTT', 'date': '1943-06-05', 'document_id': 'DTT-1943-06-05-a-i0036', 'news-agency-as-source': 'Q493845, unk, Q130879, Q1205856', 'segment_iiif_link': 'https://impresso-project.ch/api/proxy/iiif/DTT-1943-06-05-a-p0011/2770,2185,593,64/full/0/default.jpg'}\n",
      "{'language': 'de', 'newspaper': 'DTT', 'date': '1943-07-20', 'document_id': 'DTT-1943-07-20-a-i0033', 'news-agency-as-source': 'Q493845, unk', 'segment_iiif_link': 'https://impresso-project.ch/api/proxy/iiif/DTT-1943-07-20-a-p0001/2599,2754,709,66/full/0/default.jpg'}\n",
      "{'language': 'de', 'newspaper': 'DTT', 'date': '1946-04-27', 'document_id': 'DTT-1946-04-27-a-i0108', 'news-agency-as-source': 'Q493845, unk, Q40464', 'segment_iiif_link': 'https://impresso-project.ch/api/proxy/iiif/DTT-1946-04-27-a-p0002/2861,5272,218,70/full/0/default.jpg'}\n"
     ]
    }
   ],
   "source": [
    "for i in range(4):\n",
    "    print(newsag_train_de_docs[i].metadata)"
   ]
  },
  {
   "cell_type": "code",
   "execution_count": 36,
   "metadata": {},
   "outputs": [],
   "source": [
    "# slightly modified version of the original function\n",
    "def count_entities(docs: List[HipeDocument], exclude_from_NIL: List[str] = []) -> Dict:\n",
    "\n",
    "    counts = {}\n",
    "    \n",
    "    for e_type in ENTITY_TYPES:\n",
    "        for doc in docs:\n",
    "            if e_type in doc.entities:\n",
    "                if e_type not in counts:\n",
    "                    counts[e_type] = 0\n",
    "                counts[e_type] += len(doc.entities[e_type])\n",
    "                \n",
    "    # count the NIL entities\n",
    "    # TODO: for ajmc, exclude from counts those that are not\n",
    "    # supposed to be linked as per participation guidelines\n",
    "                \n",
    "    nil_entities_count = 0\n",
    "    wikidata_linked_count = 0\n",
    "    nonlinked_count = 0\n",
    "    noisy_entities_count = 0\n",
    "    for doc in docs:\n",
    "        \n",
    "        if not 'coarse_lit' in doc.entities:\n",
    "            continue\n",
    "        \n",
    "        for entity in doc.entities['coarse_lit']:\n",
    "            \n",
    "            if entity.wikidata_id is not None:\n",
    "                if entity.wikidata_id == \"NIL\":\n",
    "                    \n",
    "                    if entity.tag in exclude_from_NIL:\n",
    "                        nonlinked_count += 1\n",
    "                    else:\n",
    "                        nil_entities_count += 1\n",
    "                \n",
    "                elif entity.wikidata_id != \"NIL\":\n",
    "                    wikidata_linked_count += 1\n",
    "            else:\n",
    "                nonlinked_count += 1\n",
    "                \n",
    "            #if entity.LED and entity.LED > 0:\n",
    "            #    noisy_entities_count += 1\n",
    "                \n",
    "    counts['nil'] = nil_entities_count\n",
    "    counts['wikidata_link'] = wikidata_linked_count\n",
    "    counts['non_linked'] = nonlinked_count\n",
    "    counts['noisy'] = noisy_entities_count\n",
    "    return counts\n",
    "\n",
    "\n",
    "\n",
    "def compute_dataset_stats(**kwargs):\n",
    "    if \"file_path\" in kwargs:\n",
    "        path = kwargs['file_path']\n",
    "        docs = parse_tsv(file_path=path)\n",
    "    elif \"file_url\" in kwargs:\n",
    "        path = kwargs['file_url']\n",
    "        docs = parse_tsv(file_url=path)\n",
    "    elif \"documents\" in kwargs:\n",
    "        docs = kwargs['documents']\n",
    "        path = docs[0].path\n",
    "    else:\n",
    "        raise\n",
    "        \n",
    "    total_n_tokens = sum([\n",
    "        doc.n_tokens\n",
    "        for doc in docs\n",
    "    ])\n",
    "    \n",
    "    entity_counts = count_entities(docs, exclude_from_NIL=['time'])\n",
    "        \n",
    "    data = {\n",
    "        \"n_docs\": len(docs),\n",
    "        \"total_n_tokens\": total_n_tokens,\n",
    "        \"n_mentions\": entity_counts['coarse_lit'],\n",
    "        \"n_nested\": entity_counts['nested'] if 'nested' in entity_counts else None,\n",
    "        \"n_nil\": entity_counts['nil'],\n",
    "        \"n_wikidata_link\": entity_counts['wikidata_link'],\n",
    "        \"n_linkable_mentions\": entity_counts['coarse_lit'] - entity_counts['non_linked'],\n",
    "        \"n_non_linked\": entity_counts['non_linked'],\n",
    "        \"n_noisy\": entity_counts['noisy']\n",
    "    }\n",
    "    \n",
    "    return pd.DataFrame([data])"
   ]
  },
  {
   "cell_type": "code",
   "execution_count": 37,
   "metadata": {},
   "outputs": [],
   "source": [
    "dataset_df = compute_dataset_stats(file_path=newsag_train_de_path)"
   ]
  },
  {
   "cell_type": "code",
   "execution_count": 38,
   "metadata": {},
   "outputs": [
    {
     "data": {
      "text/html": [
       "<div>\n",
       "<style scoped>\n",
       "    .dataframe tbody tr th:only-of-type {\n",
       "        vertical-align: middle;\n",
       "    }\n",
       "\n",
       "    .dataframe tbody tr th {\n",
       "        vertical-align: top;\n",
       "    }\n",
       "\n",
       "    .dataframe thead th {\n",
       "        text-align: right;\n",
       "    }\n",
       "</style>\n",
       "<table border=\"1\" class=\"dataframe\">\n",
       "  <thead>\n",
       "    <tr style=\"text-align: right;\">\n",
       "      <th></th>\n",
       "      <th>n_docs</th>\n",
       "      <th>total_n_tokens</th>\n",
       "      <th>n_mentions</th>\n",
       "      <th>n_nested</th>\n",
       "      <th>n_nil</th>\n",
       "      <th>n_wikidata_link</th>\n",
       "      <th>n_linkable_mentions</th>\n",
       "      <th>n_non_linked</th>\n",
       "      <th>n_noisy</th>\n",
       "    </tr>\n",
       "  </thead>\n",
       "  <tbody>\n",
       "    <tr>\n",
       "      <th>0</th>\n",
       "      <td>296</td>\n",
       "      <td>221604</td>\n",
       "      <td>427</td>\n",
       "      <td>None</td>\n",
       "      <td>0</td>\n",
       "      <td>290</td>\n",
       "      <td>290</td>\n",
       "      <td>137</td>\n",
       "      <td>0</td>\n",
       "    </tr>\n",
       "  </tbody>\n",
       "</table>\n",
       "</div>"
      ],
      "text/plain": [
       "   n_docs  total_n_tokens  n_mentions n_nested  n_nil  n_wikidata_link  \\\n",
       "0     296          221604         427     None      0              290   \n",
       "\n",
       "   n_linkable_mentions  n_non_linked  n_noisy  \n",
       "0                  290           137        0  "
      ]
     },
     "execution_count": 38,
     "metadata": {},
     "output_type": "execute_result"
    }
   ],
   "source": [
    "dataset_df"
   ]
  }
 ],
 "metadata": {
  "kernelspec": {
   "display_name": "base",
   "language": "python",
   "name": "python3"
  },
  "language_info": {
   "codemirror_mode": {
    "name": "ipython",
    "version": 3
   },
   "file_extension": ".py",
   "mimetype": "text/x-python",
   "name": "python",
   "nbconvert_exporter": "python",
   "pygments_lexer": "ipython3",
   "version": "3.8.12"
  },
  "orig_nbformat": 4
 },
 "nbformat": 4,
 "nbformat_minor": 2
}
