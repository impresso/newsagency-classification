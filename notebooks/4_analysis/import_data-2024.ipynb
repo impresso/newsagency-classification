{
 "cells": [
  {
   "cell_type": "markdown",
   "metadata": {},
   "source": [
    "# Import Data \n",
    "from Dask-Batches and save it as Dataframe"
   ]
  },
  {
   "cell_type": "code",
   "execution_count": 2,
   "metadata": {},
   "outputs": [],
   "source": [
    "import pandas as pd\n",
    "import os"
   ]
  },
  {
   "cell_type": "code",
   "execution_count": 3,
   "metadata": {},
   "outputs": [],
   "source": [
    "# Please change this data_path with your path of data per yer\n",
    "\n",
    "data_path = \"../../../impresso-semantic-enrichment-deployment/na_mentions_2024_nel/newspapers_newsagencies_fall_2024/\"\n",
    "# data_path = \"../../../impresso-semantic-enrichment-deployment/temp_downloads/newspapers\"\n",
    "data_folders = sorted([folder for folder in os.listdir(data_path)])\n",
    "output_path = \"data/\""
   ]
  },
  {
   "cell_type": "code",
   "execution_count": 4,
   "metadata": {},
   "outputs": [
    {
     "data": {
      "text/plain": [
       "134"
      ]
     },
     "execution_count": 4,
     "metadata": {},
     "output_type": "execute_result"
    }
   ],
   "source": [
    "len(data_folders)"
   ]
  },
  {
   "cell_type": "markdown",
   "metadata": {},
   "source": [
    "## Test for Folder 0"
   ]
  },
  {
   "cell_type": "code",
   "execution_count": 4,
   "metadata": {},
   "outputs": [],
   "source": [
    "# import bz2, json\n",
    "# list00 = []\n",
    "# for folder in data_folders[:1]:\n",
    "#     files = [file for file in os.listdir(os.path.join(data_path, folder))]\n",
    "#     print(files)\n",
    "\n",
    "#     for file in files:\n",
    "#         try:\n",
    "#             file_path = os.path.join(data_path, folder, file)\n",
    "#             # df = pd.read_json(os.path.join(data_path, folder, file))\n",
    "\n",
    "#             records = []\n",
    "#             with bz2.open(file_path, \"rt\") as f:\n",
    "#                 for line in f:\n",
    "#                     record = json.loads(line)\n",
    "#                     records.append(record)\n",
    "                    \n",
    "#             df = pd.DataFrame(records)\n",
    "            \n",
    "#             print(len(df))\n",
    "#             list00.append(df)\n",
    "#         except Exception as ex:\n",
    "#             print(file, ex)"
   ]
  },
  {
   "cell_type": "code",
   "execution_count": null,
   "metadata": {},
   "outputs": [],
   "source": []
  },
  {
   "cell_type": "markdown",
   "metadata": {},
   "source": [
    "## Importing Everything"
   ]
  },
  {
   "cell_type": "code",
   "execution_count": 6,
   "metadata": {},
   "outputs": [
    {
     "name": "stderr",
     "output_type": "stream",
     "text": [
      "Folders: 100%|████████████████████████████████████████████████████████████████████████████████████████████████████████████████████████████████████████████████████████████████████████████████████████████████| 134/134 [05:11<00:00,  2.32s/it]\n"
     ]
    }
   ],
   "source": [
    "from tqdm import tqdm\n",
    "import bz2, json\n",
    "\n",
    "list_all = []\n",
    "\n",
    "for folder in tqdm(data_folders, total=len(data_folders), desc=\"Folders\"):\n",
    "    files = [file for file in os.listdir(os.path.join(data_path, folder))]\n",
    "    \n",
    "    # print(f\"Number of files contained in folder {folder}:\", len(files))\n",
    "\n",
    "    # for file in tqdm(files, total=len(files), desc=f\"Processing files in {folder}\", leave=False):\n",
    "    for file in files:\n",
    "        file_path = os.path.join(data_path, folder, file)\n",
    "        records = []\n",
    "        with bz2.open(file_path, \"rt\") as f:\n",
    "            for line in f:\n",
    "                record = json.loads(line)\n",
    "                records.append(record)\n",
    "                \n",
    "        df = pd.DataFrame(records)\n",
    "        list_all.append(df)\n"
   ]
  },
  {
   "cell_type": "code",
   "execution_count": 7,
   "metadata": {},
   "outputs": [
    {
     "data": {
      "text/html": [
       "<div>\n",
       "<style scoped>\n",
       "    .dataframe tbody tr th:only-of-type {\n",
       "        vertical-align: middle;\n",
       "    }\n",
       "\n",
       "    .dataframe tbody tr th {\n",
       "        vertical-align: top;\n",
       "    }\n",
       "\n",
       "    .dataframe thead th {\n",
       "        text-align: right;\n",
       "    }\n",
       "</style>\n",
       "<table border=\"1\" class=\"dataframe\">\n",
       "  <thead>\n",
       "    <tr style=\"text-align: right;\">\n",
       "      <th></th>\n",
       "      <th>id</th>\n",
       "      <th>ts</th>\n",
       "      <th>sys_id</th>\n",
       "      <th>nes</th>\n",
       "    </tr>\n",
       "  </thead>\n",
       "  <tbody>\n",
       "    <tr>\n",
       "      <th>0</th>\n",
       "      <td>ACI-1832-01-01-a-i0125</td>\n",
       "      <td>2024-08-14T09:08:18Z</td>\n",
       "      <td>dbmdz_bert_base_historic_multilingual_de_and_fr</td>\n",
       "      <td>[]</td>\n",
       "    </tr>\n",
       "    <tr>\n",
       "      <th>1</th>\n",
       "      <td>ACI-1832-01-01-a-i0126</td>\n",
       "      <td>2024-08-14T09:08:22Z</td>\n",
       "      <td>dbmdz_bert_base_historic_multilingual_de_and_fr</td>\n",
       "      <td>[]</td>\n",
       "    </tr>\n",
       "    <tr>\n",
       "      <th>2</th>\n",
       "      <td>ACI-1832-01-01-a-i0127</td>\n",
       "      <td>2024-08-14T09:08:25Z</td>\n",
       "      <td>dbmdz_bert_base_historic_multilingual_de_and_fr</td>\n",
       "      <td>[]</td>\n",
       "    </tr>\n",
       "    <tr>\n",
       "      <th>3</th>\n",
       "      <td>ACI-1832-01-01-a-i0128</td>\n",
       "      <td>2024-08-14T09:08:28Z</td>\n",
       "      <td>dbmdz_bert_base_historic_multilingual_de_and_fr</td>\n",
       "      <td>[]</td>\n",
       "    </tr>\n",
       "    <tr>\n",
       "      <th>4</th>\n",
       "      <td>ACI-1832-01-01-a-i0129</td>\n",
       "      <td>2024-08-14T09:08:32Z</td>\n",
       "      <td>dbmdz_bert_base_historic_multilingual_de_and_fr</td>\n",
       "      <td>[]</td>\n",
       "    </tr>\n",
       "    <tr>\n",
       "      <th>...</th>\n",
       "      <td>...</td>\n",
       "      <td>...</td>\n",
       "      <td>...</td>\n",
       "      <td>...</td>\n",
       "    </tr>\n",
       "    <tr>\n",
       "      <th>137</th>\n",
       "      <td>ACI-1832-01-01-a-i0014</td>\n",
       "      <td>2024-08-14T09:07:49Z</td>\n",
       "      <td>dbmdz_bert_base_historic_multilingual_de_and_fr</td>\n",
       "      <td>[]</td>\n",
       "    </tr>\n",
       "    <tr>\n",
       "      <th>138</th>\n",
       "      <td>ACI-1832-01-01-a-i0015</td>\n",
       "      <td>2024-08-14T09:07:50Z</td>\n",
       "      <td>dbmdz_bert_base_historic_multilingual_de_and_fr</td>\n",
       "      <td>[]</td>\n",
       "    </tr>\n",
       "    <tr>\n",
       "      <th>139</th>\n",
       "      <td>ACI-1832-01-01-a-i0016</td>\n",
       "      <td>2024-08-14T09:07:52Z</td>\n",
       "      <td>dbmdz_bert_base_historic_multilingual_de_and_fr</td>\n",
       "      <td>[]</td>\n",
       "    </tr>\n",
       "    <tr>\n",
       "      <th>140</th>\n",
       "      <td>ACI-1832-01-01-a-i0017</td>\n",
       "      <td>2024-08-14T09:07:55Z</td>\n",
       "      <td>dbmdz_bert_base_historic_multilingual_de_and_fr</td>\n",
       "      <td>[]</td>\n",
       "    </tr>\n",
       "    <tr>\n",
       "      <th>141</th>\n",
       "      <td>ACI-1832-01-01-a-i0018</td>\n",
       "      <td>2024-08-14T09:07:57Z</td>\n",
       "      <td>dbmdz_bert_base_historic_multilingual_de_and_fr</td>\n",
       "      <td>[]</td>\n",
       "    </tr>\n",
       "  </tbody>\n",
       "</table>\n",
       "<p>142 rows × 4 columns</p>\n",
       "</div>"
      ],
      "text/plain": [
       "                         id                    ts  \\\n",
       "0    ACI-1832-01-01-a-i0125  2024-08-14T09:08:18Z   \n",
       "1    ACI-1832-01-01-a-i0126  2024-08-14T09:08:22Z   \n",
       "2    ACI-1832-01-01-a-i0127  2024-08-14T09:08:25Z   \n",
       "3    ACI-1832-01-01-a-i0128  2024-08-14T09:08:28Z   \n",
       "4    ACI-1832-01-01-a-i0129  2024-08-14T09:08:32Z   \n",
       "..                      ...                   ...   \n",
       "137  ACI-1832-01-01-a-i0014  2024-08-14T09:07:49Z   \n",
       "138  ACI-1832-01-01-a-i0015  2024-08-14T09:07:50Z   \n",
       "139  ACI-1832-01-01-a-i0016  2024-08-14T09:07:52Z   \n",
       "140  ACI-1832-01-01-a-i0017  2024-08-14T09:07:55Z   \n",
       "141  ACI-1832-01-01-a-i0018  2024-08-14T09:07:57Z   \n",
       "\n",
       "                                              sys_id nes  \n",
       "0    dbmdz_bert_base_historic_multilingual_de_and_fr  []  \n",
       "1    dbmdz_bert_base_historic_multilingual_de_and_fr  []  \n",
       "2    dbmdz_bert_base_historic_multilingual_de_and_fr  []  \n",
       "3    dbmdz_bert_base_historic_multilingual_de_and_fr  []  \n",
       "4    dbmdz_bert_base_historic_multilingual_de_and_fr  []  \n",
       "..                                               ...  ..  \n",
       "137  dbmdz_bert_base_historic_multilingual_de_and_fr  []  \n",
       "138  dbmdz_bert_base_historic_multilingual_de_and_fr  []  \n",
       "139  dbmdz_bert_base_historic_multilingual_de_and_fr  []  \n",
       "140  dbmdz_bert_base_historic_multilingual_de_and_fr  []  \n",
       "141  dbmdz_bert_base_historic_multilingual_de_and_fr  []  \n",
       "\n",
       "[142 rows x 4 columns]"
      ]
     },
     "execution_count": 7,
     "metadata": {},
     "output_type": "execute_result"
    }
   ],
   "source": [
    "list_all[0]"
   ]
  },
  {
   "cell_type": "code",
   "execution_count": 8,
   "metadata": {
    "scrolled": true
   },
   "outputs": [
    {
     "name": "stderr",
     "output_type": "stream",
     "text": [
      "Concatenating DataFrames: 100%|████████████████████████████████████████████████████████████████████████████████████████████████████████████████████████████████████████████████████████████████████████| 3711/3711 [00:00<00:00, 2032788.58it/s]\n"
     ]
    },
    {
     "data": {
      "text/html": [
       "<div>\n",
       "<style scoped>\n",
       "    .dataframe tbody tr th:only-of-type {\n",
       "        vertical-align: middle;\n",
       "    }\n",
       "\n",
       "    .dataframe tbody tr th {\n",
       "        vertical-align: top;\n",
       "    }\n",
       "\n",
       "    .dataframe thead th {\n",
       "        text-align: right;\n",
       "    }\n",
       "</style>\n",
       "<table border=\"1\" class=\"dataframe\">\n",
       "  <thead>\n",
       "    <tr style=\"text-align: right;\">\n",
       "      <th></th>\n",
       "      <th>id</th>\n",
       "      <th>ts</th>\n",
       "      <th>sys_id</th>\n",
       "      <th>nes</th>\n",
       "    </tr>\n",
       "  </thead>\n",
       "  <tbody>\n",
       "    <tr>\n",
       "      <th>0</th>\n",
       "      <td>ACI-1832-01-01-a-i0125</td>\n",
       "      <td>2024-08-14T09:08:18Z</td>\n",
       "      <td>dbmdz_bert_base_historic_multilingual_de_and_fr</td>\n",
       "      <td>[]</td>\n",
       "    </tr>\n",
       "    <tr>\n",
       "      <th>1</th>\n",
       "      <td>ACI-1832-01-01-a-i0126</td>\n",
       "      <td>2024-08-14T09:08:22Z</td>\n",
       "      <td>dbmdz_bert_base_historic_multilingual_de_and_fr</td>\n",
       "      <td>[]</td>\n",
       "    </tr>\n",
       "    <tr>\n",
       "      <th>2</th>\n",
       "      <td>ACI-1832-01-01-a-i0127</td>\n",
       "      <td>2024-08-14T09:08:25Z</td>\n",
       "      <td>dbmdz_bert_base_historic_multilingual_de_and_fr</td>\n",
       "      <td>[]</td>\n",
       "    </tr>\n",
       "    <tr>\n",
       "      <th>3</th>\n",
       "      <td>ACI-1832-01-01-a-i0128</td>\n",
       "      <td>2024-08-14T09:08:28Z</td>\n",
       "      <td>dbmdz_bert_base_historic_multilingual_de_and_fr</td>\n",
       "      <td>[]</td>\n",
       "    </tr>\n",
       "    <tr>\n",
       "      <th>4</th>\n",
       "      <td>ACI-1832-01-01-a-i0129</td>\n",
       "      <td>2024-08-14T09:08:32Z</td>\n",
       "      <td>dbmdz_bert_base_historic_multilingual_de_and_fr</td>\n",
       "      <td>[]</td>\n",
       "    </tr>\n",
       "    <tr>\n",
       "      <th>5</th>\n",
       "      <td>ACI-1832-01-01-a-i0130</td>\n",
       "      <td>2024-08-14T09:08:35Z</td>\n",
       "      <td>dbmdz_bert_base_historic_multilingual_de_and_fr</td>\n",
       "      <td>[]</td>\n",
       "    </tr>\n",
       "    <tr>\n",
       "      <th>6</th>\n",
       "      <td>ACI-1832-01-01-a-i0131</td>\n",
       "      <td>2024-08-14T09:08:38Z</td>\n",
       "      <td>dbmdz_bert_base_historic_multilingual_de_and_fr</td>\n",
       "      <td>[]</td>\n",
       "    </tr>\n",
       "    <tr>\n",
       "      <th>7</th>\n",
       "      <td>ACI-1832-01-01-a-i0076</td>\n",
       "      <td>2024-08-14T09:07:56Z</td>\n",
       "      <td>dbmdz_bert_base_historic_multilingual_de_and_fr</td>\n",
       "      <td>[]</td>\n",
       "    </tr>\n",
       "    <tr>\n",
       "      <th>8</th>\n",
       "      <td>ACI-1832-01-01-a-i0077</td>\n",
       "      <td>2024-08-14T09:07:57Z</td>\n",
       "      <td>dbmdz_bert_base_historic_multilingual_de_and_fr</td>\n",
       "      <td>[]</td>\n",
       "    </tr>\n",
       "    <tr>\n",
       "      <th>9</th>\n",
       "      <td>ACI-1832-01-01-a-i0078</td>\n",
       "      <td>2024-08-14T09:08:00Z</td>\n",
       "      <td>dbmdz_bert_base_historic_multilingual_de_and_fr</td>\n",
       "      <td>[]</td>\n",
       "    </tr>\n",
       "    <tr>\n",
       "      <th>10</th>\n",
       "      <td>ACI-1832-01-01-a-i0079</td>\n",
       "      <td>2024-08-14T09:08:03Z</td>\n",
       "      <td>dbmdz_bert_base_historic_multilingual_de_and_fr</td>\n",
       "      <td>[]</td>\n",
       "    </tr>\n",
       "    <tr>\n",
       "      <th>11</th>\n",
       "      <td>ACI-1832-01-01-a-i0080</td>\n",
       "      <td>2024-08-14T09:08:05Z</td>\n",
       "      <td>dbmdz_bert_base_historic_multilingual_de_and_fr</td>\n",
       "      <td>[]</td>\n",
       "    </tr>\n",
       "    <tr>\n",
       "      <th>12</th>\n",
       "      <td>ACI-1832-01-01-a-i0081</td>\n",
       "      <td>2024-08-14T09:08:07Z</td>\n",
       "      <td>dbmdz_bert_base_historic_multilingual_de_and_fr</td>\n",
       "      <td>[]</td>\n",
       "    </tr>\n",
       "    <tr>\n",
       "      <th>13</th>\n",
       "      <td>ACI-1832-01-01-a-i0082</td>\n",
       "      <td>2024-08-14T09:08:11Z</td>\n",
       "      <td>dbmdz_bert_base_historic_multilingual_de_and_fr</td>\n",
       "      <td>[{'type': 'org.ent.pressagency.unk', 'surface'...</td>\n",
       "    </tr>\n",
       "  </tbody>\n",
       "</table>\n",
       "</div>"
      ],
      "text/plain": [
       "                        id                    ts  \\\n",
       "0   ACI-1832-01-01-a-i0125  2024-08-14T09:08:18Z   \n",
       "1   ACI-1832-01-01-a-i0126  2024-08-14T09:08:22Z   \n",
       "2   ACI-1832-01-01-a-i0127  2024-08-14T09:08:25Z   \n",
       "3   ACI-1832-01-01-a-i0128  2024-08-14T09:08:28Z   \n",
       "4   ACI-1832-01-01-a-i0129  2024-08-14T09:08:32Z   \n",
       "5   ACI-1832-01-01-a-i0130  2024-08-14T09:08:35Z   \n",
       "6   ACI-1832-01-01-a-i0131  2024-08-14T09:08:38Z   \n",
       "7   ACI-1832-01-01-a-i0076  2024-08-14T09:07:56Z   \n",
       "8   ACI-1832-01-01-a-i0077  2024-08-14T09:07:57Z   \n",
       "9   ACI-1832-01-01-a-i0078  2024-08-14T09:08:00Z   \n",
       "10  ACI-1832-01-01-a-i0079  2024-08-14T09:08:03Z   \n",
       "11  ACI-1832-01-01-a-i0080  2024-08-14T09:08:05Z   \n",
       "12  ACI-1832-01-01-a-i0081  2024-08-14T09:08:07Z   \n",
       "13  ACI-1832-01-01-a-i0082  2024-08-14T09:08:11Z   \n",
       "\n",
       "                                             sys_id  \\\n",
       "0   dbmdz_bert_base_historic_multilingual_de_and_fr   \n",
       "1   dbmdz_bert_base_historic_multilingual_de_and_fr   \n",
       "2   dbmdz_bert_base_historic_multilingual_de_and_fr   \n",
       "3   dbmdz_bert_base_historic_multilingual_de_and_fr   \n",
       "4   dbmdz_bert_base_historic_multilingual_de_and_fr   \n",
       "5   dbmdz_bert_base_historic_multilingual_de_and_fr   \n",
       "6   dbmdz_bert_base_historic_multilingual_de_and_fr   \n",
       "7   dbmdz_bert_base_historic_multilingual_de_and_fr   \n",
       "8   dbmdz_bert_base_historic_multilingual_de_and_fr   \n",
       "9   dbmdz_bert_base_historic_multilingual_de_and_fr   \n",
       "10  dbmdz_bert_base_historic_multilingual_de_and_fr   \n",
       "11  dbmdz_bert_base_historic_multilingual_de_and_fr   \n",
       "12  dbmdz_bert_base_historic_multilingual_de_and_fr   \n",
       "13  dbmdz_bert_base_historic_multilingual_de_and_fr   \n",
       "\n",
       "                                                  nes  \n",
       "0                                                  []  \n",
       "1                                                  []  \n",
       "2                                                  []  \n",
       "3                                                  []  \n",
       "4                                                  []  \n",
       "5                                                  []  \n",
       "6                                                  []  \n",
       "7                                                  []  \n",
       "8                                                  []  \n",
       "9                                                  []  \n",
       "10                                                 []  \n",
       "11                                                 []  \n",
       "12                                                 []  \n",
       "13  [{'type': 'org.ent.pressagency.unk', 'surface'...  "
      ]
     },
     "execution_count": 8,
     "metadata": {},
     "output_type": "execute_result"
    }
   ],
   "source": [
    "mentions_all = pd.concat(tqdm(list_all, desc=\"Concatenating DataFrames\"), axis=0, ignore_index=True)\n",
    "\n",
    "# Display the first 14 rows of the resulting DataFrame\n",
    "mentions_all.head(14)\n"
   ]
  },
  {
   "cell_type": "code",
   "execution_count": 9,
   "metadata": {},
   "outputs": [
    {
     "data": {
      "text/plain": [
       "24443413"
      ]
     },
     "execution_count": 9,
     "metadata": {},
     "output_type": "execute_result"
    }
   ],
   "source": [
    "len(mentions_all)"
   ]
  },
  {
   "cell_type": "code",
   "execution_count": null,
   "metadata": {},
   "outputs": [],
   "source": [
    "len(mentions_all)"
   ]
  },
  {
   "cell_type": "code",
   "execution_count": 15,
   "metadata": {},
   "outputs": [
    {
     "data": {
      "text/plain": [
       "20392431"
      ]
     },
     "execution_count": 15,
     "metadata": {},
     "output_type": "execute_result"
    }
   ],
   "source": [
    "len(mentions_all)"
   ]
  },
  {
   "cell_type": "code",
   "execution_count": 49,
   "metadata": {},
   "outputs": [
    {
     "data": {
      "text/plain": [
       "4886739"
      ]
     },
     "execution_count": 49,
     "metadata": {},
     "output_type": "execute_result"
    }
   ],
   "source": [
    "len(mentions_all)"
   ]
  },
  {
   "cell_type": "code",
   "execution_count": 16,
   "metadata": {},
   "outputs": [
    {
     "data": {
      "text/plain": [
       "[{'type': 'org.ent.pressagency.unk',\n",
       "  'surface': '-J.',\n",
       "  'qid': 'NIL',\n",
       "  'lOffset': 150,\n",
       "  'rOffset': 153,\n",
       "  'id': '150:153:org.ent.pressagency.unk:dbmdz_bert_base_historic_multilingual_de_and_fr',\n",
       "  'wkd_id': 'NIL',\n",
       "  'wkpedia_pagename': 'NIL',\n",
       "  'confidence_ner': 98.89,\n",
       "  'confidence_nel': 100.0},\n",
       " {'type': 'org.ent.pressagency.unk',\n",
       "  'surface': '-J.',\n",
       "  'qid': 'NIL',\n",
       "  'lOffset': 654,\n",
       "  'rOffset': 657,\n",
       "  'id': '654:657:org.ent.pressagency.unk:dbmdz_bert_base_historic_multilingual_de_and_fr',\n",
       "  'wkd_id': 'NIL',\n",
       "  'wkpedia_pagename': 'NIL',\n",
       "  'confidence_ner': 93.47,\n",
       "  'confidence_nel': 100.0}]"
      ]
     },
     "execution_count": 16,
     "metadata": {},
     "output_type": "execute_result"
    }
   ],
   "source": [
    "mentions_all.iloc[13]['nes']"
   ]
  },
  {
   "cell_type": "code",
   "execution_count": null,
   "metadata": {},
   "outputs": [
    {
     "name": "stderr",
     "output_type": "stream",
     "text": [
      "  2%|████▍                                                                                                                                                                                         | 569336/24443413 [04:58<7:22:05, 900.04it/s]"
     ]
    }
   ],
   "source": [
    "import pandas as pd\n",
    "\n",
    "# Function to extract details from the 'nes' list\n",
    "def extract_nes_info(nes, id_str):\n",
    "    parts = id_str.split('-')\n",
    "    newspaper = parts[0]\n",
    "    date_str = f\"{parts[1]}-{parts[2]}-{parts[3]}\"\n",
    "    \n",
    "    extracted_data = []\n",
    "    for entry in nes:\n",
    "        extracted_data.append({\n",
    "            'entity': entry.get('type', ''),\n",
    "            'surface': entry.get('surface', ''),\n",
    "            'qid': entry.get('qid', ''),\n",
    "            'lSentenceOffset': entry.get('lOffset', ''),\n",
    "            'rSentenceOffset': entry.get('rOffset', ''),\n",
    "            'sentence_idx': '',  # Assume this needs to be calculated or provided\n",
    "            'lArticleOffset': entry.get('lOffset', ''),\n",
    "            'rArticleOffset': entry.get('rOffset', ''),\n",
    "            'id': entry.get('id', ''),\n",
    "            'article': id_str,\n",
    "            'newspaper': newspaper,\n",
    "            'date': date_str,\n",
    "            'year': pd.to_datetime(date_str).year,\n",
    "            'decade': (pd.to_datetime(date_str).year // 10) * 10,\n",
    "            'agency': entry.get('type', '').split('.')[-1],\n",
    "            'language': 'unknown',  # Assuming language is not given\n",
    "            'country': 'unknown'    # Assuming country is not given\n",
    "        })\n",
    "    return extracted_data\n",
    "\n",
    "# Initialize an empty list to collect all the processed data\n",
    "all_extracted_data = []\n",
    "\n",
    "from tqdm import tqdm\n",
    "# Process each row one by one\n",
    "for index, row in tqdm(mentions_all.iterrows(), total=len(mentions_all)):\n",
    "    nes_info = extract_nes_info(row['nes'], row['id'])\n",
    "    all_extracted_data.extend(nes_info)\n",
    "\n",
    "# Create the new DataFrame from the extracted data\n",
    "new_df = pd.DataFrame(all_extracted_data)\n",
    "\n",
    "new_df.head()"
   ]
  },
  {
   "cell_type": "code",
   "execution_count": 10,
   "metadata": {},
   "outputs": [
    {
     "data": {
      "text/plain": [
       "6692454"
      ]
     },
     "execution_count": 10,
     "metadata": {},
     "output_type": "execute_result"
    }
   ],
   "source": [
    "len(new_df)"
   ]
  },
  {
   "cell_type": "code",
   "execution_count": 11,
   "metadata": {},
   "outputs": [
    {
     "data": {
      "text/plain": [
       "6692454"
      ]
     },
     "execution_count": 11,
     "metadata": {},
     "output_type": "execute_result"
    }
   ],
   "source": [
    "len(new_df)"
   ]
  },
  {
   "cell_type": "code",
   "execution_count": 12,
   "metadata": {},
   "outputs": [
    {
     "data": {
      "text/plain": [
       "'data/'"
      ]
     },
     "execution_count": 12,
     "metadata": {},
     "output_type": "execute_result"
    }
   ],
   "source": [
    "output_path"
   ]
  },
  {
   "cell_type": "code",
   "execution_count": 13,
   "metadata": {},
   "outputs": [],
   "source": [
    "pd.to_pickle(new_df, output_path + \"mentions.pkl\")\n"
   ]
  },
  {
   "cell_type": "code",
   "execution_count": 14,
   "metadata": {},
   "outputs": [],
   "source": [
    "articles = new_df.groupby(['article']).agg({\n",
    "    'agency': list,\n",
    "    'surface': list,\n",
    "    'id': list,\n",
    "    'qid': list,\n",
    "    'language': 'first',\n",
    "    'newspaper': 'first',\n",
    "    'country': 'first',\n",
    "    'year': 'first',\n",
    "    'decade': 'first',\n",
    "}).reset_index()"
   ]
  },
  {
   "cell_type": "code",
   "execution_count": 15,
   "metadata": {},
   "outputs": [],
   "source": [
    "os.makedirs(output_path, exist_ok=True)\n",
    "pd.to_pickle(articles, output_path + \"article.pkl\")\n"
   ]
  },
  {
   "cell_type": "code",
   "execution_count": null,
   "metadata": {},
   "outputs": [],
   "source": []
  },
  {
   "cell_type": "code",
   "execution_count": null,
   "metadata": {},
   "outputs": [],
   "source": [
    "len(articles), len(new_df)"
   ]
  },
  {
   "cell_type": "code",
   "execution_count": 6,
   "metadata": {},
   "outputs": [
    {
     "name": "stdout",
     "output_type": "stream",
     "text": [
      "Number of files contained in folder 00: 100\n",
      "Number of files contained in folder 01: 100\n",
      "Number of files contained in folder 02: 100\n",
      "Number of files contained in folder 03: 100\n",
      "Number of files contained in folder 04: 100\n",
      "Number of files contained in folder 05: 100\n",
      "Number of files contained in folder 06: 100\n",
      "Number of files contained in folder 07: 100\n",
      "Number of files contained in folder 08: 100\n",
      "Number of files contained in folder 09: 100\n",
      "Number of files contained in folder 10: 100\n",
      "Number of files contained in folder 11: 100\n",
      "Number of files contained in folder 12: 100\n",
      "Number of files contained in folder 13: 100\n",
      "Number of files contained in folder 14: 100\n",
      "Number of files contained in folder 15: 100\n",
      "Number of files contained in folder 16: 100\n",
      "Number of files contained in folder 17: 100\n",
      "Number of files contained in folder 18: 100\n",
      "Number of files contained in folder 19: 100\n",
      "Number of files contained in folder 20: 100\n",
      "Dropped 237520 rows which contain pers.ind.articleauthor mention\n"
     ]
    }
   ],
   "source": [
    "\n",
    "\n",
    "# #dropping articleauthor\n",
    "# len_before = len(mentions_all)\n",
    "# mentions_all = mentions_all[mentions_all['entity'] != \"pers.ind.articleauthor\"]\n",
    "# print(f\"Dropped {len_before - len(mentions_all)} rows which contain pers.ind.articleauthor mention\")\n",
    "\n",
    "# #infer new columns\n",
    "# mentions_all['split_id'] = mentions_all['id'].str.split(\"-\")\n",
    "# mentions_all['article'] = mentions_all['id'].apply(lambda x: x.split(\":\")[0])\n",
    "# mentions_all['newspaper'] = mentions_all['split_id'].apply(lambda x: x[0])\n",
    "# mentions_all['date'] = mentions_all['split_id'].apply(lambda x: \"-\".join(x[1:4]))\n",
    "# mentions_all['year'] = mentions_all['split_id'].apply(lambda x: x[1]).astype(int)\n",
    "# mentions_all['decade'] = mentions_all['year'] // 10 * 10\n",
    "# mentions_all['agency'] = mentions_all['entity'].str.replace(\"org.ent.pressagency.\", \"\", regex=False)\n",
    "# mentions_all['language'] = mentions_all['id'].apply(lambda x: x[-2:])\n",
    "# #newspapers from Switzerland are uppercase, from Luxembourg lowercase\n",
    "# mentions_all['country'] = [\"CH\" if entry.isupper() else \"LU\" for entry in mentions_all['newspaper']]\n",
    "# #correct typo\n",
    "# #mentions_all['agency'] = mentions_all['agency'].str.replace(\"ATB\", \"ATS\", regex=False)\n",
    "# mentions_all = mentions_all.drop(columns='split_id')"
   ]
  },
  {
   "cell_type": "code",
   "execution_count": 7,
   "metadata": {},
   "outputs": [
    {
     "data": {
      "text/html": [
       "<div>\n",
       "<style scoped>\n",
       "    .dataframe tbody tr th:only-of-type {\n",
       "        vertical-align: middle;\n",
       "    }\n",
       "\n",
       "    .dataframe tbody tr th {\n",
       "        vertical-align: top;\n",
       "    }\n",
       "\n",
       "    .dataframe thead th {\n",
       "        text-align: right;\n",
       "    }\n",
       "</style>\n",
       "<table border=\"1\" class=\"dataframe\">\n",
       "  <thead>\n",
       "    <tr style=\"text-align: right;\">\n",
       "      <th></th>\n",
       "      <th>entity</th>\n",
       "      <th>surface</th>\n",
       "      <th>qid</th>\n",
       "      <th>lSentenceOffset</th>\n",
       "      <th>rSentenceOffset</th>\n",
       "      <th>sentence_idx:</th>\n",
       "      <th>lArticleOffset</th>\n",
       "      <th>rArticleOffset</th>\n",
       "      <th>id</th>\n",
       "      <th>article</th>\n",
       "      <th>newspaper</th>\n",
       "      <th>date</th>\n",
       "      <th>year</th>\n",
       "      <th>decade</th>\n",
       "      <th>agency</th>\n",
       "      <th>language</th>\n",
       "      <th>country</th>\n",
       "    </tr>\n",
       "  </thead>\n",
       "  <tbody>\n",
       "    <tr>\n",
       "      <th>0</th>\n",
       "      <td>org.ent.pressagency.Havas</td>\n",
       "      <td>Havas</td>\n",
       "      <td>Q2826560</td>\n",
       "      <td>30</td>\n",
       "      <td>35</td>\n",
       "      <td>1</td>\n",
       "      <td>84</td>\n",
       "      <td>89</td>\n",
       "      <td>LLE-1939-11-27-a-i0076:1:30:35:84:89:newsag:be...</td>\n",
       "      <td>LLE-1939-11-27-a-i0076</td>\n",
       "      <td>LLE</td>\n",
       "      <td>1939-11-27</td>\n",
       "      <td>1939</td>\n",
       "      <td>1930</td>\n",
       "      <td>Havas</td>\n",
       "      <td>fr</td>\n",
       "      <td>CH</td>\n",
       "    </tr>\n",
       "    <tr>\n",
       "      <th>1</th>\n",
       "      <td>org.ent.pressagency.UP-UPI</td>\n",
       "      <td>United Press</td>\n",
       "      <td>Q493845</td>\n",
       "      <td>2</td>\n",
       "      <td>14</td>\n",
       "      <td>7</td>\n",
       "      <td>595</td>\n",
       "      <td>607</td>\n",
       "      <td>LLE-1939-11-27-a-i0076:7:2:14:595:607:newsag:b...</td>\n",
       "      <td>LLE-1939-11-27-a-i0076</td>\n",
       "      <td>LLE</td>\n",
       "      <td>1939-11-27</td>\n",
       "      <td>1939</td>\n",
       "      <td>1930</td>\n",
       "      <td>UP-UPI</td>\n",
       "      <td>fr</td>\n",
       "      <td>CH</td>\n",
       "    </tr>\n",
       "    <tr>\n",
       "      <th>2</th>\n",
       "      <td>org.ent.pressagency.UP-UPI</td>\n",
       "      <td>United Press</td>\n",
       "      <td>Q493845</td>\n",
       "      <td>0</td>\n",
       "      <td>12</td>\n",
       "      <td>10</td>\n",
       "      <td>1364</td>\n",
       "      <td>1376</td>\n",
       "      <td>LLE-1939-11-27-a-i0076:10:0:12:1364:1376:newsa...</td>\n",
       "      <td>LLE-1939-11-27-a-i0076</td>\n",
       "      <td>LLE</td>\n",
       "      <td>1939-11-27</td>\n",
       "      <td>1939</td>\n",
       "      <td>1930</td>\n",
       "      <td>UP-UPI</td>\n",
       "      <td>fr</td>\n",
       "      <td>CH</td>\n",
       "    </tr>\n",
       "    <tr>\n",
       "      <th>3</th>\n",
       "      <td>org.ent.pressagency.UP-UPI</td>\n",
       "      <td>United Press</td>\n",
       "      <td>Q493845</td>\n",
       "      <td>2</td>\n",
       "      <td>14</td>\n",
       "      <td>16</td>\n",
       "      <td>2181</td>\n",
       "      <td>2193</td>\n",
       "      <td>LLE-1939-11-27-a-i0076:16:2:14:2181:2193:newsa...</td>\n",
       "      <td>LLE-1939-11-27-a-i0076</td>\n",
       "      <td>LLE</td>\n",
       "      <td>1939-11-27</td>\n",
       "      <td>1939</td>\n",
       "      <td>1930</td>\n",
       "      <td>UP-UPI</td>\n",
       "      <td>fr</td>\n",
       "      <td>CH</td>\n",
       "    </tr>\n",
       "    <tr>\n",
       "      <th>4</th>\n",
       "      <td>org.ent.pressagency.UP-UPI</td>\n",
       "      <td>Press</td>\n",
       "      <td>Q493845</td>\n",
       "      <td>48</td>\n",
       "      <td>53</td>\n",
       "      <td>18</td>\n",
       "      <td>2531</td>\n",
       "      <td>2536</td>\n",
       "      <td>LLE-1939-11-27-a-i0076:18:48:53:2531:2536:news...</td>\n",
       "      <td>LLE-1939-11-27-a-i0076</td>\n",
       "      <td>LLE</td>\n",
       "      <td>1939-11-27</td>\n",
       "      <td>1939</td>\n",
       "      <td>1930</td>\n",
       "      <td>UP-UPI</td>\n",
       "      <td>fr</td>\n",
       "      <td>CH</td>\n",
       "    </tr>\n",
       "  </tbody>\n",
       "</table>\n",
       "</div>"
      ],
      "text/plain": [
       "                       entity       surface       qid  lSentenceOffset  \\\n",
       "0   org.ent.pressagency.Havas         Havas  Q2826560               30   \n",
       "1  org.ent.pressagency.UP-UPI  United Press   Q493845                2   \n",
       "2  org.ent.pressagency.UP-UPI  United Press   Q493845                0   \n",
       "3  org.ent.pressagency.UP-UPI  United Press   Q493845                2   \n",
       "4  org.ent.pressagency.UP-UPI         Press   Q493845               48   \n",
       "\n",
       "   rSentenceOffset  sentence_idx:  lArticleOffset  rArticleOffset  \\\n",
       "0               35              1              84              89   \n",
       "1               14              7             595             607   \n",
       "2               12             10            1364            1376   \n",
       "3               14             16            2181            2193   \n",
       "4               53             18            2531            2536   \n",
       "\n",
       "                                                  id                 article  \\\n",
       "0  LLE-1939-11-27-a-i0076:1:30:35:84:89:newsag:be...  LLE-1939-11-27-a-i0076   \n",
       "1  LLE-1939-11-27-a-i0076:7:2:14:595:607:newsag:b...  LLE-1939-11-27-a-i0076   \n",
       "2  LLE-1939-11-27-a-i0076:10:0:12:1364:1376:newsa...  LLE-1939-11-27-a-i0076   \n",
       "3  LLE-1939-11-27-a-i0076:16:2:14:2181:2193:newsa...  LLE-1939-11-27-a-i0076   \n",
       "4  LLE-1939-11-27-a-i0076:18:48:53:2531:2536:news...  LLE-1939-11-27-a-i0076   \n",
       "\n",
       "  newspaper        date  year  decade  agency language country  \n",
       "0       LLE  1939-11-27  1939    1930   Havas       fr      CH  \n",
       "1       LLE  1939-11-27  1939    1930  UP-UPI       fr      CH  \n",
       "2       LLE  1939-11-27  1939    1930  UP-UPI       fr      CH  \n",
       "3       LLE  1939-11-27  1939    1930  UP-UPI       fr      CH  \n",
       "4       LLE  1939-11-27  1939    1930  UP-UPI       fr      CH  "
      ]
     },
     "execution_count": 7,
     "metadata": {},
     "output_type": "execute_result"
    }
   ],
   "source": [
    "mentions_all.head()"
   ]
  },
  {
   "cell_type": "code",
   "execution_count": 8,
   "metadata": {},
   "outputs": [
    {
     "name": "stdout",
     "output_type": "stream",
     "text": [
      "Languages in corpus: ['fr' 'de']\n"
     ]
    }
   ],
   "source": [
    "# print(f\"Languages in corpus: {mentions_all['language'].unique()}\")\n",
    "# mentions_fr = mentions_all[mentions_all['language']==\"fr\"]\n",
    "# mentions_de = mentions_all[mentions_all['language']==\"de\"]"
   ]
  },
  {
   "cell_type": "code",
   "execution_count": 9,
   "metadata": {},
   "outputs": [],
   "source": [
    "# articles = mentions_all.groupby(['article']).agg({\n",
    "#     'agency': list,\n",
    "#     'surface': list,\n",
    "#     'id': list,\n",
    "#     'sentence_idx:': list,\n",
    "#     'language': 'first',\n",
    "#     'newspaper': 'first',\n",
    "#     'country': 'first',\n",
    "#     'year': 'first',\n",
    "#     'decade': 'first',\n",
    "# }).reset_index()\n",
    "\n",
    "# articles_fr = articles[articles['language']==\"fr\"]\n",
    "# articles_de = articles[articles['language']==\"de\"]"
   ]
  },
  {
   "cell_type": "code",
   "execution_count": 10,
   "metadata": {},
   "outputs": [
    {
     "data": {
      "text/html": [
       "<div>\n",
       "<style scoped>\n",
       "    .dataframe tbody tr th:only-of-type {\n",
       "        vertical-align: middle;\n",
       "    }\n",
       "\n",
       "    .dataframe tbody tr th {\n",
       "        vertical-align: top;\n",
       "    }\n",
       "\n",
       "    .dataframe thead th {\n",
       "        text-align: right;\n",
       "    }\n",
       "</style>\n",
       "<table border=\"1\" class=\"dataframe\">\n",
       "  <thead>\n",
       "    <tr style=\"text-align: right;\">\n",
       "      <th></th>\n",
       "      <th>article</th>\n",
       "      <th>agency</th>\n",
       "      <th>surface</th>\n",
       "      <th>id</th>\n",
       "      <th>sentence_idx:</th>\n",
       "      <th>language</th>\n",
       "      <th>newspaper</th>\n",
       "      <th>country</th>\n",
       "      <th>year</th>\n",
       "      <th>decade</th>\n",
       "    </tr>\n",
       "  </thead>\n",
       "  <tbody>\n",
       "    <tr>\n",
       "      <th>0</th>\n",
       "      <td>BLB-1846-03-28-a-i0002</td>\n",
       "      <td>[Reuters]</td>\n",
       "      <td>[Reuel]</td>\n",
       "      <td>[BLB-1846-03-28-a-i0002:88:0:5:13580:13585:new...</td>\n",
       "      <td>[88]</td>\n",
       "      <td>de</td>\n",
       "      <td>BLB</td>\n",
       "      <td>CH</td>\n",
       "      <td>1846</td>\n",
       "      <td>1840</td>\n",
       "    </tr>\n",
       "    <tr>\n",
       "      <th>1</th>\n",
       "      <td>BLB-1846-10-10-a-i0003</td>\n",
       "      <td>[Havas]</td>\n",
       "      <td>[Saas]</td>\n",
       "      <td>[BLB-1846-10-10-a-i0003:49:0:4:6901:6905:newsa...</td>\n",
       "      <td>[49]</td>\n",
       "      <td>de</td>\n",
       "      <td>BLB</td>\n",
       "      <td>CH</td>\n",
       "      <td>1846</td>\n",
       "      <td>1840</td>\n",
       "    </tr>\n",
       "    <tr>\n",
       "      <th>2</th>\n",
       "      <td>BLB-1847-02-13-a-i0001</td>\n",
       "      <td>[unk]</td>\n",
       "      <td>[pp]</td>\n",
       "      <td>[BLB-1847-02-13-a-i0001:168:0:2:13072:13074:ne...</td>\n",
       "      <td>[168]</td>\n",
       "      <td>de</td>\n",
       "      <td>BLB</td>\n",
       "      <td>CH</td>\n",
       "      <td>1847</td>\n",
       "      <td>1840</td>\n",
       "    </tr>\n",
       "    <tr>\n",
       "      <th>3</th>\n",
       "      <td>BLB-1847-05-22-a-i0003</td>\n",
       "      <td>[SPK-SMP]</td>\n",
       "      <td>[sp]</td>\n",
       "      <td>[BLB-1847-05-22-a-i0003:37:0:2:2653:2655:newsa...</td>\n",
       "      <td>[37]</td>\n",
       "      <td>de</td>\n",
       "      <td>BLB</td>\n",
       "      <td>CH</td>\n",
       "      <td>1847</td>\n",
       "      <td>1840</td>\n",
       "    </tr>\n",
       "    <tr>\n",
       "      <th>4</th>\n",
       "      <td>BLB-1847-07-03-a-i0001</td>\n",
       "      <td>[SPK-SMP]</td>\n",
       "      <td>[resp]</td>\n",
       "      <td>[BLB-1847-07-03-a-i0001:11:40:44:3285:3289:new...</td>\n",
       "      <td>[11]</td>\n",
       "      <td>de</td>\n",
       "      <td>BLB</td>\n",
       "      <td>CH</td>\n",
       "      <td>1847</td>\n",
       "      <td>1840</td>\n",
       "    </tr>\n",
       "  </tbody>\n",
       "</table>\n",
       "</div>"
      ],
      "text/plain": [
       "                  article     agency  surface  \\\n",
       "0  BLB-1846-03-28-a-i0002  [Reuters]  [Reuel]   \n",
       "1  BLB-1846-10-10-a-i0003    [Havas]   [Saas]   \n",
       "2  BLB-1847-02-13-a-i0001      [unk]     [pp]   \n",
       "3  BLB-1847-05-22-a-i0003  [SPK-SMP]     [sp]   \n",
       "4  BLB-1847-07-03-a-i0001  [SPK-SMP]   [resp]   \n",
       "\n",
       "                                                  id sentence_idx: language  \\\n",
       "0  [BLB-1846-03-28-a-i0002:88:0:5:13580:13585:new...          [88]       de   \n",
       "1  [BLB-1846-10-10-a-i0003:49:0:4:6901:6905:newsa...          [49]       de   \n",
       "2  [BLB-1847-02-13-a-i0001:168:0:2:13072:13074:ne...         [168]       de   \n",
       "3  [BLB-1847-05-22-a-i0003:37:0:2:2653:2655:newsa...          [37]       de   \n",
       "4  [BLB-1847-07-03-a-i0001:11:40:44:3285:3289:new...          [11]       de   \n",
       "\n",
       "  newspaper country  year  decade  \n",
       "0       BLB      CH  1846    1840  \n",
       "1       BLB      CH  1846    1840  \n",
       "2       BLB      CH  1847    1840  \n",
       "3       BLB      CH  1847    1840  \n",
       "4       BLB      CH  1847    1840  "
      ]
     },
     "execution_count": 10,
     "metadata": {},
     "output_type": "execute_result"
    }
   ],
   "source": [
    "articles.head()"
   ]
  },
  {
   "cell_type": "markdown",
   "metadata": {},
   "source": [
    "## Save Data"
   ]
  },
  {
   "cell_type": "code",
   "execution_count": 11,
   "metadata": {},
   "outputs": [],
   "source": [
    "# pd.to_pickle(articles_fr, output_path + \"articles_fr.pkl\")\n",
    "# pd.to_pickle(articles_de, output_path + \"articles_de.pkl\")\n",
    "# pd.to_pickle(mentions_fr, output_path + \"mentions_fr.pkl\")\n",
    "# pd.to_pickle(mentions_de, output_path + \"mentions_de.pkl\")"
   ]
  }
 ],
 "metadata": {
  "kernelspec": {
   "display_name": "Python 3 (ipykernel)",
   "language": "python",
   "name": "python3"
  },
  "language_info": {
   "codemirror_mode": {
    "name": "ipython",
    "version": 3
   },
   "file_extension": ".py",
   "mimetype": "text/x-python",
   "name": "python",
   "nbconvert_exporter": "python",
   "pygments_lexer": "ipython3",
   "version": "3.11.9"
  }
 },
 "nbformat": 4,
 "nbformat_minor": 4
}
